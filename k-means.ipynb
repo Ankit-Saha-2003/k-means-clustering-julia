{
 "cells": [
  {
   "cell_type": "markdown",
   "id": "60e41b7c",
   "metadata": {},
   "source": [
    "# $k$-means clustering (Assignment 6)\n",
    "\n",
    "### Name: Ankit Saha\n",
    "### Roll number: AI21BTECH11004"
   ]
  },
  {
   "cell_type": "code",
   "execution_count": 184,
   "id": "67056aee",
   "metadata": {},
   "outputs": [
    {
     "data": {
      "text/plain": [
       "TaskLocalRNG()"
      ]
     },
     "execution_count": 184,
     "metadata": {},
     "output_type": "execute_result"
    }
   ],
   "source": [
    "using CSV\n",
    "using DataFrames\n",
    "using Random\n",
    "using Plots\n",
    "using PlotlyJS\n",
    "using LaTeXStrings\n",
    "using Dates\n",
    "\n",
    "Random.seed!(0)"
   ]
  },
  {
   "cell_type": "code",
   "execution_count": 185,
   "id": "baa1acd4",
   "metadata": {},
   "outputs": [
    {
     "data": {
      "text/plain": [
       "1.0e-5"
      ]
     },
     "execution_count": 185,
     "metadata": {},
     "output_type": "execute_result"
    }
   ],
   "source": [
    "INFILE = \"dow_jones_index.csv\"\n",
    "OUTFILE = \"output.csv\"\n",
    "CLUSTERS = 4\n",
    "MAX_ITERS = 100\n",
    "EPSILON = 1e-5"
   ]
  },
  {
   "cell_type": "markdown",
   "id": "0dd9f22b",
   "metadata": {},
   "source": [
    "## Data loading"
   ]
  },
  {
   "cell_type": "code",
   "execution_count": 186,
   "id": "06e63d96",
   "metadata": {},
   "outputs": [
    {
     "data": {
      "text/html": [
       "<div><div style = \"float: left;\"><span>750×6 DataFrame</span></div><div style = \"float: right;\"><span style = \"font-style: italic;\">725 rows omitted</span></div><div style = \"clear: both;\"></div></div><div class = \"data-frame\" style = \"overflow-x: scroll;\"><table class = \"data-frame\" style = \"margin-bottom: 6px;\"><thead><tr class = \"header\"><th class = \"rowNumber\" style = \"font-weight: bold; text-align: right;\">Row</th><th style = \"text-align: left;\">Column1</th><th style = \"text-align: left;\">Column2</th><th style = \"text-align: left;\">Column3</th><th style = \"text-align: left;\">Column4</th><th style = \"text-align: left;\">Column5</th><th style = \"text-align: left;\">Column6</th></tr><tr class = \"subheader headerLastRow\"><th class = \"rowNumber\" style = \"font-weight: bold; text-align: right;\"></th><th title = \"Float64\" style = \"text-align: left;\">Float64</th><th title = \"Union{Missing, Float64}\" style = \"text-align: left;\">Float64?</th><th title = \"Union{Missing, Int64}\" style = \"text-align: left;\">Int64?</th><th title = \"Union{Missing, Float64}\" style = \"text-align: left;\">Float64?</th><th title = \"Union{Missing, Int64}\" style = \"text-align: left;\">Int64?</th><th title = \"Union{Missing, Float64}\" style = \"text-align: left;\">Float64?</th></tr></thead><tbody><tr><td class = \"rowNumber\" style = \"font-weight: bold; text-align: right;\">1</td><td style = \"text-align: right;\">16.72</td><td style = \"text-align: right;\">15.78</td><td style = \"text-align: right;\">239655616</td><td style = \"text-align: right;\">3.79267</td><td style = \"text-align: right;\">26</td><td style = \"text-align: right;\">0.182704</td></tr><tr><td class = \"rowNumber\" style = \"font-weight: bold; text-align: right;\">2</td><td style = \"text-align: right;\">16.71</td><td style = \"text-align: right;\">15.64</td><td style = \"text-align: right;\">242963398</td><td style = \"text-align: right;\">-4.42849</td><td style = \"text-align: right;\">19</td><td style = \"text-align: right;\">0.187852</td></tr><tr><td class = \"rowNumber\" style = \"font-weight: bold; text-align: right;\">3</td><td style = \"text-align: right;\">16.38</td><td style = \"text-align: right;\">15.6</td><td style = \"text-align: right;\">138428495</td><td style = \"text-align: right;\">-2.47066</td><td style = \"text-align: right;\">12</td><td style = \"text-align: right;\">0.189994</td></tr><tr><td class = \"rowNumber\" style = \"font-weight: bold; text-align: right;\">4</td><td style = \"text-align: right;\">16.63</td><td style = \"text-align: right;\">15.82</td><td style = \"text-align: right;\">151379173</td><td style = \"text-align: right;\">1.63831</td><td style = \"text-align: right;\">5</td><td style = \"text-align: right;\">0.185989</td></tr><tr><td class = \"rowNumber\" style = \"font-weight: bold; text-align: right;\">5</td><td style = \"text-align: right;\">17.39</td><td style = \"text-align: right;\">16.18</td><td style = \"text-align: right;\">154387761</td><td style = \"text-align: right;\">5.93325</td><td style = \"text-align: right;\">97</td><td style = \"text-align: right;\">0.175029</td></tr><tr><td class = \"rowNumber\" style = \"font-weight: bold; text-align: right;\">6</td><td style = \"text-align: right;\">17.48</td><td style = \"text-align: right;\">16.97</td><td style = \"text-align: right;\">114691279</td><td style = \"text-align: right;\">0.230814</td><td style = \"text-align: right;\">90</td><td style = \"text-align: right;\">0.172712</td></tr><tr><td class = \"rowNumber\" style = \"font-weight: bold; text-align: right;\">7</td><td style = \"text-align: right;\">17.68</td><td style = \"text-align: right;\">17.28</td><td style = \"text-align: right;\">80023895</td><td style = \"text-align: right;\">-0.632547</td><td style = \"text-align: right;\">83</td><td style = \"text-align: right;\">0.173611</td></tr><tr><td class = \"rowNumber\" style = \"font-weight: bold; text-align: right;\">8</td><td style = \"text-align: right;\">17.15</td><td style = \"text-align: right;\">15.96</td><td style = \"text-align: right;\">132981863</td><td style = \"text-align: right;\">-1.76678</td><td style = \"text-align: right;\">76</td><td style = \"text-align: right;\">0.179856</td></tr><tr><td class = \"rowNumber\" style = \"font-weight: bold; text-align: right;\">9</td><td style = \"text-align: right;\">16.94</td><td style = \"text-align: right;\">16.13</td><td style = \"text-align: right;\">109493077</td><td style = \"text-align: right;\">-1.36823</td><td style = \"text-align: right;\">69</td><td style = \"text-align: right;\">0.180941</td></tr><tr><td class = \"rowNumber\" style = \"font-weight: bold; text-align: right;\">10</td><td style = \"text-align: right;\">16.75</td><td style = \"text-align: right;\">15.42</td><td style = \"text-align: right;\">114332562</td><td style = \"text-align: right;\">-3.31725</td><td style = \"text-align: right;\">62</td><td style = \"text-align: right;\">0.187149</td></tr><tr><td class = \"rowNumber\" style = \"font-weight: bold; text-align: right;\">11</td><td style = \"text-align: right;\">16.33</td><td style = \"text-align: right;\">15.43</td><td style = \"text-align: right;\">130374108</td><td style = \"text-align: right;\">1.00313</td><td style = \"text-align: right;\">55</td><td style = \"text-align: right;\">0.18622</td></tr><tr><td class = \"rowNumber\" style = \"font-weight: bold; text-align: right;\">12</td><td style = \"text-align: right;\">17.24</td><td style = \"text-align: right;\">16.26</td><td style = \"text-align: right;\">95550392</td><td style = \"text-align: right;\">4.33455</td><td style = \"text-align: right;\">48</td><td style = \"text-align: right;\">0.175541</td></tr><tr><td class = \"rowNumber\" style = \"font-weight: bold; text-align: right;\">13</td><td style = \"text-align: right;\">45.6</td><td style = \"text-align: right;\">43.11</td><td style = \"text-align: right;\">45102042</td><td style = \"text-align: right;\">2.44804</td><td style = \"text-align: right;\">89</td><td style = \"text-align: right;\">0.405771</td></tr><tr><td style = \"text-align: right;\">&vellip;</td><td style = \"text-align: right;\">&vellip;</td><td style = \"text-align: right;\">&vellip;</td><td style = \"text-align: right;\">&vellip;</td><td style = \"text-align: right;\">&vellip;</td><td style = \"text-align: right;\">&vellip;</td><td style = \"text-align: right;\">&vellip;</td></tr><tr><td class = \"rowNumber\" style = \"font-weight: bold; text-align: right;\">739</td><td style = \"text-align: right;\">86.22</td><td style = \"text-align: right;\">84.07</td><td style = \"text-align: right;\">75566590</td><td style = \"text-align: right;\">2.0057</td><td style = \"text-align: right;\">33</td><td style = \"text-align: right;\">0.54683</td></tr><tr><td class = \"rowNumber\" style = \"font-weight: bold; text-align: right;\">740</td><td style = \"text-align: right;\">86.15</td><td style = \"text-align: right;\">82.38</td><td style = \"text-align: right;\">81056144</td><td style = \"text-align: right;\">-1.93136</td><td style = \"text-align: right;\">26</td><td style = \"text-align: right;\">0.557599</td></tr><tr><td class = \"rowNumber\" style = \"font-weight: bold; text-align: right;\">741</td><td style = \"text-align: right;\">86.36</td><td style = \"text-align: right;\">82.44</td><td style = \"text-align: right;\">43378708</td><td style = \"text-align: right;\">3.91048</td><td style = \"text-align: right;\">20</td><td style = \"text-align: right;\">0.544233</td></tr><tr><td class = \"rowNumber\" style = \"font-weight: bold; text-align: right;\">742</td><td style = \"text-align: right;\">88.0</td><td style = \"text-align: right;\">85.89</td><td style = \"text-align: right;\">81596868</td><td style = \"text-align: right;\">1.95851</td><td style = \"text-align: right;\">12</td><td style = \"text-align: right;\">0.534212</td></tr><tr><td class = \"rowNumber\" style = \"font-weight: bold; text-align: right;\">743</td><td style = \"text-align: right;\">88.13</td><td style = \"text-align: right;\">81.59</td><td style = \"text-align: right;\">113805856</td><td style = \"text-align: right;\">-6.14075</td><td style = \"text-align: right;\">5</td><td style = \"text-align: right;\">0.568388</td></tr><tr><td class = \"rowNumber\" style = \"font-weight: bold; text-align: right;\">744</td><td style = \"text-align: right;\">83.76</td><td style = \"text-align: right;\">79.42</td><td style = \"text-align: right;\">99678100</td><td style = \"text-align: right;\">-2.578</td><td style = \"text-align: right;\">89</td><td style = \"text-align: right;\">0.58118</td></tr><tr><td class = \"rowNumber\" style = \"font-weight: bold; text-align: right;\">745</td><td style = \"text-align: right;\">82.58</td><td style = \"text-align: right;\">79.6</td><td style = \"text-align: right;\">86758820</td><td style = \"text-align: right;\">1.68287</td><td style = \"text-align: right;\">82</td><td style = \"text-align: right;\">0.576192</td></tr><tr><td class = \"rowNumber\" style = \"font-weight: bold; text-align: right;\">746</td><td style = \"text-align: right;\">82.63</td><td style = \"text-align: right;\">80.07</td><td style = \"text-align: right;\">68230855</td><td style = \"text-align: right;\">3.00424</td><td style = \"text-align: right;\">75</td><td style = \"text-align: right;\">0.568801</td></tr><tr><td class = \"rowNumber\" style = \"font-weight: bold; text-align: right;\">747</td><td style = \"text-align: right;\">83.75</td><td style = \"text-align: right;\">80.18</td><td style = \"text-align: right;\">78616295</td><td style = \"text-align: right;\">-2.52161</td><td style = \"text-align: right;\">68</td><td style = \"text-align: right;\">0.57896</td></tr><tr><td class = \"rowNumber\" style = \"font-weight: bold; text-align: right;\">748</td><td style = \"text-align: right;\">81.87</td><td style = \"text-align: right;\">79.72</td><td style = \"text-align: right;\">92380844</td><td style = \"text-align: right;\">-1.42098</td><td style = \"text-align: right;\">61</td><td style = \"text-align: right;\">0.58912</td></tr><tr><td class = \"rowNumber\" style = \"font-weight: bold; text-align: right;\">749</td><td style = \"text-align: right;\">80.82</td><td style = \"text-align: right;\">78.33</td><td style = \"text-align: right;\">100521400</td><td style = \"text-align: right;\">-1.225</td><td style = \"text-align: right;\">54</td><td style = \"text-align: right;\">0.594786</td></tr><tr><td class = \"rowNumber\" style = \"font-weight: bold; text-align: right;\">750</td><td style = \"text-align: right;\">81.12</td><td style = \"text-align: right;\">76.78</td><td style = \"text-align: right;\">118679791</td><td style = \"text-align: right;\">-2.37762</td><td style = \"text-align: right;\">47</td><td style = \"text-align: right;\">0.612139</td></tr></tbody></table></div>"
      ],
      "text/latex": [
       "\\begin{tabular}{r|cccccc}\n",
       "\t& Column1 & Column2 & Column3 & Column4 & Column5 & Column6\\\\\n",
       "\t\\hline\n",
       "\t& Float64 & Float64? & Int64? & Float64? & Int64? & Float64?\\\\\n",
       "\t\\hline\n",
       "\t1 & 16.72 & 15.78 & 239655616 & 3.79267 & 26 & 0.182704 \\\\\n",
       "\t2 & 16.71 & 15.64 & 242963398 & -4.42849 & 19 & 0.187852 \\\\\n",
       "\t3 & 16.38 & 15.6 & 138428495 & -2.47066 & 12 & 0.189994 \\\\\n",
       "\t4 & 16.63 & 15.82 & 151379173 & 1.63831 & 5 & 0.185989 \\\\\n",
       "\t5 & 17.39 & 16.18 & 154387761 & 5.93325 & 97 & 0.175029 \\\\\n",
       "\t6 & 17.48 & 16.97 & 114691279 & 0.230814 & 90 & 0.172712 \\\\\n",
       "\t7 & 17.68 & 17.28 & 80023895 & -0.632547 & 83 & 0.173611 \\\\\n",
       "\t8 & 17.15 & 15.96 & 132981863 & -1.76678 & 76 & 0.179856 \\\\\n",
       "\t9 & 16.94 & 16.13 & 109493077 & -1.36823 & 69 & 0.180941 \\\\\n",
       "\t10 & 16.75 & 15.42 & 114332562 & -3.31725 & 62 & 0.187149 \\\\\n",
       "\t11 & 16.33 & 15.43 & 130374108 & 1.00313 & 55 & 0.18622 \\\\\n",
       "\t12 & 17.24 & 16.26 & 95550392 & 4.33455 & 48 & 0.175541 \\\\\n",
       "\t13 & 45.6 & 43.11 & 45102042 & 2.44804 & 89 & 0.405771 \\\\\n",
       "\t14 & 46.25 & 44.01 & 25913713 & 4.63801 & 82 & 0.389189 \\\\\n",
       "\t15 & 46.71 & 44.71 & 38824728 & -0.0651749 & 75 & 0.391304 \\\\\n",
       "\t16 & 46.27 & 43.42 & 51427274 & -4.7557 & 68 & 0.410397 \\\\\n",
       "\t17 & 44.23 & 43.15 & 39501680 & -0.70247 & 61 & 0.410771 \\\\\n",
       "\t18 & 46.79 & 43.88 & 43746998 & 6.34668 & 54 & 0.385027 \\\\\n",
       "\t19 & 46.93 & 45.53 & 28564910 & -1.91728 & 47 & 0.395344 \\\\\n",
       "\t20 & 45.12 & 43.01 & 39654146 & -3.13752 & 40 & 0.413508 \\\\\n",
       "\t21 & 44.68 & 42.75 & 38985037 & -0.0228676 & 33 & 0.411711 \\\\\n",
       "\t22 & 45.54 & 43.53 & 37613429 & 0.957592 & 26 & 0.406504 \\\\\n",
       "\t23 & 44.47 & 42.19 & 41757526 & 0.706794 & 19 & 0.407516 \\\\\n",
       "\t24 & 45.61 & 44.1 & 30798332 & 1.87709 & 12 & 0.394823 \\\\\n",
       "\t25 & 70.1 & 66.0 & 36258120 & 4.88284 & 33 & 0.605362 \\\\\n",
       "\t26 & 70.5 & 68.35 & 18834664 & 0.93633 & 26 & 0.599401 \\\\\n",
       "\t27 & 72.99 & 70.23 & 29594221 & 1.15721 & 19 & 0.585938 \\\\\n",
       "\t28 & 72.82 & 69.0 & 34929673 & -3.2019 & 12 & 0.606673 \\\\\n",
       "\t29 & 71.64 & 69.12 & 22770062 & 3.06093 & 5 & 0.5884 \\\\\n",
       "\t30 & 72.99 & 71.15 & 21809411 & 0.99398 & 89 & 0.582201 \\\\\n",
       "\t$\\dots$ & $\\dots$ & $\\dots$ & $\\dots$ & $\\dots$ & $\\dots$ & $\\dots$ \\\\\n",
       "\\end{tabular}\n"
      ],
      "text/plain": [
       "\u001b[1m750×6 DataFrame\u001b[0m\n",
       "\u001b[1m Row \u001b[0m│\u001b[1m Column1 \u001b[0m\u001b[1m Column2  \u001b[0m\u001b[1m Column3   \u001b[0m\u001b[1m Column4   \u001b[0m\u001b[1m Column5 \u001b[0m\u001b[1m Column6  \u001b[0m\n",
       "     │\u001b[90m Float64 \u001b[0m\u001b[90m Float64? \u001b[0m\u001b[90m Int64?    \u001b[0m\u001b[90m Float64?  \u001b[0m\u001b[90m Int64?  \u001b[0m\u001b[90m Float64? \u001b[0m\n",
       "─────┼────────────────────────────────────────────────────────────\n",
       "   1 │   16.72     15.78  239655616   3.79267        26  0.182704\n",
       "   2 │   16.71     15.64  242963398  -4.42849        19  0.187852\n",
       "   3 │   16.38     15.6   138428495  -2.47066        12  0.189994\n",
       "   4 │   16.63     15.82  151379173   1.63831         5  0.185989\n",
       "   5 │   17.39     16.18  154387761   5.93325        97  0.175029\n",
       "   6 │   17.48     16.97  114691279   0.230814       90  0.172712\n",
       "   7 │   17.68     17.28   80023895  -0.632547       83  0.173611\n",
       "   8 │   17.15     15.96  132981863  -1.76678        76  0.179856\n",
       "   9 │   16.94     16.13  109493077  -1.36823        69  0.180941\n",
       "  10 │   16.75     15.42  114332562  -3.31725        62  0.187149\n",
       "  11 │   16.33     15.43  130374108   1.00313        55  0.18622\n",
       "  ⋮  │    ⋮        ⋮          ⋮          ⋮         ⋮        ⋮\n",
       " 741 │   86.36     82.44   43378708   3.91048        20  0.544233\n",
       " 742 │   88.0      85.89   81596868   1.95851        12  0.534212\n",
       " 743 │   88.13     81.59  113805856  -6.14075         5  0.568388\n",
       " 744 │   83.76     79.42   99678100  -2.578          89  0.58118\n",
       " 745 │   82.58     79.6    86758820   1.68287        82  0.576192\n",
       " 746 │   82.63     80.07   68230855   3.00424        75  0.568801\n",
       " 747 │   83.75     80.18   78616295  -2.52161        68  0.57896\n",
       " 748 │   81.87     79.72   92380844  -1.42098        61  0.58912\n",
       " 749 │   80.82     78.33  100521400  -1.225          54  0.594786\n",
       " 750 │   81.12     76.78  118679791  -2.37762        47  0.612139\n",
       "\u001b[36m                                                  729 rows omitted\u001b[0m"
      ]
     },
     "execution_count": 186,
     "metadata": {},
     "output_type": "execute_result"
    }
   ],
   "source": [
    "df = DataFrame(CSV.File(INFILE))\n",
    "delete!(df, [1])\n",
    "df[!, 1] = parse.(Float64, df[!, 1])\n",
    "rename!(df, \"Data Description Line 1\" => \"Column1\")\n",
    "SAMPLES = nrow(df)\n",
    "df"
   ]
  },
  {
   "cell_type": "markdown",
   "id": "e4f8fc4f",
   "metadata": {},
   "source": [
    "## Standardizing the data\n",
    "$$x \\mapsto \\frac{x - \\mu}{\\sigma}$$\\\n",
    "makes the mean and standard deviation of each column $0$ and $1$ respectively \n",
    "\n",
    "Standardizing is being done because the range of values of each features is vastly different \\\n",
    "Without standardizing, the values in \"Column3\" would dominate in calculating the distance between vectors"
   ]
  },
  {
   "cell_type": "code",
   "execution_count": 187,
   "id": "8f5880db",
   "metadata": {},
   "outputs": [
    {
     "data": {
      "text/html": [
       "<div><div style = \"float: left;\"><span>750×6 DataFrame</span></div><div style = \"float: right;\"><span style = \"font-style: italic;\">725 rows omitted</span></div><div style = \"clear: both;\"></div></div><div class = \"data-frame\" style = \"overflow-x: scroll;\"><table class = \"data-frame\" style = \"margin-bottom: 6px;\"><thead><tr class = \"header\"><th class = \"rowNumber\" style = \"font-weight: bold; text-align: right;\">Row</th><th style = \"text-align: left;\">Column1</th><th style = \"text-align: left;\">Column2</th><th style = \"text-align: left;\">Column3</th><th style = \"text-align: left;\">Column4</th><th style = \"text-align: left;\">Column5</th><th style = \"text-align: left;\">Column6</th></tr><tr class = \"subheader headerLastRow\"><th class = \"rowNumber\" style = \"font-weight: bold; text-align: right;\"></th><th title = \"Float64\" style = \"text-align: left;\">Float64</th><th title = \"Float64\" style = \"text-align: left;\">Float64</th><th title = \"Float64\" style = \"text-align: left;\">Float64</th><th title = \"Float64\" style = \"text-align: left;\">Float64</th><th title = \"Float64\" style = \"text-align: left;\">Float64</th><th title = \"Float64\" style = \"text-align: left;\">Float64</th></tr></thead><tbody><tr><td class = \"rowNumber\" style = \"font-weight: bold; text-align: right;\">1</td><td style = \"text-align: right;\">-1.14328</td><td style = \"text-align: right;\">-1.14837</td><td style = \"text-align: right;\">0.771212</td><td style = \"text-align: right;\">1.48737</td><td style = \"text-align: right;\">-0.572849</td><td style = \"text-align: right;\">-1.66773</td></tr><tr><td class = \"rowNumber\" style = \"font-weight: bold; text-align: right;\">2</td><td style = \"text-align: right;\">-1.14359</td><td style = \"text-align: right;\">-1.15273</td><td style = \"text-align: right;\">0.792103</td><td style = \"text-align: right;\">-1.78002</td><td style = \"text-align: right;\">-0.724024</td><td style = \"text-align: right;\">-1.65087</td></tr><tr><td class = \"rowNumber\" style = \"font-weight: bold; text-align: right;\">3</td><td style = \"text-align: right;\">-1.15353</td><td style = \"text-align: right;\">-1.15398</td><td style = \"text-align: right;\">0.131879</td><td style = \"text-align: right;\">-1.0019</td><td style = \"text-align: right;\">-0.875198</td><td style = \"text-align: right;\">-1.64385</td></tr><tr><td class = \"rowNumber\" style = \"font-weight: bold; text-align: right;\">4</td><td style = \"text-align: right;\">-1.146</td><td style = \"text-align: right;\">-1.14712</td><td style = \"text-align: right;\">0.213673</td><td style = \"text-align: right;\">0.631147</td><td style = \"text-align: right;\">-1.02637</td><td style = \"text-align: right;\">-1.65697</td></tr><tr><td class = \"rowNumber\" style = \"font-weight: bold; text-align: right;\">5</td><td style = \"text-align: right;\">-1.1231</td><td style = \"text-align: right;\">-1.13591</td><td style = \"text-align: right;\">0.232675</td><td style = \"text-align: right;\">2.33811</td><td style = \"text-align: right;\">0.960489</td><td style = \"text-align: right;\">-1.69287</td></tr><tr><td class = \"rowNumber\" style = \"font-weight: bold; text-align: right;\">6</td><td style = \"text-align: right;\">-1.12039</td><td style = \"text-align: right;\">-1.11129</td><td style = \"text-align: right;\">-0.0180413</td><td style = \"text-align: right;\">0.0717577</td><td style = \"text-align: right;\">0.809315</td><td style = \"text-align: right;\">-1.70046</td></tr><tr><td class = \"rowNumber\" style = \"font-weight: bold; text-align: right;\">7</td><td style = \"text-align: right;\">-1.11436</td><td style = \"text-align: right;\">-1.10164</td><td style = \"text-align: right;\">-0.236994</td><td style = \"text-align: right;\">-0.271373</td><td style = \"text-align: right;\">0.65814</td><td style = \"text-align: right;\">-1.69752</td></tr><tr><td class = \"rowNumber\" style = \"font-weight: bold; text-align: right;\">8</td><td style = \"text-align: right;\">-1.13033</td><td style = \"text-align: right;\">-1.14276</td><td style = \"text-align: right;\">0.0974788</td><td style = \"text-align: right;\">-0.722158</td><td style = \"text-align: right;\">0.506966</td><td style = \"text-align: right;\">-1.67706</td></tr><tr><td class = \"rowNumber\" style = \"font-weight: bold; text-align: right;\">9</td><td style = \"text-align: right;\">-1.13666</td><td style = \"text-align: right;\">-1.13746</td><td style = \"text-align: right;\">-0.0508722</td><td style = \"text-align: right;\">-0.56376</td><td style = \"text-align: right;\">0.355792</td><td style = \"text-align: right;\">-1.67351</td></tr><tr><td class = \"rowNumber\" style = \"font-weight: bold; text-align: right;\">10</td><td style = \"text-align: right;\">-1.14238</td><td style = \"text-align: right;\">-1.15958</td><td style = \"text-align: right;\">-0.0203069</td><td style = \"text-align: right;\">-1.33837</td><td style = \"text-align: right;\">0.204618</td><td style = \"text-align: right;\">-1.65317</td></tr><tr><td class = \"rowNumber\" style = \"font-weight: bold; text-align: right;\">11</td><td style = \"text-align: right;\">-1.15503</td><td style = \"text-align: right;\">-1.15927</td><td style = \"text-align: right;\">0.0810087</td><td style = \"text-align: right;\">0.378704</td><td style = \"text-align: right;\">0.0534437</td><td style = \"text-align: right;\">-1.65621</td></tr><tr><td class = \"rowNumber\" style = \"font-weight: bold; text-align: right;\">12</td><td style = \"text-align: right;\">-1.12762</td><td style = \"text-align: right;\">-1.13341</td><td style = \"text-align: right;\">-0.138932</td><td style = \"text-align: right;\">1.70273</td><td style = \"text-align: right;\">-0.0977305</td><td style = \"text-align: right;\">-1.69119</td></tr><tr><td class = \"rowNumber\" style = \"font-weight: bold; text-align: right;\">13</td><td style = \"text-align: right;\">-0.273243</td><td style = \"text-align: right;\">-0.29691</td><td style = \"text-align: right;\">-0.457555</td><td style = \"text-align: right;\">0.952962</td><td style = \"text-align: right;\">0.787718</td><td style = \"text-align: right;\">-0.937029</td></tr><tr><td style = \"text-align: right;\">&vellip;</td><td style = \"text-align: right;\">&vellip;</td><td style = \"text-align: right;\">&vellip;</td><td style = \"text-align: right;\">&vellip;</td><td style = \"text-align: right;\">&vellip;</td><td style = \"text-align: right;\">&vellip;</td><td style = \"text-align: right;\">&vellip;</td></tr><tr><td class = \"rowNumber\" style = \"font-weight: bold; text-align: right;\">739</td><td style = \"text-align: right;\">0.950478</td><td style = \"text-align: right;\">0.979188</td><td style = \"text-align: right;\">-0.265146</td><td style = \"text-align: right;\">0.777161</td><td style = \"text-align: right;\">-0.421675</td><td style = \"text-align: right;\">-0.474962</td></tr><tr><td class = \"rowNumber\" style = \"font-weight: bold; text-align: right;\">740</td><td style = \"text-align: right;\">0.948369</td><td style = \"text-align: right;\">0.926537</td><td style = \"text-align: right;\">-0.230475</td><td style = \"text-align: right;\">-0.787568</td><td style = \"text-align: right;\">-0.572849</td><td style = \"text-align: right;\">-0.439686</td></tr><tr><td class = \"rowNumber\" style = \"font-weight: bold; text-align: right;\">741</td><td style = \"text-align: right;\">0.954696</td><td style = \"text-align: right;\">0.928406</td><td style = \"text-align: right;\">-0.468439</td><td style = \"text-align: right;\">1.53419</td><td style = \"text-align: right;\">-0.702427</td><td style = \"text-align: right;\">-0.483469</td></tr><tr><td class = \"rowNumber\" style = \"font-weight: bold; text-align: right;\">742</td><td style = \"text-align: right;\">1.0041</td><td style = \"text-align: right;\">1.03589</td><td style = \"text-align: right;\">-0.22706</td><td style = \"text-align: right;\">0.758406</td><td style = \"text-align: right;\">-0.875198</td><td style = \"text-align: right;\">-0.516295</td></tr><tr><td class = \"rowNumber\" style = \"font-weight: bold; text-align: right;\">743</td><td style = \"text-align: right;\">1.00802</td><td style = \"text-align: right;\">0.901924</td><td style = \"text-align: right;\">-0.0236335</td><td style = \"text-align: right;\">-2.46053</td><td style = \"text-align: right;\">-1.02637</td><td style = \"text-align: right;\">-0.404345</td></tr><tr><td class = \"rowNumber\" style = \"font-weight: bold; text-align: right;\">744</td><td style = \"text-align: right;\">0.876368</td><td style = \"text-align: right;\">0.834319</td><td style = \"text-align: right;\">-0.112862</td><td style = \"text-align: right;\">-1.04457</td><td style = \"text-align: right;\">0.787718</td><td style = \"text-align: right;\">-0.362442</td></tr><tr><td class = \"rowNumber\" style = \"font-weight: bold; text-align: right;\">745</td><td style = \"text-align: right;\">0.840819</td><td style = \"text-align: right;\">0.839926</td><td style = \"text-align: right;\">-0.194458</td><td style = \"text-align: right;\">0.648857</td><td style = \"text-align: right;\">0.636544</td><td style = \"text-align: right;\">-0.378781</td></tr><tr><td class = \"rowNumber\" style = \"font-weight: bold; text-align: right;\">746</td><td style = \"text-align: right;\">0.842325</td><td style = \"text-align: right;\">0.854569</td><td style = \"text-align: right;\">-0.311477</td><td style = \"text-align: right;\">1.17402</td><td style = \"text-align: right;\">0.48537</td><td style = \"text-align: right;\">-0.402992</td></tr><tr><td class = \"rowNumber\" style = \"font-weight: bold; text-align: right;\">747</td><td style = \"text-align: right;\">0.876067</td><td style = \"text-align: right;\">0.857996</td><td style = \"text-align: right;\">-0.245885</td><td style = \"text-align: right;\">-1.02215</td><td style = \"text-align: right;\">0.334196</td><td style = \"text-align: right;\">-0.369714</td></tr><tr><td class = \"rowNumber\" style = \"font-weight: bold; text-align: right;\">748</td><td style = \"text-align: right;\">0.819429</td><td style = \"text-align: right;\">0.843665</td><td style = \"text-align: right;\">-0.15895</td><td style = \"text-align: right;\">-0.584724</td><td style = \"text-align: right;\">0.183022</td><td style = \"text-align: right;\">-0.336433</td></tr><tr><td class = \"rowNumber\" style = \"font-weight: bold; text-align: right;\">749</td><td style = \"text-align: right;\">0.787797</td><td style = \"text-align: right;\">0.80036</td><td style = \"text-align: right;\">-0.107536</td><td style = \"text-align: right;\">-0.506835</td><td style = \"text-align: right;\">0.0318474</td><td style = \"text-align: right;\">-0.317873</td></tr><tr><td class = \"rowNumber\" style = \"font-weight: bold; text-align: right;\">750</td><td style = \"text-align: right;\">0.796835</td><td style = \"text-align: right;\">0.75207</td><td style = \"text-align: right;\">0.00714945</td><td style = \"text-align: right;\">-0.964927</td><td style = \"text-align: right;\">-0.119327</td><td style = \"text-align: right;\">-0.261029</td></tr></tbody></table></div>"
      ],
      "text/latex": [
       "\\begin{tabular}{r|cccccc}\n",
       "\t& Column1 & Column2 & Column3 & Column4 & Column5 & Column6\\\\\n",
       "\t\\hline\n",
       "\t& Float64 & Float64 & Float64 & Float64 & Float64 & Float64\\\\\n",
       "\t\\hline\n",
       "\t1 & -1.14328 & -1.14837 & 0.771212 & 1.48737 & -0.572849 & -1.66773 \\\\\n",
       "\t2 & -1.14359 & -1.15273 & 0.792103 & -1.78002 & -0.724024 & -1.65087 \\\\\n",
       "\t3 & -1.15353 & -1.15398 & 0.131879 & -1.0019 & -0.875198 & -1.64385 \\\\\n",
       "\t4 & -1.146 & -1.14712 & 0.213673 & 0.631147 & -1.02637 & -1.65697 \\\\\n",
       "\t5 & -1.1231 & -1.13591 & 0.232675 & 2.33811 & 0.960489 & -1.69287 \\\\\n",
       "\t6 & -1.12039 & -1.11129 & -0.0180413 & 0.0717577 & 0.809315 & -1.70046 \\\\\n",
       "\t7 & -1.11436 & -1.10164 & -0.236994 & -0.271373 & 0.65814 & -1.69752 \\\\\n",
       "\t8 & -1.13033 & -1.14276 & 0.0974788 & -0.722158 & 0.506966 & -1.67706 \\\\\n",
       "\t9 & -1.13666 & -1.13746 & -0.0508722 & -0.56376 & 0.355792 & -1.67351 \\\\\n",
       "\t10 & -1.14238 & -1.15958 & -0.0203069 & -1.33837 & 0.204618 & -1.65317 \\\\\n",
       "\t11 & -1.15503 & -1.15927 & 0.0810087 & 0.378704 & 0.0534437 & -1.65621 \\\\\n",
       "\t12 & -1.12762 & -1.13341 & -0.138932 & 1.70273 & -0.0977305 & -1.69119 \\\\\n",
       "\t13 & -0.273243 & -0.29691 & -0.457555 & 0.952962 & 0.787718 & -0.937029 \\\\\n",
       "\t14 & -0.253661 & -0.26887 & -0.578745 & 1.82333 & 0.636544 & -0.991347 \\\\\n",
       "\t15 & -0.239803 & -0.247062 & -0.497201 & -0.0458789 & 0.48537 & -0.984419 \\\\\n",
       "\t16 & -0.253059 & -0.287252 & -0.417606 & -1.91006 & 0.334196 & -0.921876 \\\\\n",
       "\t17 & -0.314516 & -0.295663 & -0.492926 & -0.299163 & 0.183022 & -0.920651 \\\\\n",
       "\t18 & -0.237393 & -0.27292 & -0.466113 & 2.50242 & 0.0318474 & -1.00498 \\\\\n",
       "\t19 & -0.233175 & -0.221515 & -0.562 & -0.781972 & -0.119327 & -0.971185 \\\\\n",
       "\t20 & -0.287704 & -0.300025 & -0.491963 & -1.26694 & -0.270501 & -0.911685 \\\\\n",
       "\t21 & -0.300959 & -0.308125 & -0.496189 & -0.0290645 & -0.421675 & -0.917572 \\\\\n",
       "\t22 & -0.275051 & -0.283825 & -0.504852 & 0.360605 & -0.572849 & -0.934628 \\\\\n",
       "\t23 & -0.307286 & -0.325572 & -0.478678 & 0.260929 & -0.724024 & -0.931313 \\\\\n",
       "\t24 & -0.272942 & -0.266066 & -0.547895 & 0.726047 & -0.875198 & -0.972892 \\\\\n",
       "\t25 & 0.464846 & 0.416222 & -0.513411 & 1.92064 & -0.421675 & -0.283229 \\\\\n",
       "\t26 & 0.476896 & 0.489436 & -0.623455 & 0.352155 & -0.572849 & -0.302755 \\\\\n",
       "\t27 & 0.55191 & 0.548007 & -0.555499 & 0.439941 & -0.724024 & -0.346856 \\\\\n",
       "\t28 & 0.546789 & 0.509686 & -0.521802 & -1.29253 & -0.875198 & -0.278934 \\\\\n",
       "\t29 & 0.51124 & 0.513425 & -0.5986 & 1.19655 & -1.02637 & -0.338791 \\\\\n",
       "\t30 & 0.55191 & 0.576669 & -0.604667 & 0.375067 & 0.787718 & -0.359097 \\\\\n",
       "\t$\\dots$ & $\\dots$ & $\\dots$ & $\\dots$ & $\\dots$ & $\\dots$ & $\\dots$ \\\\\n",
       "\\end{tabular}\n"
      ],
      "text/plain": [
       "\u001b[1m750×6 DataFrame\u001b[0m\n",
       "\u001b[1m Row \u001b[0m│\u001b[1m Column1    \u001b[0m\u001b[1m Column2     \u001b[0m\u001b[1m Column3     \u001b[0m\u001b[1m Column4    \u001b[0m\u001b[1m Column5    \u001b[0m\u001b[1m Column6  \u001b[0m ⋯\n",
       "     │\u001b[90m Float64    \u001b[0m\u001b[90m Float64     \u001b[0m\u001b[90m Float64     \u001b[0m\u001b[90m Float64    \u001b[0m\u001b[90m Float64    \u001b[0m\u001b[90m Float64  \u001b[0m ⋯\n",
       "─────┼──────────────────────────────────────────────────────────────────────────\n",
       "   1 │ -1.14328    -1.14837      0.771212     1.48737    -0.572849   -1.66773  ⋯\n",
       "   2 │ -1.14359    -1.15273      0.792103    -1.78002    -0.724024   -1.65087\n",
       "   3 │ -1.15353    -1.15398      0.131879    -1.0019     -0.875198   -1.64385\n",
       "   4 │ -1.146      -1.14712      0.213673     0.631147   -1.02637    -1.65697\n",
       "   5 │ -1.1231     -1.13591      0.232675     2.33811     0.960489   -1.69287  ⋯\n",
       "   6 │ -1.12039    -1.11129     -0.0180413    0.0717577   0.809315   -1.70046\n",
       "   7 │ -1.11436    -1.10164     -0.236994    -0.271373    0.65814    -1.69752\n",
       "   8 │ -1.13033    -1.14276      0.0974788   -0.722158    0.506966   -1.67706\n",
       "   9 │ -1.13666    -1.13746     -0.0508722   -0.56376     0.355792   -1.67351  ⋯\n",
       "  10 │ -1.14238    -1.15958     -0.0203069   -1.33837     0.204618   -1.65317\n",
       "  11 │ -1.15503    -1.15927      0.0810087    0.378704    0.0534437  -1.65621\n",
       "  ⋮  │     ⋮            ⋮            ⋮           ⋮           ⋮           ⋮     ⋱\n",
       " 741 │  0.954696    0.928406    -0.468439     1.53419    -0.702427   -0.483469\n",
       " 742 │  1.0041      1.03589     -0.22706      0.758406   -0.875198   -0.516295 ⋯\n",
       " 743 │  1.00802     0.901924    -0.0236335   -2.46053    -1.02637    -0.404345\n",
       " 744 │  0.876368    0.834319    -0.112862    -1.04457     0.787718   -0.362442\n",
       " 745 │  0.840819    0.839926    -0.194458     0.648857    0.636544   -0.378781\n",
       " 746 │  0.842325    0.854569    -0.311477     1.17402     0.48537    -0.402992 ⋯\n",
       " 747 │  0.876067    0.857996    -0.245885    -1.02215     0.334196   -0.369714\n",
       " 748 │  0.819429    0.843665    -0.15895     -0.584724    0.183022   -0.336433\n",
       " 749 │  0.787797    0.80036     -0.107536    -0.506835    0.0318474  -0.317873\n",
       " 750 │  0.796835    0.75207      0.00714945  -0.964927   -0.119327   -0.261029 ⋯\n",
       "\u001b[36m                                                   1 column and 729 rows omitted\u001b[0m"
      ]
     },
     "execution_count": 187,
     "metadata": {},
     "output_type": "execute_result"
    }
   ],
   "source": [
    "for j = 1:6\n",
    "    mean = 0\n",
    "    std = 0 \n",
    "    for i = 1:SAMPLES\n",
    "        mean += df[i, j] / SAMPLES\n",
    "    end\n",
    "    for i = 1:SAMPLES\n",
    "        std += (df[i, j] - mean)^2 / SAMPLES\n",
    "    end\n",
    "    std = sqrt(std)  \n",
    "    df[!, j] .= (df[!, j] .- mean) ./ std\n",
    "end\n",
    "\n",
    "df"
   ]
  },
  {
   "cell_type": "code",
   "execution_count": 188,
   "id": "d005f7ed",
   "metadata": {},
   "outputs": [
    {
     "data": {
      "text/html": [
       "<div><div style = \"float: left;\"><span>6×7 DataFrame</span></div><div style = \"clear: both;\"></div></div><div class = \"data-frame\" style = \"overflow-x: scroll;\"><table class = \"data-frame\" style = \"margin-bottom: 6px;\"><thead><tr class = \"header\"><th class = \"rowNumber\" style = \"font-weight: bold; text-align: right;\">Row</th><th style = \"text-align: left;\">variable</th><th style = \"text-align: left;\">mean</th><th style = \"text-align: left;\">min</th><th style = \"text-align: left;\">median</th><th style = \"text-align: left;\">max</th><th style = \"text-align: left;\">nmissing</th><th style = \"text-align: left;\">eltype</th></tr><tr class = \"subheader headerLastRow\"><th class = \"rowNumber\" style = \"font-weight: bold; text-align: right;\"></th><th title = \"Symbol\" style = \"text-align: left;\">Symbol</th><th title = \"Float64\" style = \"text-align: left;\">Float64</th><th title = \"Float64\" style = \"text-align: left;\">Float64</th><th title = \"Float64\" style = \"text-align: left;\">Float64</th><th title = \"Float64\" style = \"text-align: left;\">Float64</th><th title = \"Int64\" style = \"text-align: left;\">Int64</th><th title = \"DataType\" style = \"text-align: left;\">DataType</th></tr></thead><tbody><tr><td class = \"rowNumber\" style = \"font-weight: bold; text-align: right;\">1</td><td style = \"text-align: left;\">Column1</td><td style = \"text-align: right;\">5.32907e-18</td><td style = \"text-align: right;\">-1.31741</td><td style = \"text-align: right;\">-0.234531</td><td style = \"text-align: right;\">3.58109</td><td style = \"text-align: right;\">0</td><td style = \"text-align: left;\">Float64</td></tr><tr><td class = \"rowNumber\" style = \"font-weight: bold; text-align: right;\">2</td><td style = \"text-align: left;\">Column2</td><td style = \"text-align: right;\">-9.38361e-16</td><td style = \"text-align: right;\">-1.31598</td><td style = \"text-align: right;\">-0.244258</td><td style = \"text-align: right;\">3.5884</td><td style = \"text-align: right;\">0</td><td style = \"text-align: left;\">Float64</td></tr><tr><td class = \"rowNumber\" style = \"font-weight: bold; text-align: right;\">3</td><td style = \"text-align: left;\">Column3</td><td style = \"text-align: right;\">4.75527e-16</td><td style = \"text-align: right;\">-0.681029</td><td style = \"text-align: right;\">-0.407288</td><td style = \"text-align: right;\">8.43725</td><td style = \"text-align: right;\">0</td><td style = \"text-align: left;\">Float64</td></tr><tr><td class = \"rowNumber\" style = \"font-weight: bold; text-align: right;\">4</td><td style = \"text-align: left;\">Column4</td><td style = \"text-align: right;\">7.34227e-17</td><td style = \"text-align: right;\">-6.14959</td><td style = \"text-align: right;\">-0.0199761</td><td style = \"text-align: right;\">3.90758</td><td style = \"text-align: right;\">0</td><td style = \"text-align: left;\">Float64</td></tr><tr><td class = \"rowNumber\" style = \"font-weight: bold; text-align: right;\">5</td><td style = \"text-align: left;\">Column5</td><td style = \"text-align: right;\">1.49064e-15</td><td style = \"text-align: right;\">-1.13435</td><td style = \"text-align: right;\">-0.119327</td><td style = \"text-align: right;\">6.12201</td><td style = \"text-align: right;\">0</td><td style = \"text-align: left;\">Float64</td></tr><tr><td class = \"rowNumber\" style = \"font-weight: bold; text-align: right;\">6</td><td style = \"text-align: left;\">Column6</td><td style = \"text-align: right;\">-3.98777e-15</td><td style = \"text-align: right;\">-2.05141</td><td style = \"text-align: right;\">-0.0352435</td><td style = \"text-align: right;\">2.85767</td><td style = \"text-align: right;\">0</td><td style = \"text-align: left;\">Float64</td></tr></tbody></table></div>"
      ],
      "text/latex": [
       "\\begin{tabular}{r|ccccccc}\n",
       "\t& variable & mean & min & median & max & nmissing & eltype\\\\\n",
       "\t\\hline\n",
       "\t& Symbol & Float64 & Float64 & Float64 & Float64 & Int64 & DataType\\\\\n",
       "\t\\hline\n",
       "\t1 & Column1 & 5.32907e-18 & -1.31741 & -0.234531 & 3.58109 & 0 & Float64 \\\\\n",
       "\t2 & Column2 & -9.38361e-16 & -1.31598 & -0.244258 & 3.5884 & 0 & Float64 \\\\\n",
       "\t3 & Column3 & 4.75527e-16 & -0.681029 & -0.407288 & 8.43725 & 0 & Float64 \\\\\n",
       "\t4 & Column4 & 7.34227e-17 & -6.14959 & -0.0199761 & 3.90758 & 0 & Float64 \\\\\n",
       "\t5 & Column5 & 1.49064e-15 & -1.13435 & -0.119327 & 6.12201 & 0 & Float64 \\\\\n",
       "\t6 & Column6 & -3.98777e-15 & -2.05141 & -0.0352435 & 2.85767 & 0 & Float64 \\\\\n",
       "\\end{tabular}\n"
      ],
      "text/plain": [
       "\u001b[1m6×7 DataFrame\u001b[0m\n",
       "\u001b[1m Row \u001b[0m│\u001b[1m variable \u001b[0m\u001b[1m mean         \u001b[0m\u001b[1m min       \u001b[0m\u001b[1m median     \u001b[0m\u001b[1m max     \u001b[0m\u001b[1m nmissing \u001b[0m\u001b[1m eltyp\u001b[0m ⋯\n",
       "     │\u001b[90m Symbol   \u001b[0m\u001b[90m Float64      \u001b[0m\u001b[90m Float64   \u001b[0m\u001b[90m Float64    \u001b[0m\u001b[90m Float64 \u001b[0m\u001b[90m Int64    \u001b[0m\u001b[90m DataT\u001b[0m ⋯\n",
       "─────┼──────────────────────────────────────────────────────────────────────────\n",
       "   1 │ Column1    5.32907e-18  -1.31741   -0.234531   3.58109         0  Float ⋯\n",
       "   2 │ Column2   -9.38361e-16  -1.31598   -0.244258   3.5884          0  Float\n",
       "   3 │ Column3    4.75527e-16  -0.681029  -0.407288   8.43725         0  Float\n",
       "   4 │ Column4    7.34227e-17  -6.14959   -0.0199761  3.90758         0  Float\n",
       "   5 │ Column5    1.49064e-15  -1.13435   -0.119327   6.12201         0  Float ⋯\n",
       "   6 │ Column6   -3.98777e-15  -2.05141   -0.0352435  2.85767         0  Float\n",
       "\u001b[36m                                                                1 column omitted\u001b[0m"
      ]
     },
     "execution_count": 188,
     "metadata": {},
     "output_type": "execute_result"
    }
   ],
   "source": [
    "describe(df)"
   ]
  },
  {
   "cell_type": "markdown",
   "id": "e5b4ed24",
   "metadata": {},
   "source": [
    "Create a new column to store the cluster id of each data sample"
   ]
  },
  {
   "cell_type": "code",
   "execution_count": 189,
   "id": "a89f8b2c",
   "metadata": {},
   "outputs": [
    {
     "data": {
      "text/html": [
       "<div><div style = \"float: left;\"><span>750×7 DataFrame</span></div><div style = \"float: right;\"><span style = \"font-style: italic;\">725 rows omitted</span></div><div style = \"clear: both;\"></div></div><div class = \"data-frame\" style = \"overflow-x: scroll;\"><table class = \"data-frame\" style = \"margin-bottom: 6px;\"><thead><tr class = \"header\"><th class = \"rowNumber\" style = \"font-weight: bold; text-align: right;\">Row</th><th style = \"text-align: left;\">Column1</th><th style = \"text-align: left;\">Column2</th><th style = \"text-align: left;\">Column3</th><th style = \"text-align: left;\">Column4</th><th style = \"text-align: left;\">Column5</th><th style = \"text-align: left;\">Column6</th><th style = \"text-align: left;\">id</th></tr><tr class = \"subheader headerLastRow\"><th class = \"rowNumber\" style = \"font-weight: bold; text-align: right;\"></th><th title = \"Float64\" style = \"text-align: left;\">Float64</th><th title = \"Float64\" style = \"text-align: left;\">Float64</th><th title = \"Float64\" style = \"text-align: left;\">Float64</th><th title = \"Float64\" style = \"text-align: left;\">Float64</th><th title = \"Float64\" style = \"text-align: left;\">Float64</th><th title = \"Float64\" style = \"text-align: left;\">Float64</th><th title = \"Int64\" style = \"text-align: left;\">Int64</th></tr></thead><tbody><tr><td class = \"rowNumber\" style = \"font-weight: bold; text-align: right;\">1</td><td style = \"text-align: right;\">-1.14328</td><td style = \"text-align: right;\">-1.14837</td><td style = \"text-align: right;\">0.771212</td><td style = \"text-align: right;\">1.48737</td><td style = \"text-align: right;\">-0.572849</td><td style = \"text-align: right;\">-1.66773</td><td style = \"text-align: right;\">0</td></tr><tr><td class = \"rowNumber\" style = \"font-weight: bold; text-align: right;\">2</td><td style = \"text-align: right;\">-1.14359</td><td style = \"text-align: right;\">-1.15273</td><td style = \"text-align: right;\">0.792103</td><td style = \"text-align: right;\">-1.78002</td><td style = \"text-align: right;\">-0.724024</td><td style = \"text-align: right;\">-1.65087</td><td style = \"text-align: right;\">0</td></tr><tr><td class = \"rowNumber\" style = \"font-weight: bold; text-align: right;\">3</td><td style = \"text-align: right;\">-1.15353</td><td style = \"text-align: right;\">-1.15398</td><td style = \"text-align: right;\">0.131879</td><td style = \"text-align: right;\">-1.0019</td><td style = \"text-align: right;\">-0.875198</td><td style = \"text-align: right;\">-1.64385</td><td style = \"text-align: right;\">0</td></tr><tr><td class = \"rowNumber\" style = \"font-weight: bold; text-align: right;\">4</td><td style = \"text-align: right;\">-1.146</td><td style = \"text-align: right;\">-1.14712</td><td style = \"text-align: right;\">0.213673</td><td style = \"text-align: right;\">0.631147</td><td style = \"text-align: right;\">-1.02637</td><td style = \"text-align: right;\">-1.65697</td><td style = \"text-align: right;\">0</td></tr><tr><td class = \"rowNumber\" style = \"font-weight: bold; text-align: right;\">5</td><td style = \"text-align: right;\">-1.1231</td><td style = \"text-align: right;\">-1.13591</td><td style = \"text-align: right;\">0.232675</td><td style = \"text-align: right;\">2.33811</td><td style = \"text-align: right;\">0.960489</td><td style = \"text-align: right;\">-1.69287</td><td style = \"text-align: right;\">0</td></tr><tr><td class = \"rowNumber\" style = \"font-weight: bold; text-align: right;\">6</td><td style = \"text-align: right;\">-1.12039</td><td style = \"text-align: right;\">-1.11129</td><td style = \"text-align: right;\">-0.0180413</td><td style = \"text-align: right;\">0.0717577</td><td style = \"text-align: right;\">0.809315</td><td style = \"text-align: right;\">-1.70046</td><td style = \"text-align: right;\">0</td></tr><tr><td class = \"rowNumber\" style = \"font-weight: bold; text-align: right;\">7</td><td style = \"text-align: right;\">-1.11436</td><td style = \"text-align: right;\">-1.10164</td><td style = \"text-align: right;\">-0.236994</td><td style = \"text-align: right;\">-0.271373</td><td style = \"text-align: right;\">0.65814</td><td style = \"text-align: right;\">-1.69752</td><td style = \"text-align: right;\">0</td></tr><tr><td class = \"rowNumber\" style = \"font-weight: bold; text-align: right;\">8</td><td style = \"text-align: right;\">-1.13033</td><td style = \"text-align: right;\">-1.14276</td><td style = \"text-align: right;\">0.0974788</td><td style = \"text-align: right;\">-0.722158</td><td style = \"text-align: right;\">0.506966</td><td style = \"text-align: right;\">-1.67706</td><td style = \"text-align: right;\">0</td></tr><tr><td class = \"rowNumber\" style = \"font-weight: bold; text-align: right;\">9</td><td style = \"text-align: right;\">-1.13666</td><td style = \"text-align: right;\">-1.13746</td><td style = \"text-align: right;\">-0.0508722</td><td style = \"text-align: right;\">-0.56376</td><td style = \"text-align: right;\">0.355792</td><td style = \"text-align: right;\">-1.67351</td><td style = \"text-align: right;\">0</td></tr><tr><td class = \"rowNumber\" style = \"font-weight: bold; text-align: right;\">10</td><td style = \"text-align: right;\">-1.14238</td><td style = \"text-align: right;\">-1.15958</td><td style = \"text-align: right;\">-0.0203069</td><td style = \"text-align: right;\">-1.33837</td><td style = \"text-align: right;\">0.204618</td><td style = \"text-align: right;\">-1.65317</td><td style = \"text-align: right;\">0</td></tr><tr><td class = \"rowNumber\" style = \"font-weight: bold; text-align: right;\">11</td><td style = \"text-align: right;\">-1.15503</td><td style = \"text-align: right;\">-1.15927</td><td style = \"text-align: right;\">0.0810087</td><td style = \"text-align: right;\">0.378704</td><td style = \"text-align: right;\">0.0534437</td><td style = \"text-align: right;\">-1.65621</td><td style = \"text-align: right;\">0</td></tr><tr><td class = \"rowNumber\" style = \"font-weight: bold; text-align: right;\">12</td><td style = \"text-align: right;\">-1.12762</td><td style = \"text-align: right;\">-1.13341</td><td style = \"text-align: right;\">-0.138932</td><td style = \"text-align: right;\">1.70273</td><td style = \"text-align: right;\">-0.0977305</td><td style = \"text-align: right;\">-1.69119</td><td style = \"text-align: right;\">0</td></tr><tr><td class = \"rowNumber\" style = \"font-weight: bold; text-align: right;\">13</td><td style = \"text-align: right;\">-0.273243</td><td style = \"text-align: right;\">-0.29691</td><td style = \"text-align: right;\">-0.457555</td><td style = \"text-align: right;\">0.952962</td><td style = \"text-align: right;\">0.787718</td><td style = \"text-align: right;\">-0.937029</td><td style = \"text-align: right;\">0</td></tr><tr><td style = \"text-align: right;\">&vellip;</td><td style = \"text-align: right;\">&vellip;</td><td style = \"text-align: right;\">&vellip;</td><td style = \"text-align: right;\">&vellip;</td><td style = \"text-align: right;\">&vellip;</td><td style = \"text-align: right;\">&vellip;</td><td style = \"text-align: right;\">&vellip;</td><td style = \"text-align: right;\">&vellip;</td></tr><tr><td class = \"rowNumber\" style = \"font-weight: bold; text-align: right;\">739</td><td style = \"text-align: right;\">0.950478</td><td style = \"text-align: right;\">0.979188</td><td style = \"text-align: right;\">-0.265146</td><td style = \"text-align: right;\">0.777161</td><td style = \"text-align: right;\">-0.421675</td><td style = \"text-align: right;\">-0.474962</td><td style = \"text-align: right;\">0</td></tr><tr><td class = \"rowNumber\" style = \"font-weight: bold; text-align: right;\">740</td><td style = \"text-align: right;\">0.948369</td><td style = \"text-align: right;\">0.926537</td><td style = \"text-align: right;\">-0.230475</td><td style = \"text-align: right;\">-0.787568</td><td style = \"text-align: right;\">-0.572849</td><td style = \"text-align: right;\">-0.439686</td><td style = \"text-align: right;\">0</td></tr><tr><td class = \"rowNumber\" style = \"font-weight: bold; text-align: right;\">741</td><td style = \"text-align: right;\">0.954696</td><td style = \"text-align: right;\">0.928406</td><td style = \"text-align: right;\">-0.468439</td><td style = \"text-align: right;\">1.53419</td><td style = \"text-align: right;\">-0.702427</td><td style = \"text-align: right;\">-0.483469</td><td style = \"text-align: right;\">0</td></tr><tr><td class = \"rowNumber\" style = \"font-weight: bold; text-align: right;\">742</td><td style = \"text-align: right;\">1.0041</td><td style = \"text-align: right;\">1.03589</td><td style = \"text-align: right;\">-0.22706</td><td style = \"text-align: right;\">0.758406</td><td style = \"text-align: right;\">-0.875198</td><td style = \"text-align: right;\">-0.516295</td><td style = \"text-align: right;\">0</td></tr><tr><td class = \"rowNumber\" style = \"font-weight: bold; text-align: right;\">743</td><td style = \"text-align: right;\">1.00802</td><td style = \"text-align: right;\">0.901924</td><td style = \"text-align: right;\">-0.0236335</td><td style = \"text-align: right;\">-2.46053</td><td style = \"text-align: right;\">-1.02637</td><td style = \"text-align: right;\">-0.404345</td><td style = \"text-align: right;\">0</td></tr><tr><td class = \"rowNumber\" style = \"font-weight: bold; text-align: right;\">744</td><td style = \"text-align: right;\">0.876368</td><td style = \"text-align: right;\">0.834319</td><td style = \"text-align: right;\">-0.112862</td><td style = \"text-align: right;\">-1.04457</td><td style = \"text-align: right;\">0.787718</td><td style = \"text-align: right;\">-0.362442</td><td style = \"text-align: right;\">0</td></tr><tr><td class = \"rowNumber\" style = \"font-weight: bold; text-align: right;\">745</td><td style = \"text-align: right;\">0.840819</td><td style = \"text-align: right;\">0.839926</td><td style = \"text-align: right;\">-0.194458</td><td style = \"text-align: right;\">0.648857</td><td style = \"text-align: right;\">0.636544</td><td style = \"text-align: right;\">-0.378781</td><td style = \"text-align: right;\">0</td></tr><tr><td class = \"rowNumber\" style = \"font-weight: bold; text-align: right;\">746</td><td style = \"text-align: right;\">0.842325</td><td style = \"text-align: right;\">0.854569</td><td style = \"text-align: right;\">-0.311477</td><td style = \"text-align: right;\">1.17402</td><td style = \"text-align: right;\">0.48537</td><td style = \"text-align: right;\">-0.402992</td><td style = \"text-align: right;\">0</td></tr><tr><td class = \"rowNumber\" style = \"font-weight: bold; text-align: right;\">747</td><td style = \"text-align: right;\">0.876067</td><td style = \"text-align: right;\">0.857996</td><td style = \"text-align: right;\">-0.245885</td><td style = \"text-align: right;\">-1.02215</td><td style = \"text-align: right;\">0.334196</td><td style = \"text-align: right;\">-0.369714</td><td style = \"text-align: right;\">0</td></tr><tr><td class = \"rowNumber\" style = \"font-weight: bold; text-align: right;\">748</td><td style = \"text-align: right;\">0.819429</td><td style = \"text-align: right;\">0.843665</td><td style = \"text-align: right;\">-0.15895</td><td style = \"text-align: right;\">-0.584724</td><td style = \"text-align: right;\">0.183022</td><td style = \"text-align: right;\">-0.336433</td><td style = \"text-align: right;\">0</td></tr><tr><td class = \"rowNumber\" style = \"font-weight: bold; text-align: right;\">749</td><td style = \"text-align: right;\">0.787797</td><td style = \"text-align: right;\">0.80036</td><td style = \"text-align: right;\">-0.107536</td><td style = \"text-align: right;\">-0.506835</td><td style = \"text-align: right;\">0.0318474</td><td style = \"text-align: right;\">-0.317873</td><td style = \"text-align: right;\">0</td></tr><tr><td class = \"rowNumber\" style = \"font-weight: bold; text-align: right;\">750</td><td style = \"text-align: right;\">0.796835</td><td style = \"text-align: right;\">0.75207</td><td style = \"text-align: right;\">0.00714945</td><td style = \"text-align: right;\">-0.964927</td><td style = \"text-align: right;\">-0.119327</td><td style = \"text-align: right;\">-0.261029</td><td style = \"text-align: right;\">0</td></tr></tbody></table></div>"
      ],
      "text/latex": [
       "\\begin{tabular}{r|ccccccc}\n",
       "\t& Column1 & Column2 & Column3 & Column4 & Column5 & Column6 & id\\\\\n",
       "\t\\hline\n",
       "\t& Float64 & Float64 & Float64 & Float64 & Float64 & Float64 & Int64\\\\\n",
       "\t\\hline\n",
       "\t1 & -1.14328 & -1.14837 & 0.771212 & 1.48737 & -0.572849 & -1.66773 & 0 \\\\\n",
       "\t2 & -1.14359 & -1.15273 & 0.792103 & -1.78002 & -0.724024 & -1.65087 & 0 \\\\\n",
       "\t3 & -1.15353 & -1.15398 & 0.131879 & -1.0019 & -0.875198 & -1.64385 & 0 \\\\\n",
       "\t4 & -1.146 & -1.14712 & 0.213673 & 0.631147 & -1.02637 & -1.65697 & 0 \\\\\n",
       "\t5 & -1.1231 & -1.13591 & 0.232675 & 2.33811 & 0.960489 & -1.69287 & 0 \\\\\n",
       "\t6 & -1.12039 & -1.11129 & -0.0180413 & 0.0717577 & 0.809315 & -1.70046 & 0 \\\\\n",
       "\t7 & -1.11436 & -1.10164 & -0.236994 & -0.271373 & 0.65814 & -1.69752 & 0 \\\\\n",
       "\t8 & -1.13033 & -1.14276 & 0.0974788 & -0.722158 & 0.506966 & -1.67706 & 0 \\\\\n",
       "\t9 & -1.13666 & -1.13746 & -0.0508722 & -0.56376 & 0.355792 & -1.67351 & 0 \\\\\n",
       "\t10 & -1.14238 & -1.15958 & -0.0203069 & -1.33837 & 0.204618 & -1.65317 & 0 \\\\\n",
       "\t11 & -1.15503 & -1.15927 & 0.0810087 & 0.378704 & 0.0534437 & -1.65621 & 0 \\\\\n",
       "\t12 & -1.12762 & -1.13341 & -0.138932 & 1.70273 & -0.0977305 & -1.69119 & 0 \\\\\n",
       "\t13 & -0.273243 & -0.29691 & -0.457555 & 0.952962 & 0.787718 & -0.937029 & 0 \\\\\n",
       "\t14 & -0.253661 & -0.26887 & -0.578745 & 1.82333 & 0.636544 & -0.991347 & 0 \\\\\n",
       "\t15 & -0.239803 & -0.247062 & -0.497201 & -0.0458789 & 0.48537 & -0.984419 & 0 \\\\\n",
       "\t16 & -0.253059 & -0.287252 & -0.417606 & -1.91006 & 0.334196 & -0.921876 & 0 \\\\\n",
       "\t17 & -0.314516 & -0.295663 & -0.492926 & -0.299163 & 0.183022 & -0.920651 & 0 \\\\\n",
       "\t18 & -0.237393 & -0.27292 & -0.466113 & 2.50242 & 0.0318474 & -1.00498 & 0 \\\\\n",
       "\t19 & -0.233175 & -0.221515 & -0.562 & -0.781972 & -0.119327 & -0.971185 & 0 \\\\\n",
       "\t20 & -0.287704 & -0.300025 & -0.491963 & -1.26694 & -0.270501 & -0.911685 & 0 \\\\\n",
       "\t21 & -0.300959 & -0.308125 & -0.496189 & -0.0290645 & -0.421675 & -0.917572 & 0 \\\\\n",
       "\t22 & -0.275051 & -0.283825 & -0.504852 & 0.360605 & -0.572849 & -0.934628 & 0 \\\\\n",
       "\t23 & -0.307286 & -0.325572 & -0.478678 & 0.260929 & -0.724024 & -0.931313 & 0 \\\\\n",
       "\t24 & -0.272942 & -0.266066 & -0.547895 & 0.726047 & -0.875198 & -0.972892 & 0 \\\\\n",
       "\t25 & 0.464846 & 0.416222 & -0.513411 & 1.92064 & -0.421675 & -0.283229 & 0 \\\\\n",
       "\t26 & 0.476896 & 0.489436 & -0.623455 & 0.352155 & -0.572849 & -0.302755 & 0 \\\\\n",
       "\t27 & 0.55191 & 0.548007 & -0.555499 & 0.439941 & -0.724024 & -0.346856 & 0 \\\\\n",
       "\t28 & 0.546789 & 0.509686 & -0.521802 & -1.29253 & -0.875198 & -0.278934 & 0 \\\\\n",
       "\t29 & 0.51124 & 0.513425 & -0.5986 & 1.19655 & -1.02637 & -0.338791 & 0 \\\\\n",
       "\t30 & 0.55191 & 0.576669 & -0.604667 & 0.375067 & 0.787718 & -0.359097 & 0 \\\\\n",
       "\t$\\dots$ & $\\dots$ & $\\dots$ & $\\dots$ & $\\dots$ & $\\dots$ & $\\dots$ & $\\dots$ \\\\\n",
       "\\end{tabular}\n"
      ],
      "text/plain": [
       "\u001b[1m750×7 DataFrame\u001b[0m\n",
       "\u001b[1m Row \u001b[0m│\u001b[1m Column1    \u001b[0m\u001b[1m Column2     \u001b[0m\u001b[1m Column3     \u001b[0m\u001b[1m Column4    \u001b[0m\u001b[1m Column5    \u001b[0m\u001b[1m Column6  \u001b[0m ⋯\n",
       "     │\u001b[90m Float64    \u001b[0m\u001b[90m Float64     \u001b[0m\u001b[90m Float64     \u001b[0m\u001b[90m Float64    \u001b[0m\u001b[90m Float64    \u001b[0m\u001b[90m Float64  \u001b[0m ⋯\n",
       "─────┼──────────────────────────────────────────────────────────────────────────\n",
       "   1 │ -1.14328    -1.14837      0.771212     1.48737    -0.572849   -1.66773  ⋯\n",
       "   2 │ -1.14359    -1.15273      0.792103    -1.78002    -0.724024   -1.65087\n",
       "   3 │ -1.15353    -1.15398      0.131879    -1.0019     -0.875198   -1.64385\n",
       "   4 │ -1.146      -1.14712      0.213673     0.631147   -1.02637    -1.65697\n",
       "   5 │ -1.1231     -1.13591      0.232675     2.33811     0.960489   -1.69287  ⋯\n",
       "   6 │ -1.12039    -1.11129     -0.0180413    0.0717577   0.809315   -1.70046\n",
       "   7 │ -1.11436    -1.10164     -0.236994    -0.271373    0.65814    -1.69752\n",
       "   8 │ -1.13033    -1.14276      0.0974788   -0.722158    0.506966   -1.67706\n",
       "   9 │ -1.13666    -1.13746     -0.0508722   -0.56376     0.355792   -1.67351  ⋯\n",
       "  10 │ -1.14238    -1.15958     -0.0203069   -1.33837     0.204618   -1.65317\n",
       "  11 │ -1.15503    -1.15927      0.0810087    0.378704    0.0534437  -1.65621\n",
       "  ⋮  │     ⋮            ⋮            ⋮           ⋮           ⋮           ⋮     ⋱\n",
       " 741 │  0.954696    0.928406    -0.468439     1.53419    -0.702427   -0.483469\n",
       " 742 │  1.0041      1.03589     -0.22706      0.758406   -0.875198   -0.516295 ⋯\n",
       " 743 │  1.00802     0.901924    -0.0236335   -2.46053    -1.02637    -0.404345\n",
       " 744 │  0.876368    0.834319    -0.112862    -1.04457     0.787718   -0.362442\n",
       " 745 │  0.840819    0.839926    -0.194458     0.648857    0.636544   -0.378781\n",
       " 746 │  0.842325    0.854569    -0.311477     1.17402     0.48537    -0.402992 ⋯\n",
       " 747 │  0.876067    0.857996    -0.245885    -1.02215     0.334196   -0.369714\n",
       " 748 │  0.819429    0.843665    -0.15895     -0.584724    0.183022   -0.336433\n",
       " 749 │  0.787797    0.80036     -0.107536    -0.506835    0.0318474  -0.317873\n",
       " 750 │  0.796835    0.75207      0.00714945  -0.964927   -0.119327   -0.261029 ⋯\n",
       "\u001b[36m                                                  2 columns and 729 rows omitted\u001b[0m"
      ]
     },
     "execution_count": 189,
     "metadata": {},
     "output_type": "execute_result"
    }
   ],
   "source": [
    "df[!, :id] .= 0\n",
    "df"
   ]
  },
  {
   "cell_type": "markdown",
   "id": "5a6473e5",
   "metadata": {},
   "source": [
    "#### Function to calculate the Euclidean distance between two data vectors"
   ]
  },
  {
   "cell_type": "code",
   "execution_count": 190,
   "id": "952e8a18",
   "metadata": {},
   "outputs": [
    {
     "data": {
      "text/plain": [
       "distance (generic function with 1 method)"
      ]
     },
     "execution_count": 190,
     "metadata": {},
     "output_type": "execute_result"
    }
   ],
   "source": [
    "distance(x, y) =\n",
    "begin\n",
    "    d = 0\n",
    "    for i = 1:6\n",
    "        d += (x[i] - y[i])^2\n",
    "    end\n",
    "    return sqrt(d)\n",
    "end    "
   ]
  },
  {
   "cell_type": "markdown",
   "id": "26c4e2af",
   "metadata": {},
   "source": [
    "### Start the clock for measuring the time taken by the algorithm"
   ]
  },
  {
   "cell_type": "code",
   "execution_count": 191,
   "id": "0b974e29",
   "metadata": {},
   "outputs": [
    {
     "data": {
      "text/plain": [
       "2022-12-04T00:04:59.241"
      ]
     },
     "execution_count": 191,
     "metadata": {},
     "output_type": "execute_result"
    }
   ],
   "source": [
    "start_time = now()"
   ]
  },
  {
   "cell_type": "markdown",
   "id": "6099c504",
   "metadata": {},
   "source": [
    "## Selecting random cluster centers"
   ]
  },
  {
   "cell_type": "code",
   "execution_count": 192,
   "id": "79327133",
   "metadata": {},
   "outputs": [
    {
     "name": "stdout",
     "output_type": "stream",
     "text": [
      "[706, 315, 678, 45]"
     ]
    }
   ],
   "source": [
    "center_indices = shuffle(1:SAMPLES)[1:CLUSTERS]\n",
    "for i = 1:CLUSTERS\n",
    "    df[center_indices[i], :id] = i\n",
    "end\n",
    "print(center_indices)"
   ]
  },
  {
   "cell_type": "code",
   "execution_count": 193,
   "id": "ce397ebf",
   "metadata": {},
   "outputs": [
    {
     "data": {
      "text/plain": [
       "4-element Vector{Any}:\n",
       " \u001b[1mDataFrameRow\u001b[0m\n",
       "\u001b[1m Row \u001b[0m│\u001b[1m Column1 \u001b[0m\u001b[1m Column2 \u001b[0m\u001b[1m Column3   \u001b[0m\u001b[1m Column4   \u001b[0m\u001b[1m Column5  \u001b[0m\u001b[1m Column6   \u001b[0m\u001b[1m id    \u001b[0m\n",
       "     │\u001b[90m Float64 \u001b[0m\u001b[90m Float64 \u001b[0m\u001b[90m Float64   \u001b[0m\u001b[90m Float64   \u001b[0m\u001b[90m Float64  \u001b[0m\u001b[90m Float64   \u001b[0m\u001b[90m Int64 \u001b[0m\n",
       "─────┼────────────────────────────────────────────────────────────────────\n",
       " 706 │ 1.04176  1.05957  -0.603325  -0.451289  0.787718  -0.469259      1\n",
       " \u001b[1mDataFrameRow\u001b[0m\n",
       "\u001b[1m Row \u001b[0m│\u001b[1m Column1  \u001b[0m\u001b[1m Column2  \u001b[0m\u001b[1m Column3   \u001b[0m\u001b[1m Column4  \u001b[0m\u001b[1m Column5   \u001b[0m\u001b[1m Column6   \u001b[0m\u001b[1m id    \u001b[0m\n",
       "     │\u001b[90m Float64  \u001b[0m\u001b[90m Float64  \u001b[0m\u001b[90m Float64   \u001b[0m\u001b[90m Float64  \u001b[0m\u001b[90m Float64   \u001b[0m\u001b[90m Float64   \u001b[0m\u001b[90m Int64 \u001b[0m\n",
       "─────┼──────────────────────────────────────────────────────────────────────\n",
       " 315 │ 0.778157  0.820611  -0.638378  0.441224  -0.572849  -0.509914      2\n",
       " \u001b[1mDataFrameRow\u001b[0m\n",
       "\u001b[1m Row \u001b[0m│\u001b[1m Column1   \u001b[0m\u001b[1m Column2   \u001b[0m\u001b[1m Column3  \u001b[0m\u001b[1m Column4   \u001b[0m\u001b[1m Column5  \u001b[0m\u001b[1m Column6 \u001b[0m\u001b[1m id    \u001b[0m\n",
       "     │\u001b[90m Float64   \u001b[0m\u001b[90m Float64   \u001b[0m\u001b[90m Float64  \u001b[0m\u001b[90m Float64   \u001b[0m\u001b[90m Float64  \u001b[0m\u001b[90m Float64 \u001b[0m\u001b[90m Int64 \u001b[0m\n",
       "─────┼─────────────────────────────────────────────────────────────────────\n",
       " 678 │ -0.684765  -0.673259  0.243048  -0.447597  0.183022  2.23971      3\n",
       " \u001b[1mDataFrameRow\u001b[0m\n",
       "\u001b[1m Row \u001b[0m│\u001b[1m Column1  \u001b[0m\u001b[1m Column2  \u001b[0m\u001b[1m Column3 \u001b[0m\u001b[1m Column4   \u001b[0m\u001b[1m Column5  \u001b[0m\u001b[1m Column6  \u001b[0m\u001b[1m id    \u001b[0m\n",
       "     │\u001b[90m Float64  \u001b[0m\u001b[90m Float64  \u001b[0m\u001b[90m Float64 \u001b[0m\u001b[90m Float64   \u001b[0m\u001b[90m Float64  \u001b[0m\u001b[90m Float64  \u001b[0m\u001b[90m Int64 \u001b[0m\n",
       "─────┼───────────────────────────────────────────────────────────────────\n",
       "  45 │ -1.21077  -1.20974  3.67659  -0.437745  0.787718  -2.03422      4"
      ]
     },
     "execution_count": 193,
     "metadata": {},
     "output_type": "execute_result"
    }
   ],
   "source": [
    "centers = []\n",
    "for i = 1:CLUSTERS\n",
    "    append!(centers, [df[center_indices[i], :]])\n",
    "end\n",
    "centers"
   ]
  },
  {
   "cell_type": "markdown",
   "id": "32138a7d",
   "metadata": {},
   "source": [
    "#### Function to compute the cluster a given vector is assigned based on the closest cluster center"
   ]
  },
  {
   "cell_type": "code",
   "execution_count": 194,
   "id": "842e752e",
   "metadata": {},
   "outputs": [
    {
     "data": {
      "text/plain": [
       "assignCluster (generic function with 1 method)"
      ]
     },
     "execution_count": 194,
     "metadata": {},
     "output_type": "execute_result"
    }
   ],
   "source": [
    "function assignCluster(i)\n",
    "    min_dist = Inf\n",
    "    id = 0\n",
    "    for k = 1:CLUSTERS\n",
    "        d = distance(df[i, :], centers[k])\n",
    "        if d < min_dist\n",
    "            min_dist = d\n",
    "            id = centers[k][\"id\"]\n",
    "        end\n",
    "    end\n",
    "    df[i, :id] = id    \n",
    "end"
   ]
  },
  {
   "cell_type": "markdown",
   "id": "27ad36c9",
   "metadata": {},
   "source": [
    "#### Function to compute the total cluster variance ($J_{\\text{cluster}}$)\n",
    "$$J_{\\text{cluster}} = \\sum_{k} \\sum_{i \\in k} \\frac{||\\overrightarrow{x_i} - \\overrightarrow{\\mu_k}||^2}{N_k} $$"
   ]
  },
  {
   "cell_type": "code",
   "execution_count": 195,
   "id": "41bffbab",
   "metadata": {},
   "outputs": [
    {
     "data": {
      "text/plain": [
       "clusterVariance (generic function with 1 method)"
      ]
     },
     "execution_count": 195,
     "metadata": {},
     "output_type": "execute_result"
    }
   ],
   "source": [
    "clusterVariance() = \n",
    "begin\n",
    "    J_cluster = 0\n",
    "    for k = 1:CLUSTERS\n",
    "        J = 0\n",
    "        cnt = 0\n",
    "        for i = 1:SAMPLES\n",
    "            if df[i, \"id\"] == k\n",
    "                J += distance(df[i, :], centers[k])^2\n",
    "                cnt += 1\n",
    "            end\n",
    "        end\n",
    "        J_cluster += J / cnt\n",
    "    end\n",
    "    return J_cluster\n",
    "end"
   ]
  },
  {
   "cell_type": "markdown",
   "id": "b687291d",
   "metadata": {},
   "source": [
    "#### Function to recompute the cluster centers after each iteration\n",
    "$$\\overrightarrow{\\mu_k}^{(t+1)} = \\frac{1}{N_k^{(t)}} \\sum_{i \\in k} \\overrightarrow{x_i}^{(t)} $$"
   ]
  },
  {
   "cell_type": "code",
   "execution_count": 196,
   "id": "5b050a04",
   "metadata": {},
   "outputs": [
    {
     "data": {
      "text/plain": [
       "recomputeCenters (generic function with 1 method)"
      ]
     },
     "execution_count": 196,
     "metadata": {},
     "output_type": "execute_result"
    }
   ],
   "source": [
    "function recomputeCenters()\n",
    "    for k = 1:CLUSTERS\n",
    "        sm = zeros(6,1)\n",
    "        cnt = 0\n",
    "        for i = 1:SAMPLES\n",
    "            if df[i, :id] == k\n",
    "                for j = 1:6\n",
    "                    sm[j] += df[i, j]\n",
    "                    cnt += 1\n",
    "                end\n",
    "            end\n",
    "        end\n",
    "        for l = 1:6\n",
    "            centers[k][l] = sm[l] / cnt\n",
    "        end\n",
    "    end\n",
    "end"
   ]
  },
  {
   "cell_type": "markdown",
   "id": "7eb24112",
   "metadata": {},
   "source": [
    "## First iteration "
   ]
  },
  {
   "cell_type": "code",
   "execution_count": 197,
   "id": "32fa5a71",
   "metadata": {},
   "outputs": [
    {
     "data": {
      "text/html": [
       "<div><div style = \"float: left;\"><span>750×7 DataFrame</span></div><div style = \"float: right;\"><span style = \"font-style: italic;\">725 rows omitted</span></div><div style = \"clear: both;\"></div></div><div class = \"data-frame\" style = \"overflow-x: scroll;\"><table class = \"data-frame\" style = \"margin-bottom: 6px;\"><thead><tr class = \"header\"><th class = \"rowNumber\" style = \"font-weight: bold; text-align: right;\">Row</th><th style = \"text-align: left;\">Column1</th><th style = \"text-align: left;\">Column2</th><th style = \"text-align: left;\">Column3</th><th style = \"text-align: left;\">Column4</th><th style = \"text-align: left;\">Column5</th><th style = \"text-align: left;\">Column6</th><th style = \"text-align: left;\">id</th></tr><tr class = \"subheader headerLastRow\"><th class = \"rowNumber\" style = \"font-weight: bold; text-align: right;\"></th><th title = \"Float64\" style = \"text-align: left;\">Float64</th><th title = \"Float64\" style = \"text-align: left;\">Float64</th><th title = \"Float64\" style = \"text-align: left;\">Float64</th><th title = \"Float64\" style = \"text-align: left;\">Float64</th><th title = \"Float64\" style = \"text-align: left;\">Float64</th><th title = \"Float64\" style = \"text-align: left;\">Float64</th><th title = \"Int64\" style = \"text-align: left;\">Int64</th></tr></thead><tbody><tr><td class = \"rowNumber\" style = \"font-weight: bold; text-align: right;\">1</td><td style = \"text-align: right;\">-1.14328</td><td style = \"text-align: right;\">-1.14837</td><td style = \"text-align: right;\">0.771212</td><td style = \"text-align: right;\">1.48737</td><td style = \"text-align: right;\">-0.572849</td><td style = \"text-align: right;\">-1.66773</td><td style = \"text-align: right;\">2</td></tr><tr><td class = \"rowNumber\" style = \"font-weight: bold; text-align: right;\">2</td><td style = \"text-align: right;\">-1.14359</td><td style = \"text-align: right;\">-1.15273</td><td style = \"text-align: right;\">0.792103</td><td style = \"text-align: right;\">-1.78002</td><td style = \"text-align: right;\">-0.724024</td><td style = \"text-align: right;\">-1.65087</td><td style = \"text-align: right;\">4</td></tr><tr><td class = \"rowNumber\" style = \"font-weight: bold; text-align: right;\">3</td><td style = \"text-align: right;\">-1.15353</td><td style = \"text-align: right;\">-1.15398</td><td style = \"text-align: right;\">0.131879</td><td style = \"text-align: right;\">-1.0019</td><td style = \"text-align: right;\">-0.875198</td><td style = \"text-align: right;\">-1.64385</td><td style = \"text-align: right;\">2</td></tr><tr><td class = \"rowNumber\" style = \"font-weight: bold; text-align: right;\">4</td><td style = \"text-align: right;\">-1.146</td><td style = \"text-align: right;\">-1.14712</td><td style = \"text-align: right;\">0.213673</td><td style = \"text-align: right;\">0.631147</td><td style = \"text-align: right;\">-1.02637</td><td style = \"text-align: right;\">-1.65697</td><td style = \"text-align: right;\">2</td></tr><tr><td class = \"rowNumber\" style = \"font-weight: bold; text-align: right;\">5</td><td style = \"text-align: right;\">-1.1231</td><td style = \"text-align: right;\">-1.13591</td><td style = \"text-align: right;\">0.232675</td><td style = \"text-align: right;\">2.33811</td><td style = \"text-align: right;\">0.960489</td><td style = \"text-align: right;\">-1.69287</td><td style = \"text-align: right;\">2</td></tr><tr><td class = \"rowNumber\" style = \"font-weight: bold; text-align: right;\">6</td><td style = \"text-align: right;\">-1.12039</td><td style = \"text-align: right;\">-1.11129</td><td style = \"text-align: right;\">-0.0180413</td><td style = \"text-align: right;\">0.0717577</td><td style = \"text-align: right;\">0.809315</td><td style = \"text-align: right;\">-1.70046</td><td style = \"text-align: right;\">2</td></tr><tr><td class = \"rowNumber\" style = \"font-weight: bold; text-align: right;\">7</td><td style = \"text-align: right;\">-1.11436</td><td style = \"text-align: right;\">-1.10164</td><td style = \"text-align: right;\">-0.236994</td><td style = \"text-align: right;\">-0.271373</td><td style = \"text-align: right;\">0.65814</td><td style = \"text-align: right;\">-1.69752</td><td style = \"text-align: right;\">2</td></tr><tr><td class = \"rowNumber\" style = \"font-weight: bold; text-align: right;\">8</td><td style = \"text-align: right;\">-1.13033</td><td style = \"text-align: right;\">-1.14276</td><td style = \"text-align: right;\">0.0974788</td><td style = \"text-align: right;\">-0.722158</td><td style = \"text-align: right;\">0.506966</td><td style = \"text-align: right;\">-1.67706</td><td style = \"text-align: right;\">1</td></tr><tr><td class = \"rowNumber\" style = \"font-weight: bold; text-align: right;\">9</td><td style = \"text-align: right;\">-1.13666</td><td style = \"text-align: right;\">-1.13746</td><td style = \"text-align: right;\">-0.0508722</td><td style = \"text-align: right;\">-0.56376</td><td style = \"text-align: right;\">0.355792</td><td style = \"text-align: right;\">-1.67351</td><td style = \"text-align: right;\">2</td></tr><tr><td class = \"rowNumber\" style = \"font-weight: bold; text-align: right;\">10</td><td style = \"text-align: right;\">-1.14238</td><td style = \"text-align: right;\">-1.15958</td><td style = \"text-align: right;\">-0.0203069</td><td style = \"text-align: right;\">-1.33837</td><td style = \"text-align: right;\">0.204618</td><td style = \"text-align: right;\">-1.65317</td><td style = \"text-align: right;\">1</td></tr><tr><td class = \"rowNumber\" style = \"font-weight: bold; text-align: right;\">11</td><td style = \"text-align: right;\">-1.15503</td><td style = \"text-align: right;\">-1.15927</td><td style = \"text-align: right;\">0.0810087</td><td style = \"text-align: right;\">0.378704</td><td style = \"text-align: right;\">0.0534437</td><td style = \"text-align: right;\">-1.65621</td><td style = \"text-align: right;\">2</td></tr><tr><td class = \"rowNumber\" style = \"font-weight: bold; text-align: right;\">12</td><td style = \"text-align: right;\">-1.12762</td><td style = \"text-align: right;\">-1.13341</td><td style = \"text-align: right;\">-0.138932</td><td style = \"text-align: right;\">1.70273</td><td style = \"text-align: right;\">-0.0977305</td><td style = \"text-align: right;\">-1.69119</td><td style = \"text-align: right;\">2</td></tr><tr><td class = \"rowNumber\" style = \"font-weight: bold; text-align: right;\">13</td><td style = \"text-align: right;\">-0.273243</td><td style = \"text-align: right;\">-0.29691</td><td style = \"text-align: right;\">-0.457555</td><td style = \"text-align: right;\">0.952962</td><td style = \"text-align: right;\">0.787718</td><td style = \"text-align: right;\">-0.937029</td><td style = \"text-align: right;\">2</td></tr><tr><td style = \"text-align: right;\">&vellip;</td><td style = \"text-align: right;\">&vellip;</td><td style = \"text-align: right;\">&vellip;</td><td style = \"text-align: right;\">&vellip;</td><td style = \"text-align: right;\">&vellip;</td><td style = \"text-align: right;\">&vellip;</td><td style = \"text-align: right;\">&vellip;</td><td style = \"text-align: right;\">&vellip;</td></tr><tr><td class = \"rowNumber\" style = \"font-weight: bold; text-align: right;\">739</td><td style = \"text-align: right;\">0.950478</td><td style = \"text-align: right;\">0.979188</td><td style = \"text-align: right;\">-0.265146</td><td style = \"text-align: right;\">0.777161</td><td style = \"text-align: right;\">-0.421675</td><td style = \"text-align: right;\">-0.474962</td><td style = \"text-align: right;\">2</td></tr><tr><td class = \"rowNumber\" style = \"font-weight: bold; text-align: right;\">740</td><td style = \"text-align: right;\">0.948369</td><td style = \"text-align: right;\">0.926537</td><td style = \"text-align: right;\">-0.230475</td><td style = \"text-align: right;\">-0.787568</td><td style = \"text-align: right;\">-0.572849</td><td style = \"text-align: right;\">-0.439686</td><td style = \"text-align: right;\">2</td></tr><tr><td class = \"rowNumber\" style = \"font-weight: bold; text-align: right;\">741</td><td style = \"text-align: right;\">0.954696</td><td style = \"text-align: right;\">0.928406</td><td style = \"text-align: right;\">-0.468439</td><td style = \"text-align: right;\">1.53419</td><td style = \"text-align: right;\">-0.702427</td><td style = \"text-align: right;\">-0.483469</td><td style = \"text-align: right;\">2</td></tr><tr><td class = \"rowNumber\" style = \"font-weight: bold; text-align: right;\">742</td><td style = \"text-align: right;\">1.0041</td><td style = \"text-align: right;\">1.03589</td><td style = \"text-align: right;\">-0.22706</td><td style = \"text-align: right;\">0.758406</td><td style = \"text-align: right;\">-0.875198</td><td style = \"text-align: right;\">-0.516295</td><td style = \"text-align: right;\">2</td></tr><tr><td class = \"rowNumber\" style = \"font-weight: bold; text-align: right;\">743</td><td style = \"text-align: right;\">1.00802</td><td style = \"text-align: right;\">0.901924</td><td style = \"text-align: right;\">-0.0236335</td><td style = \"text-align: right;\">-2.46053</td><td style = \"text-align: right;\">-1.02637</td><td style = \"text-align: right;\">-0.404345</td><td style = \"text-align: right;\">1</td></tr><tr><td class = \"rowNumber\" style = \"font-weight: bold; text-align: right;\">744</td><td style = \"text-align: right;\">0.876368</td><td style = \"text-align: right;\">0.834319</td><td style = \"text-align: right;\">-0.112862</td><td style = \"text-align: right;\">-1.04457</td><td style = \"text-align: right;\">0.787718</td><td style = \"text-align: right;\">-0.362442</td><td style = \"text-align: right;\">1</td></tr><tr><td class = \"rowNumber\" style = \"font-weight: bold; text-align: right;\">745</td><td style = \"text-align: right;\">0.840819</td><td style = \"text-align: right;\">0.839926</td><td style = \"text-align: right;\">-0.194458</td><td style = \"text-align: right;\">0.648857</td><td style = \"text-align: right;\">0.636544</td><td style = \"text-align: right;\">-0.378781</td><td style = \"text-align: right;\">1</td></tr><tr><td class = \"rowNumber\" style = \"font-weight: bold; text-align: right;\">746</td><td style = \"text-align: right;\">0.842325</td><td style = \"text-align: right;\">0.854569</td><td style = \"text-align: right;\">-0.311477</td><td style = \"text-align: right;\">1.17402</td><td style = \"text-align: right;\">0.48537</td><td style = \"text-align: right;\">-0.402992</td><td style = \"text-align: right;\">2</td></tr><tr><td class = \"rowNumber\" style = \"font-weight: bold; text-align: right;\">747</td><td style = \"text-align: right;\">0.876067</td><td style = \"text-align: right;\">0.857996</td><td style = \"text-align: right;\">-0.245885</td><td style = \"text-align: right;\">-1.02215</td><td style = \"text-align: right;\">0.334196</td><td style = \"text-align: right;\">-0.369714</td><td style = \"text-align: right;\">1</td></tr><tr><td class = \"rowNumber\" style = \"font-weight: bold; text-align: right;\">748</td><td style = \"text-align: right;\">0.819429</td><td style = \"text-align: right;\">0.843665</td><td style = \"text-align: right;\">-0.15895</td><td style = \"text-align: right;\">-0.584724</td><td style = \"text-align: right;\">0.183022</td><td style = \"text-align: right;\">-0.336433</td><td style = \"text-align: right;\">1</td></tr><tr><td class = \"rowNumber\" style = \"font-weight: bold; text-align: right;\">749</td><td style = \"text-align: right;\">0.787797</td><td style = \"text-align: right;\">0.80036</td><td style = \"text-align: right;\">-0.107536</td><td style = \"text-align: right;\">-0.506835</td><td style = \"text-align: right;\">0.0318474</td><td style = \"text-align: right;\">-0.317873</td><td style = \"text-align: right;\">1</td></tr><tr><td class = \"rowNumber\" style = \"font-weight: bold; text-align: right;\">750</td><td style = \"text-align: right;\">0.796835</td><td style = \"text-align: right;\">0.75207</td><td style = \"text-align: right;\">0.00714945</td><td style = \"text-align: right;\">-0.964927</td><td style = \"text-align: right;\">-0.119327</td><td style = \"text-align: right;\">-0.261029</td><td style = \"text-align: right;\">1</td></tr></tbody></table></div>"
      ],
      "text/latex": [
       "\\begin{tabular}{r|ccccccc}\n",
       "\t& Column1 & Column2 & Column3 & Column4 & Column5 & Column6 & id\\\\\n",
       "\t\\hline\n",
       "\t& Float64 & Float64 & Float64 & Float64 & Float64 & Float64 & Int64\\\\\n",
       "\t\\hline\n",
       "\t1 & -1.14328 & -1.14837 & 0.771212 & 1.48737 & -0.572849 & -1.66773 & 2 \\\\\n",
       "\t2 & -1.14359 & -1.15273 & 0.792103 & -1.78002 & -0.724024 & -1.65087 & 4 \\\\\n",
       "\t3 & -1.15353 & -1.15398 & 0.131879 & -1.0019 & -0.875198 & -1.64385 & 2 \\\\\n",
       "\t4 & -1.146 & -1.14712 & 0.213673 & 0.631147 & -1.02637 & -1.65697 & 2 \\\\\n",
       "\t5 & -1.1231 & -1.13591 & 0.232675 & 2.33811 & 0.960489 & -1.69287 & 2 \\\\\n",
       "\t6 & -1.12039 & -1.11129 & -0.0180413 & 0.0717577 & 0.809315 & -1.70046 & 2 \\\\\n",
       "\t7 & -1.11436 & -1.10164 & -0.236994 & -0.271373 & 0.65814 & -1.69752 & 2 \\\\\n",
       "\t8 & -1.13033 & -1.14276 & 0.0974788 & -0.722158 & 0.506966 & -1.67706 & 1 \\\\\n",
       "\t9 & -1.13666 & -1.13746 & -0.0508722 & -0.56376 & 0.355792 & -1.67351 & 2 \\\\\n",
       "\t10 & -1.14238 & -1.15958 & -0.0203069 & -1.33837 & 0.204618 & -1.65317 & 1 \\\\\n",
       "\t11 & -1.15503 & -1.15927 & 0.0810087 & 0.378704 & 0.0534437 & -1.65621 & 2 \\\\\n",
       "\t12 & -1.12762 & -1.13341 & -0.138932 & 1.70273 & -0.0977305 & -1.69119 & 2 \\\\\n",
       "\t13 & -0.273243 & -0.29691 & -0.457555 & 0.952962 & 0.787718 & -0.937029 & 2 \\\\\n",
       "\t14 & -0.253661 & -0.26887 & -0.578745 & 1.82333 & 0.636544 & -0.991347 & 2 \\\\\n",
       "\t15 & -0.239803 & -0.247062 & -0.497201 & -0.0458789 & 0.48537 & -0.984419 & 2 \\\\\n",
       "\t16 & -0.253059 & -0.287252 & -0.417606 & -1.91006 & 0.334196 & -0.921876 & 1 \\\\\n",
       "\t17 & -0.314516 & -0.295663 & -0.492926 & -0.299163 & 0.183022 & -0.920651 & 2 \\\\\n",
       "\t18 & -0.237393 & -0.27292 & -0.466113 & 2.50242 & 0.0318474 & -1.00498 & 2 \\\\\n",
       "\t19 & -0.233175 & -0.221515 & -0.562 & -0.781972 & -0.119327 & -0.971185 & 2 \\\\\n",
       "\t20 & -0.287704 & -0.300025 & -0.491963 & -1.26694 & -0.270501 & -0.911685 & 2 \\\\\n",
       "\t21 & -0.300959 & -0.308125 & -0.496189 & -0.0290645 & -0.421675 & -0.917572 & 2 \\\\\n",
       "\t22 & -0.275051 & -0.283825 & -0.504852 & 0.360605 & -0.572849 & -0.934628 & 2 \\\\\n",
       "\t23 & -0.307286 & -0.325572 & -0.478678 & 0.260929 & -0.724024 & -0.931313 & 2 \\\\\n",
       "\t24 & -0.272942 & -0.266066 & -0.547895 & 0.726047 & -0.875198 & -0.972892 & 2 \\\\\n",
       "\t25 & 0.464846 & 0.416222 & -0.513411 & 1.92064 & -0.421675 & -0.283229 & 2 \\\\\n",
       "\t26 & 0.476896 & 0.489436 & -0.623455 & 0.352155 & -0.572849 & -0.302755 & 2 \\\\\n",
       "\t27 & 0.55191 & 0.548007 & -0.555499 & 0.439941 & -0.724024 & -0.346856 & 2 \\\\\n",
       "\t28 & 0.546789 & 0.509686 & -0.521802 & -1.29253 & -0.875198 & -0.278934 & 2 \\\\\n",
       "\t29 & 0.51124 & 0.513425 & -0.5986 & 1.19655 & -1.02637 & -0.338791 & 2 \\\\\n",
       "\t30 & 0.55191 & 0.576669 & -0.604667 & 0.375067 & 0.787718 & -0.359097 & 1 \\\\\n",
       "\t$\\dots$ & $\\dots$ & $\\dots$ & $\\dots$ & $\\dots$ & $\\dots$ & $\\dots$ & $\\dots$ \\\\\n",
       "\\end{tabular}\n"
      ],
      "text/plain": [
       "\u001b[1m750×7 DataFrame\u001b[0m\n",
       "\u001b[1m Row \u001b[0m│\u001b[1m Column1    \u001b[0m\u001b[1m Column2     \u001b[0m\u001b[1m Column3     \u001b[0m\u001b[1m Column4    \u001b[0m\u001b[1m Column5    \u001b[0m\u001b[1m Column6  \u001b[0m ⋯\n",
       "     │\u001b[90m Float64    \u001b[0m\u001b[90m Float64     \u001b[0m\u001b[90m Float64     \u001b[0m\u001b[90m Float64    \u001b[0m\u001b[90m Float64    \u001b[0m\u001b[90m Float64  \u001b[0m ⋯\n",
       "─────┼──────────────────────────────────────────────────────────────────────────\n",
       "   1 │ -1.14328    -1.14837      0.771212     1.48737    -0.572849   -1.66773  ⋯\n",
       "   2 │ -1.14359    -1.15273      0.792103    -1.78002    -0.724024   -1.65087\n",
       "   3 │ -1.15353    -1.15398      0.131879    -1.0019     -0.875198   -1.64385\n",
       "   4 │ -1.146      -1.14712      0.213673     0.631147   -1.02637    -1.65697\n",
       "   5 │ -1.1231     -1.13591      0.232675     2.33811     0.960489   -1.69287  ⋯\n",
       "   6 │ -1.12039    -1.11129     -0.0180413    0.0717577   0.809315   -1.70046\n",
       "   7 │ -1.11436    -1.10164     -0.236994    -0.271373    0.65814    -1.69752\n",
       "   8 │ -1.13033    -1.14276      0.0974788   -0.722158    0.506966   -1.67706\n",
       "   9 │ -1.13666    -1.13746     -0.0508722   -0.56376     0.355792   -1.67351  ⋯\n",
       "  10 │ -1.14238    -1.15958     -0.0203069   -1.33837     0.204618   -1.65317\n",
       "  11 │ -1.15503    -1.15927      0.0810087    0.378704    0.0534437  -1.65621\n",
       "  ⋮  │     ⋮            ⋮            ⋮           ⋮           ⋮           ⋮     ⋱\n",
       " 741 │  0.954696    0.928406    -0.468439     1.53419    -0.702427   -0.483469\n",
       " 742 │  1.0041      1.03589     -0.22706      0.758406   -0.875198   -0.516295 ⋯\n",
       " 743 │  1.00802     0.901924    -0.0236335   -2.46053    -1.02637    -0.404345\n",
       " 744 │  0.876368    0.834319    -0.112862    -1.04457     0.787718   -0.362442\n",
       " 745 │  0.840819    0.839926    -0.194458     0.648857    0.636544   -0.378781\n",
       " 746 │  0.842325    0.854569    -0.311477     1.17402     0.48537    -0.402992 ⋯\n",
       " 747 │  0.876067    0.857996    -0.245885    -1.02215     0.334196   -0.369714\n",
       " 748 │  0.819429    0.843665    -0.15895     -0.584724    0.183022   -0.336433\n",
       " 749 │  0.787797    0.80036     -0.107536    -0.506835    0.0318474  -0.317873\n",
       " 750 │  0.796835    0.75207      0.00714945  -0.964927   -0.119327   -0.261029 ⋯\n",
       "\u001b[36m                                                  2 columns and 729 rows omitted\u001b[0m"
      ]
     },
     "execution_count": 197,
     "metadata": {},
     "output_type": "execute_result"
    }
   ],
   "source": [
    "for i = 1:SAMPLES\n",
    "    if df[i, :id] == 0\n",
    "        assignCluster(i)\n",
    "    end\n",
    "end\n",
    "\n",
    "df"
   ]
  },
  {
   "cell_type": "code",
   "execution_count": 198,
   "id": "1ede6737",
   "metadata": {},
   "outputs": [
    {
     "name": "stdout",
     "output_type": "stream",
     "text": [
      "[21.470336643785124]"
     ]
    }
   ],
   "source": [
    "J_iters = [clusterVariance()]\n",
    "print(J_iters)"
   ]
  },
  {
   "cell_type": "code",
   "execution_count": 199,
   "id": "0133b690",
   "metadata": {},
   "outputs": [
    {
     "data": {
      "text/plain": [
       "4-element Vector{Any}:\n",
       " \u001b[1mDataFrameRow\u001b[0m\n",
       "\u001b[1m Row \u001b[0m│\u001b[1m Column1  \u001b[0m\u001b[1m Column2  \u001b[0m\u001b[1m Column3   \u001b[0m\u001b[1m Column4    \u001b[0m\u001b[1m Column5  \u001b[0m\u001b[1m Column6    \u001b[0m\u001b[1m id    \u001b[0m\n",
       "     │\u001b[90m Float64  \u001b[0m\u001b[90m Float64  \u001b[0m\u001b[90m Float64   \u001b[0m\u001b[90m Float64    \u001b[0m\u001b[90m Float64  \u001b[0m\u001b[90m Float64    \u001b[0m\u001b[90m Int64 \u001b[0m\n",
       "─────┼────────────────────────────────────────────────────────────────────────\n",
       " 706 │ 0.120553  0.118982  -0.071762  -0.0971214  0.139288  -0.0284231      1\n",
       " \u001b[1mDataFrameRow\u001b[0m\n",
       "\u001b[1m Row \u001b[0m│\u001b[1m Column1   \u001b[0m\u001b[1m Column2   \u001b[0m\u001b[1m Column3    \u001b[0m\u001b[1m Column4   \u001b[0m\u001b[1m Column5    \u001b[0m\u001b[1m Column6    \u001b[0m\u001b[1m id\u001b[0m ⋯\n",
       "     │\u001b[90m Float64   \u001b[0m\u001b[90m Float64   \u001b[0m\u001b[90m Float64    \u001b[0m\u001b[90m Float64   \u001b[0m\u001b[90m Float64    \u001b[0m\u001b[90m Float64    \u001b[0m\u001b[90m In\u001b[0m ⋯\n",
       "─────┼──────────────────────────────────────────────────────────────────────────\n",
       " 315 │ 0.0465376  0.0471151  -0.0607519  0.0701248  -0.0590039  -0.0524222     ⋯\n",
       "\u001b[36m                                                                1 column omitted\u001b[0m\n",
       " \u001b[1mDataFrameRow\u001b[0m\n",
       "\u001b[1m Row \u001b[0m│\u001b[1m Column1   \u001b[0m\u001b[1m Column2   \u001b[0m\u001b[1m Column3  \u001b[0m\u001b[1m Column4    \u001b[0m\u001b[1m Column5      \u001b[0m\u001b[1m Column6  \u001b[0m\u001b[1m id \u001b[0m ⋯\n",
       "     │\u001b[90m Float64   \u001b[0m\u001b[90m Float64   \u001b[0m\u001b[90m Float64  \u001b[0m\u001b[90m Float64    \u001b[0m\u001b[90m Float64      \u001b[0m\u001b[90m Float64  \u001b[0m\u001b[90m Int\u001b[0m ⋯\n",
       "─────┼──────────────────────────────────────────────────────────────────────────\n",
       " 678 │ -0.129455  -0.129076  0.045072  -0.0218781  -0.000543415  0.181753      ⋯\n",
       "\u001b[36m                                                                1 column omitted\u001b[0m\n",
       " \u001b[1mDataFrameRow\u001b[0m\n",
       "\u001b[1m Row \u001b[0m│\u001b[1m Column1   \u001b[0m\u001b[1m Column2   \u001b[0m\u001b[1m Column3  \u001b[0m\u001b[1m Column4    \u001b[0m\u001b[1m Column5    \u001b[0m\u001b[1m Column6   \u001b[0m\u001b[1m id  \u001b[0m ⋯\n",
       "     │\u001b[90m Float64   \u001b[0m\u001b[90m Float64   \u001b[0m\u001b[90m Float64  \u001b[0m\u001b[90m Float64    \u001b[0m\u001b[90m Float64    \u001b[0m\u001b[90m Float64   \u001b[0m\u001b[90m Int6\u001b[0m ⋯\n",
       "─────┼──────────────────────────────────────────────────────────────────────────\n",
       "  45 │ -0.192778  -0.193317  0.461932  -0.0944904  -0.0252516  -0.250765       ⋯\n",
       "\u001b[36m                                                                1 column omitted\u001b[0m"
      ]
     },
     "execution_count": 199,
     "metadata": {},
     "output_type": "execute_result"
    }
   ],
   "source": [
    "recomputeCenters()\n",
    "centers"
   ]
  },
  {
   "cell_type": "markdown",
   "id": "7020316f",
   "metadata": {},
   "source": [
    "## Remaining iterations (until convergence)"
   ]
  },
  {
   "cell_type": "code",
   "execution_count": 200,
   "id": "1dbda56c",
   "metadata": {},
   "outputs": [
    {
     "data": {
      "text/html": [
       "<div><div style = \"float: left;\"><span>750×7 DataFrame</span></div><div style = \"float: right;\"><span style = \"font-style: italic;\">725 rows omitted</span></div><div style = \"clear: both;\"></div></div><div class = \"data-frame\" style = \"overflow-x: scroll;\"><table class = \"data-frame\" style = \"margin-bottom: 6px;\"><thead><tr class = \"header\"><th class = \"rowNumber\" style = \"font-weight: bold; text-align: right;\">Row</th><th style = \"text-align: left;\">Column1</th><th style = \"text-align: left;\">Column2</th><th style = \"text-align: left;\">Column3</th><th style = \"text-align: left;\">Column4</th><th style = \"text-align: left;\">Column5</th><th style = \"text-align: left;\">Column6</th><th style = \"text-align: left;\">id</th></tr><tr class = \"subheader headerLastRow\"><th class = \"rowNumber\" style = \"font-weight: bold; text-align: right;\"></th><th title = \"Float64\" style = \"text-align: left;\">Float64</th><th title = \"Float64\" style = \"text-align: left;\">Float64</th><th title = \"Float64\" style = \"text-align: left;\">Float64</th><th title = \"Float64\" style = \"text-align: left;\">Float64</th><th title = \"Float64\" style = \"text-align: left;\">Float64</th><th title = \"Float64\" style = \"text-align: left;\">Float64</th><th title = \"Int64\" style = \"text-align: left;\">Int64</th></tr></thead><tbody><tr><td class = \"rowNumber\" style = \"font-weight: bold; text-align: right;\">1</td><td style = \"text-align: right;\">-1.14328</td><td style = \"text-align: right;\">-1.14837</td><td style = \"text-align: right;\">0.771212</td><td style = \"text-align: right;\">1.48737</td><td style = \"text-align: right;\">-0.572849</td><td style = \"text-align: right;\">-1.66773</td><td style = \"text-align: right;\">4</td></tr><tr><td class = \"rowNumber\" style = \"font-weight: bold; text-align: right;\">2</td><td style = \"text-align: right;\">-1.14359</td><td style = \"text-align: right;\">-1.15273</td><td style = \"text-align: right;\">0.792103</td><td style = \"text-align: right;\">-1.78002</td><td style = \"text-align: right;\">-0.724024</td><td style = \"text-align: right;\">-1.65087</td><td style = \"text-align: right;\">4</td></tr><tr><td class = \"rowNumber\" style = \"font-weight: bold; text-align: right;\">3</td><td style = \"text-align: right;\">-1.15353</td><td style = \"text-align: right;\">-1.15398</td><td style = \"text-align: right;\">0.131879</td><td style = \"text-align: right;\">-1.0019</td><td style = \"text-align: right;\">-0.875198</td><td style = \"text-align: right;\">-1.64385</td><td style = \"text-align: right;\">4</td></tr><tr><td class = \"rowNumber\" style = \"font-weight: bold; text-align: right;\">4</td><td style = \"text-align: right;\">-1.146</td><td style = \"text-align: right;\">-1.14712</td><td style = \"text-align: right;\">0.213673</td><td style = \"text-align: right;\">0.631147</td><td style = \"text-align: right;\">-1.02637</td><td style = \"text-align: right;\">-1.65697</td><td style = \"text-align: right;\">4</td></tr><tr><td class = \"rowNumber\" style = \"font-weight: bold; text-align: right;\">5</td><td style = \"text-align: right;\">-1.1231</td><td style = \"text-align: right;\">-1.13591</td><td style = \"text-align: right;\">0.232675</td><td style = \"text-align: right;\">2.33811</td><td style = \"text-align: right;\">0.960489</td><td style = \"text-align: right;\">-1.69287</td><td style = \"text-align: right;\">2</td></tr><tr><td class = \"rowNumber\" style = \"font-weight: bold; text-align: right;\">6</td><td style = \"text-align: right;\">-1.12039</td><td style = \"text-align: right;\">-1.11129</td><td style = \"text-align: right;\">-0.0180413</td><td style = \"text-align: right;\">0.0717577</td><td style = \"text-align: right;\">0.809315</td><td style = \"text-align: right;\">-1.70046</td><td style = \"text-align: right;\">4</td></tr><tr><td class = \"rowNumber\" style = \"font-weight: bold; text-align: right;\">7</td><td style = \"text-align: right;\">-1.11436</td><td style = \"text-align: right;\">-1.10164</td><td style = \"text-align: right;\">-0.236994</td><td style = \"text-align: right;\">-0.271373</td><td style = \"text-align: right;\">0.65814</td><td style = \"text-align: right;\">-1.69752</td><td style = \"text-align: right;\">4</td></tr><tr><td class = \"rowNumber\" style = \"font-weight: bold; text-align: right;\">8</td><td style = \"text-align: right;\">-1.13033</td><td style = \"text-align: right;\">-1.14276</td><td style = \"text-align: right;\">0.0974788</td><td style = \"text-align: right;\">-0.722158</td><td style = \"text-align: right;\">0.506966</td><td style = \"text-align: right;\">-1.67706</td><td style = \"text-align: right;\">4</td></tr><tr><td class = \"rowNumber\" style = \"font-weight: bold; text-align: right;\">9</td><td style = \"text-align: right;\">-1.13666</td><td style = \"text-align: right;\">-1.13746</td><td style = \"text-align: right;\">-0.0508722</td><td style = \"text-align: right;\">-0.56376</td><td style = \"text-align: right;\">0.355792</td><td style = \"text-align: right;\">-1.67351</td><td style = \"text-align: right;\">4</td></tr><tr><td class = \"rowNumber\" style = \"font-weight: bold; text-align: right;\">10</td><td style = \"text-align: right;\">-1.14238</td><td style = \"text-align: right;\">-1.15958</td><td style = \"text-align: right;\">-0.0203069</td><td style = \"text-align: right;\">-1.33837</td><td style = \"text-align: right;\">0.204618</td><td style = \"text-align: right;\">-1.65317</td><td style = \"text-align: right;\">4</td></tr><tr><td class = \"rowNumber\" style = \"font-weight: bold; text-align: right;\">11</td><td style = \"text-align: right;\">-1.15503</td><td style = \"text-align: right;\">-1.15927</td><td style = \"text-align: right;\">0.0810087</td><td style = \"text-align: right;\">0.378704</td><td style = \"text-align: right;\">0.0534437</td><td style = \"text-align: right;\">-1.65621</td><td style = \"text-align: right;\">4</td></tr><tr><td class = \"rowNumber\" style = \"font-weight: bold; text-align: right;\">12</td><td style = \"text-align: right;\">-1.12762</td><td style = \"text-align: right;\">-1.13341</td><td style = \"text-align: right;\">-0.138932</td><td style = \"text-align: right;\">1.70273</td><td style = \"text-align: right;\">-0.0977305</td><td style = \"text-align: right;\">-1.69119</td><td style = \"text-align: right;\">2</td></tr><tr><td class = \"rowNumber\" style = \"font-weight: bold; text-align: right;\">13</td><td style = \"text-align: right;\">-0.273243</td><td style = \"text-align: right;\">-0.29691</td><td style = \"text-align: right;\">-0.457555</td><td style = \"text-align: right;\">0.952962</td><td style = \"text-align: right;\">0.787718</td><td style = \"text-align: right;\">-0.937029</td><td style = \"text-align: right;\">2</td></tr><tr><td style = \"text-align: right;\">&vellip;</td><td style = \"text-align: right;\">&vellip;</td><td style = \"text-align: right;\">&vellip;</td><td style = \"text-align: right;\">&vellip;</td><td style = \"text-align: right;\">&vellip;</td><td style = \"text-align: right;\">&vellip;</td><td style = \"text-align: right;\">&vellip;</td><td style = \"text-align: right;\">&vellip;</td></tr><tr><td class = \"rowNumber\" style = \"font-weight: bold; text-align: right;\">739</td><td style = \"text-align: right;\">0.950478</td><td style = \"text-align: right;\">0.979188</td><td style = \"text-align: right;\">-0.265146</td><td style = \"text-align: right;\">0.777161</td><td style = \"text-align: right;\">-0.421675</td><td style = \"text-align: right;\">-0.474962</td><td style = \"text-align: right;\">1</td></tr><tr><td class = \"rowNumber\" style = \"font-weight: bold; text-align: right;\">740</td><td style = \"text-align: right;\">0.948369</td><td style = \"text-align: right;\">0.926537</td><td style = \"text-align: right;\">-0.230475</td><td style = \"text-align: right;\">-0.787568</td><td style = \"text-align: right;\">-0.572849</td><td style = \"text-align: right;\">-0.439686</td><td style = \"text-align: right;\">1</td></tr><tr><td class = \"rowNumber\" style = \"font-weight: bold; text-align: right;\">741</td><td style = \"text-align: right;\">0.954696</td><td style = \"text-align: right;\">0.928406</td><td style = \"text-align: right;\">-0.468439</td><td style = \"text-align: right;\">1.53419</td><td style = \"text-align: right;\">-0.702427</td><td style = \"text-align: right;\">-0.483469</td><td style = \"text-align: right;\">1</td></tr><tr><td class = \"rowNumber\" style = \"font-weight: bold; text-align: right;\">742</td><td style = \"text-align: right;\">1.0041</td><td style = \"text-align: right;\">1.03589</td><td style = \"text-align: right;\">-0.22706</td><td style = \"text-align: right;\">0.758406</td><td style = \"text-align: right;\">-0.875198</td><td style = \"text-align: right;\">-0.516295</td><td style = \"text-align: right;\">1</td></tr><tr><td class = \"rowNumber\" style = \"font-weight: bold; text-align: right;\">743</td><td style = \"text-align: right;\">1.00802</td><td style = \"text-align: right;\">0.901924</td><td style = \"text-align: right;\">-0.0236335</td><td style = \"text-align: right;\">-2.46053</td><td style = \"text-align: right;\">-1.02637</td><td style = \"text-align: right;\">-0.404345</td><td style = \"text-align: right;\">1</td></tr><tr><td class = \"rowNumber\" style = \"font-weight: bold; text-align: right;\">744</td><td style = \"text-align: right;\">0.876368</td><td style = \"text-align: right;\">0.834319</td><td style = \"text-align: right;\">-0.112862</td><td style = \"text-align: right;\">-1.04457</td><td style = \"text-align: right;\">0.787718</td><td style = \"text-align: right;\">-0.362442</td><td style = \"text-align: right;\">1</td></tr><tr><td class = \"rowNumber\" style = \"font-weight: bold; text-align: right;\">745</td><td style = \"text-align: right;\">0.840819</td><td style = \"text-align: right;\">0.839926</td><td style = \"text-align: right;\">-0.194458</td><td style = \"text-align: right;\">0.648857</td><td style = \"text-align: right;\">0.636544</td><td style = \"text-align: right;\">-0.378781</td><td style = \"text-align: right;\">1</td></tr><tr><td class = \"rowNumber\" style = \"font-weight: bold; text-align: right;\">746</td><td style = \"text-align: right;\">0.842325</td><td style = \"text-align: right;\">0.854569</td><td style = \"text-align: right;\">-0.311477</td><td style = \"text-align: right;\">1.17402</td><td style = \"text-align: right;\">0.48537</td><td style = \"text-align: right;\">-0.402992</td><td style = \"text-align: right;\">1</td></tr><tr><td class = \"rowNumber\" style = \"font-weight: bold; text-align: right;\">747</td><td style = \"text-align: right;\">0.876067</td><td style = \"text-align: right;\">0.857996</td><td style = \"text-align: right;\">-0.245885</td><td style = \"text-align: right;\">-1.02215</td><td style = \"text-align: right;\">0.334196</td><td style = \"text-align: right;\">-0.369714</td><td style = \"text-align: right;\">1</td></tr><tr><td class = \"rowNumber\" style = \"font-weight: bold; text-align: right;\">748</td><td style = \"text-align: right;\">0.819429</td><td style = \"text-align: right;\">0.843665</td><td style = \"text-align: right;\">-0.15895</td><td style = \"text-align: right;\">-0.584724</td><td style = \"text-align: right;\">0.183022</td><td style = \"text-align: right;\">-0.336433</td><td style = \"text-align: right;\">1</td></tr><tr><td class = \"rowNumber\" style = \"font-weight: bold; text-align: right;\">749</td><td style = \"text-align: right;\">0.787797</td><td style = \"text-align: right;\">0.80036</td><td style = \"text-align: right;\">-0.107536</td><td style = \"text-align: right;\">-0.506835</td><td style = \"text-align: right;\">0.0318474</td><td style = \"text-align: right;\">-0.317873</td><td style = \"text-align: right;\">1</td></tr><tr><td class = \"rowNumber\" style = \"font-weight: bold; text-align: right;\">750</td><td style = \"text-align: right;\">0.796835</td><td style = \"text-align: right;\">0.75207</td><td style = \"text-align: right;\">0.00714945</td><td style = \"text-align: right;\">-0.964927</td><td style = \"text-align: right;\">-0.119327</td><td style = \"text-align: right;\">-0.261029</td><td style = \"text-align: right;\">1</td></tr></tbody></table></div>"
      ],
      "text/latex": [
       "\\begin{tabular}{r|ccccccc}\n",
       "\t& Column1 & Column2 & Column3 & Column4 & Column5 & Column6 & id\\\\\n",
       "\t\\hline\n",
       "\t& Float64 & Float64 & Float64 & Float64 & Float64 & Float64 & Int64\\\\\n",
       "\t\\hline\n",
       "\t1 & -1.14328 & -1.14837 & 0.771212 & 1.48737 & -0.572849 & -1.66773 & 4 \\\\\n",
       "\t2 & -1.14359 & -1.15273 & 0.792103 & -1.78002 & -0.724024 & -1.65087 & 4 \\\\\n",
       "\t3 & -1.15353 & -1.15398 & 0.131879 & -1.0019 & -0.875198 & -1.64385 & 4 \\\\\n",
       "\t4 & -1.146 & -1.14712 & 0.213673 & 0.631147 & -1.02637 & -1.65697 & 4 \\\\\n",
       "\t5 & -1.1231 & -1.13591 & 0.232675 & 2.33811 & 0.960489 & -1.69287 & 2 \\\\\n",
       "\t6 & -1.12039 & -1.11129 & -0.0180413 & 0.0717577 & 0.809315 & -1.70046 & 4 \\\\\n",
       "\t7 & -1.11436 & -1.10164 & -0.236994 & -0.271373 & 0.65814 & -1.69752 & 4 \\\\\n",
       "\t8 & -1.13033 & -1.14276 & 0.0974788 & -0.722158 & 0.506966 & -1.67706 & 4 \\\\\n",
       "\t9 & -1.13666 & -1.13746 & -0.0508722 & -0.56376 & 0.355792 & -1.67351 & 4 \\\\\n",
       "\t10 & -1.14238 & -1.15958 & -0.0203069 & -1.33837 & 0.204618 & -1.65317 & 4 \\\\\n",
       "\t11 & -1.15503 & -1.15927 & 0.0810087 & 0.378704 & 0.0534437 & -1.65621 & 4 \\\\\n",
       "\t12 & -1.12762 & -1.13341 & -0.138932 & 1.70273 & -0.0977305 & -1.69119 & 2 \\\\\n",
       "\t13 & -0.273243 & -0.29691 & -0.457555 & 0.952962 & 0.787718 & -0.937029 & 2 \\\\\n",
       "\t14 & -0.253661 & -0.26887 & -0.578745 & 1.82333 & 0.636544 & -0.991347 & 2 \\\\\n",
       "\t15 & -0.239803 & -0.247062 & -0.497201 & -0.0458789 & 0.48537 & -0.984419 & 2 \\\\\n",
       "\t16 & -0.253059 & -0.287252 & -0.417606 & -1.91006 & 0.334196 & -0.921876 & 4 \\\\\n",
       "\t17 & -0.314516 & -0.295663 & -0.492926 & -0.299163 & 0.183022 & -0.920651 & 4 \\\\\n",
       "\t18 & -0.237393 & -0.27292 & -0.466113 & 2.50242 & 0.0318474 & -1.00498 & 2 \\\\\n",
       "\t19 & -0.233175 & -0.221515 & -0.562 & -0.781972 & -0.119327 & -0.971185 & 4 \\\\\n",
       "\t20 & -0.287704 & -0.300025 & -0.491963 & -1.26694 & -0.270501 & -0.911685 & 4 \\\\\n",
       "\t21 & -0.300959 & -0.308125 & -0.496189 & -0.0290645 & -0.421675 & -0.917572 & 2 \\\\\n",
       "\t22 & -0.275051 & -0.283825 & -0.504852 & 0.360605 & -0.572849 & -0.934628 & 2 \\\\\n",
       "\t23 & -0.307286 & -0.325572 & -0.478678 & 0.260929 & -0.724024 & -0.931313 & 2 \\\\\n",
       "\t24 & -0.272942 & -0.266066 & -0.547895 & 0.726047 & -0.875198 & -0.972892 & 2 \\\\\n",
       "\t25 & 0.464846 & 0.416222 & -0.513411 & 1.92064 & -0.421675 & -0.283229 & 2 \\\\\n",
       "\t26 & 0.476896 & 0.489436 & -0.623455 & 0.352155 & -0.572849 & -0.302755 & 1 \\\\\n",
       "\t27 & 0.55191 & 0.548007 & -0.555499 & 0.439941 & -0.724024 & -0.346856 & 1 \\\\\n",
       "\t28 & 0.546789 & 0.509686 & -0.521802 & -1.29253 & -0.875198 & -0.278934 & 1 \\\\\n",
       "\t29 & 0.51124 & 0.513425 & -0.5986 & 1.19655 & -1.02637 & -0.338791 & 2 \\\\\n",
       "\t30 & 0.55191 & 0.576669 & -0.604667 & 0.375067 & 0.787718 & -0.359097 & 1 \\\\\n",
       "\t$\\dots$ & $\\dots$ & $\\dots$ & $\\dots$ & $\\dots$ & $\\dots$ & $\\dots$ & $\\dots$ \\\\\n",
       "\\end{tabular}\n"
      ],
      "text/plain": [
       "\u001b[1m750×7 DataFrame\u001b[0m\n",
       "\u001b[1m Row \u001b[0m│\u001b[1m Column1    \u001b[0m\u001b[1m Column2     \u001b[0m\u001b[1m Column3     \u001b[0m\u001b[1m Column4    \u001b[0m\u001b[1m Column5    \u001b[0m\u001b[1m Column6  \u001b[0m ⋯\n",
       "     │\u001b[90m Float64    \u001b[0m\u001b[90m Float64     \u001b[0m\u001b[90m Float64     \u001b[0m\u001b[90m Float64    \u001b[0m\u001b[90m Float64    \u001b[0m\u001b[90m Float64  \u001b[0m ⋯\n",
       "─────┼──────────────────────────────────────────────────────────────────────────\n",
       "   1 │ -1.14328    -1.14837      0.771212     1.48737    -0.572849   -1.66773  ⋯\n",
       "   2 │ -1.14359    -1.15273      0.792103    -1.78002    -0.724024   -1.65087\n",
       "   3 │ -1.15353    -1.15398      0.131879    -1.0019     -0.875198   -1.64385\n",
       "   4 │ -1.146      -1.14712      0.213673     0.631147   -1.02637    -1.65697\n",
       "   5 │ -1.1231     -1.13591      0.232675     2.33811     0.960489   -1.69287  ⋯\n",
       "   6 │ -1.12039    -1.11129     -0.0180413    0.0717577   0.809315   -1.70046\n",
       "   7 │ -1.11436    -1.10164     -0.236994    -0.271373    0.65814    -1.69752\n",
       "   8 │ -1.13033    -1.14276      0.0974788   -0.722158    0.506966   -1.67706\n",
       "   9 │ -1.13666    -1.13746     -0.0508722   -0.56376     0.355792   -1.67351  ⋯\n",
       "  10 │ -1.14238    -1.15958     -0.0203069   -1.33837     0.204618   -1.65317\n",
       "  11 │ -1.15503    -1.15927      0.0810087    0.378704    0.0534437  -1.65621\n",
       "  ⋮  │     ⋮            ⋮            ⋮           ⋮           ⋮           ⋮     ⋱\n",
       " 741 │  0.954696    0.928406    -0.468439     1.53419    -0.702427   -0.483469\n",
       " 742 │  1.0041      1.03589     -0.22706      0.758406   -0.875198   -0.516295 ⋯\n",
       " 743 │  1.00802     0.901924    -0.0236335   -2.46053    -1.02637    -0.404345\n",
       " 744 │  0.876368    0.834319    -0.112862    -1.04457     0.787718   -0.362442\n",
       " 745 │  0.840819    0.839926    -0.194458     0.648857    0.636544   -0.378781\n",
       " 746 │  0.842325    0.854569    -0.311477     1.17402     0.48537    -0.402992 ⋯\n",
       " 747 │  0.876067    0.857996    -0.245885    -1.02215     0.334196   -0.369714\n",
       " 748 │  0.819429    0.843665    -0.15895     -0.584724    0.183022   -0.336433\n",
       " 749 │  0.787797    0.80036     -0.107536    -0.506835    0.0318474  -0.317873\n",
       " 750 │  0.796835    0.75207      0.00714945  -0.964927   -0.119327   -0.261029 ⋯\n",
       "\u001b[36m                                                  2 columns and 729 rows omitted\u001b[0m"
      ]
     },
     "execution_count": 200,
     "metadata": {},
     "output_type": "execute_result"
    }
   ],
   "source": [
    "iterations = MAX_ITERS\n",
    "for iteration = 2:MAX_ITERS\n",
    "    for i = 1:SAMPLES\n",
    "        assignCluster(i)\n",
    "    end\n",
    "    recomputeCenters()\n",
    "    append!(J_iters, clusterVariance())\n",
    "    if abs(J_iters[end] - J_iters[end-1]) < EPSILON\n",
    "        iterations = iteration\n",
    "        break\n",
    "    end\n",
    "end\n",
    "\n",
    "df"
   ]
  },
  {
   "cell_type": "markdown",
   "id": "cebae82e",
   "metadata": {},
   "source": [
    "### Stop the clock for measuring the time taken by the algorithm"
   ]
  },
  {
   "cell_type": "code",
   "execution_count": 201,
   "id": "35510080",
   "metadata": {},
   "outputs": [
    {
     "data": {
      "text/plain": [
       "2022-12-04T00:04:59.548"
      ]
     },
     "execution_count": 201,
     "metadata": {},
     "output_type": "execute_result"
    }
   ],
   "source": [
    "end_time = now()"
   ]
  },
  {
   "cell_type": "markdown",
   "id": "d134725e",
   "metadata": {},
   "source": [
    "## Plotting cluster variance along the number of iterations"
   ]
  },
  {
   "cell_type": "code",
   "execution_count": 202,
   "id": "98e26f26",
   "metadata": {},
   "outputs": [
    {
     "data": {
      "image/svg+xml": [
       "<?xml version=\"1.0\" encoding=\"utf-8\"?>\n",
       "<svg xmlns=\"http://www.w3.org/2000/svg\" xmlns:xlink=\"http://www.w3.org/1999/xlink\" width=\"600\" height=\"400\" viewBox=\"0 0 2400 1600\">\n",
       "<defs>\n",
       "  <clipPath id=\"clip580\">\n",
       "    <rect x=\"0\" y=\"0\" width=\"2400\" height=\"1600\"/>\n",
       "  </clipPath>\n",
       "</defs>\n",
       "<path clip-path=\"url(#clip580)\" d=\"\n",
       "M0 1600 L2400 1600 L2400 0 L0 0  Z\n",
       "  \" fill=\"#ffffff\" fill-rule=\"evenodd\" fill-opacity=\"1\"/>\n",
       "<defs>\n",
       "  <clipPath id=\"clip581\">\n",
       "    <rect x=\"480\" y=\"0\" width=\"1681\" height=\"1600\"/>\n",
       "  </clipPath>\n",
       "</defs>\n",
       "<defs>\n",
       "  <clipPath id=\"clip582\">\n",
       "    <rect x=\"249\" y=\"123\" width=\"2105\" height=\"1301\"/>\n",
       "  </clipPath>\n",
       "</defs>\n",
       "<path clip-path=\"url(#clip580)\" d=\"\n",
       "M249.195 1423.18 L2352.76 1423.18 L2352.76 123.472 L249.195 123.472  Z\n",
       "  \" fill=\"#ffffff\" fill-rule=\"evenodd\" fill-opacity=\"1\"/>\n",
       "<polyline clip-path=\"url(#clip582)\" style=\"stroke:#000000; stroke-linecap:round; stroke-linejoin:round; stroke-width:2; stroke-opacity:0.1; fill:none\" points=\"\n",
       "  308.73,1423.18 308.73,123.472 \n",
       "  \"/>\n",
       "<polyline clip-path=\"url(#clip582)\" style=\"stroke:#000000; stroke-linecap:round; stroke-linejoin:round; stroke-width:2; stroke-opacity:0.1; fill:none\" points=\"\n",
       "  418.979,1423.18 418.979,123.472 \n",
       "  \"/>\n",
       "<polyline clip-path=\"url(#clip582)\" style=\"stroke:#000000; stroke-linecap:round; stroke-linejoin:round; stroke-width:2; stroke-opacity:0.1; fill:none\" points=\"\n",
       "  529.229,1423.18 529.229,123.472 \n",
       "  \"/>\n",
       "<polyline clip-path=\"url(#clip582)\" style=\"stroke:#000000; stroke-linecap:round; stroke-linejoin:round; stroke-width:2; stroke-opacity:0.1; fill:none\" points=\"\n",
       "  639.478,1423.18 639.478,123.472 \n",
       "  \"/>\n",
       "<polyline clip-path=\"url(#clip582)\" style=\"stroke:#000000; stroke-linecap:round; stroke-linejoin:round; stroke-width:2; stroke-opacity:0.1; fill:none\" points=\"\n",
       "  749.728,1423.18 749.728,123.472 \n",
       "  \"/>\n",
       "<polyline clip-path=\"url(#clip582)\" style=\"stroke:#000000; stroke-linecap:round; stroke-linejoin:round; stroke-width:2; stroke-opacity:0.1; fill:none\" points=\"\n",
       "  859.977,1423.18 859.977,123.472 \n",
       "  \"/>\n",
       "<polyline clip-path=\"url(#clip582)\" style=\"stroke:#000000; stroke-linecap:round; stroke-linejoin:round; stroke-width:2; stroke-opacity:0.1; fill:none\" points=\"\n",
       "  970.227,1423.18 970.227,123.472 \n",
       "  \"/>\n",
       "<polyline clip-path=\"url(#clip582)\" style=\"stroke:#000000; stroke-linecap:round; stroke-linejoin:round; stroke-width:2; stroke-opacity:0.1; fill:none\" points=\"\n",
       "  1080.48,1423.18 1080.48,123.472 \n",
       "  \"/>\n",
       "<polyline clip-path=\"url(#clip582)\" style=\"stroke:#000000; stroke-linecap:round; stroke-linejoin:round; stroke-width:2; stroke-opacity:0.1; fill:none\" points=\"\n",
       "  1190.73,1423.18 1190.73,123.472 \n",
       "  \"/>\n",
       "<polyline clip-path=\"url(#clip582)\" style=\"stroke:#000000; stroke-linecap:round; stroke-linejoin:round; stroke-width:2; stroke-opacity:0.1; fill:none\" points=\"\n",
       "  1300.98,1423.18 1300.98,123.472 \n",
       "  \"/>\n",
       "<polyline clip-path=\"url(#clip582)\" style=\"stroke:#000000; stroke-linecap:round; stroke-linejoin:round; stroke-width:2; stroke-opacity:0.1; fill:none\" points=\"\n",
       "  1411.22,1423.18 1411.22,123.472 \n",
       "  \"/>\n",
       "<polyline clip-path=\"url(#clip582)\" style=\"stroke:#000000; stroke-linecap:round; stroke-linejoin:round; stroke-width:2; stroke-opacity:0.1; fill:none\" points=\"\n",
       "  1521.47,1423.18 1521.47,123.472 \n",
       "  \"/>\n",
       "<polyline clip-path=\"url(#clip582)\" style=\"stroke:#000000; stroke-linecap:round; stroke-linejoin:round; stroke-width:2; stroke-opacity:0.1; fill:none\" points=\"\n",
       "  1631.72,1423.18 1631.72,123.472 \n",
       "  \"/>\n",
       "<polyline clip-path=\"url(#clip582)\" style=\"stroke:#000000; stroke-linecap:round; stroke-linejoin:round; stroke-width:2; stroke-opacity:0.1; fill:none\" points=\"\n",
       "  1741.97,1423.18 1741.97,123.472 \n",
       "  \"/>\n",
       "<polyline clip-path=\"url(#clip582)\" style=\"stroke:#000000; stroke-linecap:round; stroke-linejoin:round; stroke-width:2; stroke-opacity:0.1; fill:none\" points=\"\n",
       "  1852.22,1423.18 1852.22,123.472 \n",
       "  \"/>\n",
       "<polyline clip-path=\"url(#clip582)\" style=\"stroke:#000000; stroke-linecap:round; stroke-linejoin:round; stroke-width:2; stroke-opacity:0.1; fill:none\" points=\"\n",
       "  1962.47,1423.18 1962.47,123.472 \n",
       "  \"/>\n",
       "<polyline clip-path=\"url(#clip582)\" style=\"stroke:#000000; stroke-linecap:round; stroke-linejoin:round; stroke-width:2; stroke-opacity:0.1; fill:none\" points=\"\n",
       "  2072.72,1423.18 2072.72,123.472 \n",
       "  \"/>\n",
       "<polyline clip-path=\"url(#clip582)\" style=\"stroke:#000000; stroke-linecap:round; stroke-linejoin:round; stroke-width:2; stroke-opacity:0.1; fill:none\" points=\"\n",
       "  2182.97,1423.18 2182.97,123.472 \n",
       "  \"/>\n",
       "<polyline clip-path=\"url(#clip582)\" style=\"stroke:#000000; stroke-linecap:round; stroke-linejoin:round; stroke-width:2; stroke-opacity:0.1; fill:none\" points=\"\n",
       "  2293.22,1423.18 2293.22,123.472 \n",
       "  \"/>\n",
       "<polyline clip-path=\"url(#clip580)\" style=\"stroke:#000000; stroke-linecap:round; stroke-linejoin:round; stroke-width:4; stroke-opacity:1; fill:none\" points=\"\n",
       "  249.195,1423.18 2352.76,1423.18 \n",
       "  \"/>\n",
       "<polyline clip-path=\"url(#clip580)\" style=\"stroke:#000000; stroke-linecap:round; stroke-linejoin:round; stroke-width:4; stroke-opacity:1; fill:none\" points=\"\n",
       "  308.73,1423.18 308.73,1404.28 \n",
       "  \"/>\n",
       "<polyline clip-path=\"url(#clip580)\" style=\"stroke:#000000; stroke-linecap:round; stroke-linejoin:round; stroke-width:4; stroke-opacity:1; fill:none\" points=\"\n",
       "  418.979,1423.18 418.979,1404.28 \n",
       "  \"/>\n",
       "<polyline clip-path=\"url(#clip580)\" style=\"stroke:#000000; stroke-linecap:round; stroke-linejoin:round; stroke-width:4; stroke-opacity:1; fill:none\" points=\"\n",
       "  529.229,1423.18 529.229,1404.28 \n",
       "  \"/>\n",
       "<polyline clip-path=\"url(#clip580)\" style=\"stroke:#000000; stroke-linecap:round; stroke-linejoin:round; stroke-width:4; stroke-opacity:1; fill:none\" points=\"\n",
       "  639.478,1423.18 639.478,1404.28 \n",
       "  \"/>\n",
       "<polyline clip-path=\"url(#clip580)\" style=\"stroke:#000000; stroke-linecap:round; stroke-linejoin:round; stroke-width:4; stroke-opacity:1; fill:none\" points=\"\n",
       "  749.728,1423.18 749.728,1404.28 \n",
       "  \"/>\n",
       "<polyline clip-path=\"url(#clip580)\" style=\"stroke:#000000; stroke-linecap:round; stroke-linejoin:round; stroke-width:4; stroke-opacity:1; fill:none\" points=\"\n",
       "  859.977,1423.18 859.977,1404.28 \n",
       "  \"/>\n",
       "<polyline clip-path=\"url(#clip580)\" style=\"stroke:#000000; stroke-linecap:round; stroke-linejoin:round; stroke-width:4; stroke-opacity:1; fill:none\" points=\"\n",
       "  970.227,1423.18 970.227,1404.28 \n",
       "  \"/>\n",
       "<polyline clip-path=\"url(#clip580)\" style=\"stroke:#000000; stroke-linecap:round; stroke-linejoin:round; stroke-width:4; stroke-opacity:1; fill:none\" points=\"\n",
       "  1080.48,1423.18 1080.48,1404.28 \n",
       "  \"/>\n",
       "<polyline clip-path=\"url(#clip580)\" style=\"stroke:#000000; stroke-linecap:round; stroke-linejoin:round; stroke-width:4; stroke-opacity:1; fill:none\" points=\"\n",
       "  1190.73,1423.18 1190.73,1404.28 \n",
       "  \"/>\n",
       "<polyline clip-path=\"url(#clip580)\" style=\"stroke:#000000; stroke-linecap:round; stroke-linejoin:round; stroke-width:4; stroke-opacity:1; fill:none\" points=\"\n",
       "  1300.98,1423.18 1300.98,1404.28 \n",
       "  \"/>\n",
       "<polyline clip-path=\"url(#clip580)\" style=\"stroke:#000000; stroke-linecap:round; stroke-linejoin:round; stroke-width:4; stroke-opacity:1; fill:none\" points=\"\n",
       "  1411.22,1423.18 1411.22,1404.28 \n",
       "  \"/>\n",
       "<polyline clip-path=\"url(#clip580)\" style=\"stroke:#000000; stroke-linecap:round; stroke-linejoin:round; stroke-width:4; stroke-opacity:1; fill:none\" points=\"\n",
       "  1521.47,1423.18 1521.47,1404.28 \n",
       "  \"/>\n",
       "<polyline clip-path=\"url(#clip580)\" style=\"stroke:#000000; stroke-linecap:round; stroke-linejoin:round; stroke-width:4; stroke-opacity:1; fill:none\" points=\"\n",
       "  1631.72,1423.18 1631.72,1404.28 \n",
       "  \"/>\n",
       "<polyline clip-path=\"url(#clip580)\" style=\"stroke:#000000; stroke-linecap:round; stroke-linejoin:round; stroke-width:4; stroke-opacity:1; fill:none\" points=\"\n",
       "  1741.97,1423.18 1741.97,1404.28 \n",
       "  \"/>\n",
       "<polyline clip-path=\"url(#clip580)\" style=\"stroke:#000000; stroke-linecap:round; stroke-linejoin:round; stroke-width:4; stroke-opacity:1; fill:none\" points=\"\n",
       "  1852.22,1423.18 1852.22,1404.28 \n",
       "  \"/>\n",
       "<polyline clip-path=\"url(#clip580)\" style=\"stroke:#000000; stroke-linecap:round; stroke-linejoin:round; stroke-width:4; stroke-opacity:1; fill:none\" points=\"\n",
       "  1962.47,1423.18 1962.47,1404.28 \n",
       "  \"/>\n",
       "<polyline clip-path=\"url(#clip580)\" style=\"stroke:#000000; stroke-linecap:round; stroke-linejoin:round; stroke-width:4; stroke-opacity:1; fill:none\" points=\"\n",
       "  2072.72,1423.18 2072.72,1404.28 \n",
       "  \"/>\n",
       "<polyline clip-path=\"url(#clip580)\" style=\"stroke:#000000; stroke-linecap:round; stroke-linejoin:round; stroke-width:4; stroke-opacity:1; fill:none\" points=\"\n",
       "  2182.97,1423.18 2182.97,1404.28 \n",
       "  \"/>\n",
       "<polyline clip-path=\"url(#clip580)\" style=\"stroke:#000000; stroke-linecap:round; stroke-linejoin:round; stroke-width:4; stroke-opacity:1; fill:none\" points=\"\n",
       "  2293.22,1423.18 2293.22,1404.28 \n",
       "  \"/>\n",
       "<path clip-path=\"url(#clip580)\" d=\"M299.112 1481.64 L306.75 1481.64 L306.75 1455.28 L298.44 1456.95 L298.44 1452.69 L306.704 1451.02 L311.38 1451.02 L311.38 1481.64 L319.019 1481.64 L319.019 1485.58 L299.112 1485.58 L299.112 1481.64 Z\" fill=\"#000000\" fill-rule=\"evenodd\" fill-opacity=\"1\" /><path clip-path=\"url(#clip580)\" d=\"M413.632 1481.64 L429.951 1481.64 L429.951 1485.58 L408.007 1485.58 L408.007 1481.64 Q410.669 1478.89 415.252 1474.26 Q419.859 1469.61 421.039 1468.27 Q423.285 1465.74 424.164 1464.01 Q425.067 1462.25 425.067 1460.56 Q425.067 1457.8 423.123 1456.07 Q421.201 1454.33 418.099 1454.33 Q415.9 1454.33 413.447 1455.09 Q411.016 1455.86 408.238 1457.41 L408.238 1452.69 Q411.062 1451.55 413.516 1450.97 Q415.97 1450.39 418.007 1450.39 Q423.377 1450.39 426.572 1453.08 Q429.766 1455.77 429.766 1460.26 Q429.766 1462.39 428.956 1464.31 Q428.169 1466.2 426.062 1468.8 Q425.484 1469.47 422.382 1472.69 Q419.28 1475.88 413.632 1481.64 Z\" fill=\"#000000\" fill-rule=\"evenodd\" fill-opacity=\"1\" /><path clip-path=\"url(#clip580)\" d=\"M533.476 1466.95 Q536.833 1467.66 538.708 1469.93 Q540.606 1472.2 540.606 1475.53 Q540.606 1480.65 537.087 1483.45 Q533.569 1486.25 527.087 1486.25 Q524.912 1486.25 522.597 1485.81 Q520.305 1485.39 517.851 1484.54 L517.851 1480.02 Q519.796 1481.16 522.111 1481.74 Q524.425 1482.32 526.949 1482.32 Q531.347 1482.32 533.638 1480.58 Q535.953 1478.84 535.953 1475.53 Q535.953 1472.48 533.8 1470.77 Q531.671 1469.03 527.851 1469.03 L523.824 1469.03 L523.824 1465.19 L528.037 1465.19 Q531.486 1465.19 533.314 1463.82 Q535.143 1462.43 535.143 1459.84 Q535.143 1457.18 533.245 1455.77 Q531.37 1454.33 527.851 1454.33 Q525.93 1454.33 523.731 1454.75 Q521.532 1455.16 518.893 1456.04 L518.893 1451.88 Q521.555 1451.14 523.87 1450.77 Q526.208 1450.39 528.268 1450.39 Q533.592 1450.39 536.694 1452.83 Q539.796 1455.23 539.796 1459.35 Q539.796 1462.22 538.152 1464.21 Q536.509 1466.18 533.476 1466.95 Z\" fill=\"#000000\" fill-rule=\"evenodd\" fill-opacity=\"1\" /><path clip-path=\"url(#clip580)\" d=\"M642.487 1455.09 L630.682 1473.54 L642.487 1473.54 L642.487 1455.09 M641.261 1451.02 L647.14 1451.02 L647.14 1473.54 L652.071 1473.54 L652.071 1477.43 L647.14 1477.43 L647.14 1485.58 L642.487 1485.58 L642.487 1477.43 L626.886 1477.43 L626.886 1472.92 L641.261 1451.02 Z\" fill=\"#000000\" fill-rule=\"evenodd\" fill-opacity=\"1\" /><path clip-path=\"url(#clip580)\" d=\"M740.006 1451.02 L758.362 1451.02 L758.362 1454.96 L744.288 1454.96 L744.288 1463.43 Q745.306 1463.08 746.325 1462.92 Q747.343 1462.73 748.362 1462.73 Q754.149 1462.73 757.529 1465.9 Q760.908 1469.08 760.908 1474.49 Q760.908 1480.07 757.436 1483.17 Q753.964 1486.25 747.644 1486.25 Q745.468 1486.25 743.2 1485.88 Q740.955 1485.51 738.547 1484.77 L738.547 1480.07 Q740.631 1481.2 742.853 1481.76 Q745.075 1482.32 747.552 1482.32 Q751.556 1482.32 753.894 1480.21 Q756.232 1478.1 756.232 1474.49 Q756.232 1470.88 753.894 1468.77 Q751.556 1466.67 747.552 1466.67 Q745.677 1466.67 743.802 1467.08 Q741.95 1467.5 740.006 1468.38 L740.006 1451.02 Z\" fill=\"#000000\" fill-rule=\"evenodd\" fill-opacity=\"1\" /><path clip-path=\"url(#clip580)\" d=\"M860.382 1466.44 Q857.234 1466.44 855.382 1468.59 Q853.554 1470.74 853.554 1474.49 Q853.554 1478.22 855.382 1480.39 Q857.234 1482.55 860.382 1482.55 Q863.53 1482.55 865.359 1480.39 Q867.211 1478.22 867.211 1474.49 Q867.211 1470.74 865.359 1468.59 Q863.53 1466.44 860.382 1466.44 M869.665 1451.78 L869.665 1456.04 Q867.905 1455.21 866.1 1454.77 Q864.317 1454.33 862.558 1454.33 Q857.929 1454.33 855.475 1457.45 Q853.044 1460.58 852.697 1466.9 Q854.063 1464.89 856.123 1463.82 Q858.183 1462.73 860.66 1462.73 Q865.868 1462.73 868.878 1465.9 Q871.91 1469.05 871.91 1474.49 Q871.91 1479.82 868.762 1483.03 Q865.614 1486.25 860.382 1486.25 Q854.387 1486.25 851.216 1481.67 Q848.044 1477.06 848.044 1468.33 Q848.044 1460.14 851.933 1455.28 Q855.822 1450.39 862.373 1450.39 Q864.132 1450.39 865.915 1450.74 Q867.72 1451.09 869.665 1451.78 Z\" fill=\"#000000\" fill-rule=\"evenodd\" fill-opacity=\"1\" /><path clip-path=\"url(#clip580)\" d=\"M959.116 1451.02 L981.338 1451.02 L981.338 1453.01 L968.792 1485.58 L963.907 1485.58 L975.713 1454.96 L959.116 1454.96 L959.116 1451.02 Z\" fill=\"#000000\" fill-rule=\"evenodd\" fill-opacity=\"1\" /><path clip-path=\"url(#clip580)\" d=\"M1080.48 1469.17 Q1077.14 1469.17 1075.22 1470.95 Q1073.32 1472.73 1073.32 1475.86 Q1073.32 1478.98 1075.22 1480.77 Q1077.14 1482.55 1080.48 1482.55 Q1083.81 1482.55 1085.73 1480.77 Q1087.65 1478.96 1087.65 1475.86 Q1087.65 1472.73 1085.73 1470.95 Q1083.83 1469.17 1080.48 1469.17 M1075.8 1467.18 Q1072.79 1466.44 1071.1 1464.38 Q1069.43 1462.32 1069.43 1459.35 Q1069.43 1455.21 1072.37 1452.8 Q1075.34 1450.39 1080.48 1450.39 Q1085.64 1450.39 1088.58 1452.8 Q1091.52 1455.21 1091.52 1459.35 Q1091.52 1462.32 1089.83 1464.38 Q1088.16 1466.44 1085.18 1467.18 Q1088.55 1467.96 1090.43 1470.26 Q1092.33 1472.55 1092.33 1475.86 Q1092.33 1480.88 1089.25 1483.57 Q1086.19 1486.25 1080.48 1486.25 Q1074.76 1486.25 1071.68 1483.57 Q1068.62 1480.88 1068.62 1475.86 Q1068.62 1472.55 1070.52 1470.26 Q1072.42 1467.96 1075.8 1467.18 M1074.09 1459.79 Q1074.09 1462.48 1075.75 1463.98 Q1077.44 1465.49 1080.48 1465.49 Q1083.49 1465.49 1085.18 1463.98 Q1086.89 1462.48 1086.89 1459.79 Q1086.89 1457.11 1085.18 1455.6 Q1083.49 1454.1 1080.48 1454.1 Q1077.44 1454.1 1075.75 1455.6 Q1074.09 1457.11 1074.09 1459.79 Z\" fill=\"#000000\" fill-rule=\"evenodd\" fill-opacity=\"1\" /><path clip-path=\"url(#clip580)\" d=\"M1181.03 1484.86 L1181.03 1480.6 Q1182.79 1481.44 1184.59 1481.88 Q1186.4 1482.32 1188.13 1482.32 Q1192.76 1482.32 1195.19 1479.21 Q1197.65 1476.09 1197.99 1469.75 Q1196.65 1471.74 1194.59 1472.8 Q1192.53 1473.87 1190.03 1473.87 Q1184.85 1473.87 1181.81 1470.74 Q1178.8 1467.59 1178.8 1462.15 Q1178.8 1456.83 1181.95 1453.61 Q1185.1 1450.39 1190.33 1450.39 Q1196.33 1450.39 1199.48 1455 Q1202.65 1459.58 1202.65 1468.33 Q1202.65 1476.51 1198.76 1481.39 Q1194.89 1486.25 1188.34 1486.25 Q1186.58 1486.25 1184.78 1485.9 Q1182.97 1485.56 1181.03 1484.86 M1190.33 1470.21 Q1193.48 1470.21 1195.31 1468.06 Q1197.16 1465.9 1197.16 1462.15 Q1197.16 1458.43 1195.31 1456.27 Q1193.48 1454.1 1190.33 1454.1 Q1187.18 1454.1 1185.33 1456.27 Q1183.5 1458.43 1183.5 1462.15 Q1183.5 1465.9 1185.33 1468.06 Q1187.18 1470.21 1190.33 1470.21 Z\" fill=\"#000000\" fill-rule=\"evenodd\" fill-opacity=\"1\" /><path clip-path=\"url(#clip580)\" d=\"M1275.66 1481.64 L1283.3 1481.64 L1283.3 1455.28 L1274.99 1456.95 L1274.99 1452.69 L1283.26 1451.02 L1287.93 1451.02 L1287.93 1481.64 L1295.57 1481.64 L1295.57 1485.58 L1275.66 1485.58 L1275.66 1481.64 Z\" fill=\"#000000\" fill-rule=\"evenodd\" fill-opacity=\"1\" /><path clip-path=\"url(#clip580)\" d=\"M1315.01 1454.1 Q1311.4 1454.1 1309.57 1457.66 Q1307.77 1461.2 1307.77 1468.33 Q1307.77 1475.44 1309.57 1479.01 Q1311.4 1482.55 1315.01 1482.55 Q1318.65 1482.55 1320.45 1479.01 Q1322.28 1475.44 1322.28 1468.33 Q1322.28 1461.2 1320.45 1457.66 Q1318.65 1454.1 1315.01 1454.1 M1315.01 1450.39 Q1320.82 1450.39 1323.88 1455 Q1326.96 1459.58 1326.96 1468.33 Q1326.96 1477.06 1323.88 1481.67 Q1320.82 1486.25 1315.01 1486.25 Q1309.2 1486.25 1306.13 1481.67 Q1303.07 1477.06 1303.07 1468.33 Q1303.07 1459.58 1306.13 1455 Q1309.2 1450.39 1315.01 1450.39 Z\" fill=\"#000000\" fill-rule=\"evenodd\" fill-opacity=\"1\" /><path clip-path=\"url(#clip580)\" d=\"M1386.53 1481.64 L1394.16 1481.64 L1394.16 1455.28 L1385.85 1456.95 L1385.85 1452.69 L1394.12 1451.02 L1398.79 1451.02 L1398.79 1481.64 L1406.43 1481.64 L1406.43 1485.58 L1386.53 1485.58 L1386.53 1481.64 Z\" fill=\"#000000\" fill-rule=\"evenodd\" fill-opacity=\"1\" /><path clip-path=\"url(#clip580)\" d=\"M1416.69 1481.64 L1424.33 1481.64 L1424.33 1455.28 L1416.02 1456.95 L1416.02 1452.69 L1424.28 1451.02 L1428.96 1451.02 L1428.96 1481.64 L1436.6 1481.64 L1436.6 1485.58 L1416.69 1485.58 L1416.69 1481.64 Z\" fill=\"#000000\" fill-rule=\"evenodd\" fill-opacity=\"1\" /><path clip-path=\"url(#clip580)\" d=\"M1496.96 1481.64 L1504.6 1481.64 L1504.6 1455.28 L1496.29 1456.95 L1496.29 1452.69 L1504.55 1451.02 L1509.23 1451.02 L1509.23 1481.64 L1516.87 1481.64 L1516.87 1485.58 L1496.96 1485.58 L1496.96 1481.64 Z\" fill=\"#000000\" fill-rule=\"evenodd\" fill-opacity=\"1\" /><path clip-path=\"url(#clip580)\" d=\"M1530.34 1481.64 L1546.66 1481.64 L1546.66 1485.58 L1524.72 1485.58 L1524.72 1481.64 Q1527.38 1478.89 1531.96 1474.26 Q1536.57 1469.61 1537.75 1468.27 Q1539.99 1465.74 1540.87 1464.01 Q1541.78 1462.25 1541.78 1460.56 Q1541.78 1457.8 1539.83 1456.07 Q1537.91 1454.33 1534.81 1454.33 Q1532.61 1454.33 1530.15 1455.09 Q1527.72 1455.86 1524.95 1457.41 L1524.95 1452.69 Q1527.77 1451.55 1530.22 1450.97 Q1532.68 1450.39 1534.72 1450.39 Q1540.09 1450.39 1543.28 1453.08 Q1546.47 1455.77 1546.47 1460.26 Q1546.47 1462.39 1545.66 1464.31 Q1544.88 1466.2 1542.77 1468.8 Q1542.19 1469.47 1539.09 1472.69 Q1535.99 1475.88 1530.34 1481.64 Z\" fill=\"#000000\" fill-rule=\"evenodd\" fill-opacity=\"1\" /><path clip-path=\"url(#clip580)\" d=\"M1606.74 1481.64 L1614.37 1481.64 L1614.37 1455.28 L1606.06 1456.95 L1606.06 1452.69 L1614.33 1451.02 L1619 1451.02 L1619 1481.64 L1626.64 1481.64 L1626.64 1485.58 L1606.74 1485.58 L1606.74 1481.64 Z\" fill=\"#000000\" fill-rule=\"evenodd\" fill-opacity=\"1\" /><path clip-path=\"url(#clip580)\" d=\"M1650.25 1466.95 Q1653.61 1467.66 1655.49 1469.93 Q1657.38 1472.2 1657.38 1475.53 Q1657.38 1480.65 1653.87 1483.45 Q1650.35 1486.25 1643.87 1486.25 Q1641.69 1486.25 1639.37 1485.81 Q1637.08 1485.39 1634.63 1484.54 L1634.63 1480.02 Q1636.57 1481.16 1638.89 1481.74 Q1641.2 1482.32 1643.73 1482.32 Q1648.12 1482.32 1650.42 1480.58 Q1652.73 1478.84 1652.73 1475.53 Q1652.73 1472.48 1650.58 1470.77 Q1648.45 1469.03 1644.63 1469.03 L1640.6 1469.03 L1640.6 1465.19 L1644.81 1465.19 Q1648.26 1465.19 1650.09 1463.82 Q1651.92 1462.43 1651.92 1459.84 Q1651.92 1457.18 1650.02 1455.77 Q1648.15 1454.33 1644.63 1454.33 Q1642.71 1454.33 1640.51 1454.75 Q1638.31 1455.16 1635.67 1456.04 L1635.67 1451.88 Q1638.33 1451.14 1640.65 1450.77 Q1642.99 1450.39 1645.05 1450.39 Q1650.37 1450.39 1653.47 1452.83 Q1656.57 1455.23 1656.57 1459.35 Q1656.57 1462.22 1654.93 1464.21 Q1653.29 1466.18 1650.25 1466.95 Z\" fill=\"#000000\" fill-rule=\"evenodd\" fill-opacity=\"1\" /><path clip-path=\"url(#clip580)\" d=\"M1716.42 1481.64 L1724.06 1481.64 L1724.06 1455.28 L1715.75 1456.95 L1715.75 1452.69 L1724.01 1451.02 L1728.69 1451.02 L1728.69 1481.64 L1736.33 1481.64 L1736.33 1485.58 L1716.42 1485.58 L1716.42 1481.64 Z\" fill=\"#000000\" fill-rule=\"evenodd\" fill-opacity=\"1\" /><path clip-path=\"url(#clip580)\" d=\"M1758.62 1455.09 L1746.81 1473.54 L1758.62 1473.54 L1758.62 1455.09 M1757.39 1451.02 L1763.27 1451.02 L1763.27 1473.54 L1768.2 1473.54 L1768.2 1477.43 L1763.27 1477.43 L1763.27 1485.58 L1758.62 1485.58 L1758.62 1477.43 L1743.02 1477.43 L1743.02 1472.92 L1757.39 1451.02 Z\" fill=\"#000000\" fill-rule=\"evenodd\" fill-opacity=\"1\" /><path clip-path=\"url(#clip580)\" d=\"M1827.41 1481.64 L1835.05 1481.64 L1835.05 1455.28 L1826.74 1456.95 L1826.74 1452.69 L1835 1451.02 L1839.68 1451.02 L1839.68 1481.64 L1847.32 1481.64 L1847.32 1485.58 L1827.41 1485.58 L1827.41 1481.64 Z\" fill=\"#000000\" fill-rule=\"evenodd\" fill-opacity=\"1\" /><path clip-path=\"url(#clip580)\" d=\"M1856.81 1451.02 L1875.16 1451.02 L1875.16 1454.96 L1861.09 1454.96 L1861.09 1463.43 Q1862.11 1463.08 1863.13 1462.92 Q1864.14 1462.73 1865.16 1462.73 Q1870.95 1462.73 1874.33 1465.9 Q1877.71 1469.08 1877.71 1474.49 Q1877.71 1480.07 1874.24 1483.17 Q1870.76 1486.25 1864.45 1486.25 Q1862.27 1486.25 1860 1485.88 Q1857.76 1485.51 1855.35 1484.77 L1855.35 1480.07 Q1857.43 1481.2 1859.65 1481.76 Q1861.88 1482.32 1864.35 1482.32 Q1868.36 1482.32 1870.7 1480.21 Q1873.03 1478.1 1873.03 1474.49 Q1873.03 1470.88 1870.7 1468.77 Q1868.36 1466.67 1864.35 1466.67 Q1862.48 1466.67 1860.6 1467.08 Q1858.75 1467.5 1856.81 1468.38 L1856.81 1451.02 Z\" fill=\"#000000\" fill-rule=\"evenodd\" fill-opacity=\"1\" /><path clip-path=\"url(#clip580)\" d=\"M1937.08 1481.64 L1944.72 1481.64 L1944.72 1455.28 L1936.41 1456.95 L1936.41 1452.69 L1944.67 1451.02 L1949.35 1451.02 L1949.35 1481.64 L1956.99 1481.64 L1956.99 1485.58 L1937.08 1485.58 L1937.08 1481.64 Z\" fill=\"#000000\" fill-rule=\"evenodd\" fill-opacity=\"1\" /><path clip-path=\"url(#clip580)\" d=\"M1977.01 1466.44 Q1973.86 1466.44 1972.01 1468.59 Q1970.18 1470.74 1970.18 1474.49 Q1970.18 1478.22 1972.01 1480.39 Q1973.86 1482.55 1977.01 1482.55 Q1980.16 1482.55 1981.99 1480.39 Q1983.84 1478.22 1983.84 1474.49 Q1983.84 1470.74 1981.99 1468.59 Q1980.16 1466.44 1977.01 1466.44 M1986.29 1451.78 L1986.29 1456.04 Q1984.53 1455.21 1982.73 1454.77 Q1980.94 1454.33 1979.19 1454.33 Q1974.56 1454.33 1972.1 1457.45 Q1969.67 1460.58 1969.32 1466.9 Q1970.69 1464.89 1972.75 1463.82 Q1974.81 1462.73 1977.29 1462.73 Q1982.5 1462.73 1985.5 1465.9 Q1988.54 1469.05 1988.54 1474.49 Q1988.54 1479.82 1985.39 1483.03 Q1982.24 1486.25 1977.01 1486.25 Q1971.01 1486.25 1967.84 1481.67 Q1964.67 1477.06 1964.67 1468.33 Q1964.67 1460.14 1968.56 1455.28 Q1972.45 1450.39 1979 1450.39 Q1980.76 1450.39 1982.54 1450.74 Q1984.35 1451.09 1986.29 1451.78 Z\" fill=\"#000000\" fill-rule=\"evenodd\" fill-opacity=\"1\" /><path clip-path=\"url(#clip580)\" d=\"M2047.86 1481.64 L2055.5 1481.64 L2055.5 1455.28 L2047.19 1456.95 L2047.19 1452.69 L2055.45 1451.02 L2060.13 1451.02 L2060.13 1481.64 L2067.77 1481.64 L2067.77 1485.58 L2047.86 1485.58 L2047.86 1481.64 Z\" fill=\"#000000\" fill-rule=\"evenodd\" fill-opacity=\"1\" /><path clip-path=\"url(#clip580)\" d=\"M2076.03 1451.02 L2098.25 1451.02 L2098.25 1453.01 L2085.71 1485.58 L2080.82 1485.58 L2092.63 1454.96 L2076.03 1454.96 L2076.03 1451.02 Z\" fill=\"#000000\" fill-rule=\"evenodd\" fill-opacity=\"1\" /><path clip-path=\"url(#clip580)\" d=\"M2157.71 1481.64 L2165.34 1481.64 L2165.34 1455.28 L2157.03 1456.95 L2157.03 1452.69 L2165.3 1451.02 L2169.97 1451.02 L2169.97 1481.64 L2177.61 1481.64 L2177.61 1485.58 L2157.71 1485.58 L2157.71 1481.64 Z\" fill=\"#000000\" fill-rule=\"evenodd\" fill-opacity=\"1\" /><path clip-path=\"url(#clip580)\" d=\"M2197.06 1469.17 Q2193.72 1469.17 2191.8 1470.95 Q2189.9 1472.73 2189.9 1475.86 Q2189.9 1478.98 2191.8 1480.77 Q2193.72 1482.55 2197.06 1482.55 Q2200.39 1482.55 2202.31 1480.77 Q2204.23 1478.96 2204.23 1475.86 Q2204.23 1472.73 2202.31 1470.95 Q2200.41 1469.17 2197.06 1469.17 M2192.38 1467.18 Q2189.37 1466.44 2187.68 1464.38 Q2186.02 1462.32 2186.02 1459.35 Q2186.02 1455.21 2188.96 1452.8 Q2191.92 1450.39 2197.06 1450.39 Q2202.22 1450.39 2205.16 1452.8 Q2208.1 1455.21 2208.1 1459.35 Q2208.1 1462.32 2206.41 1464.38 Q2204.74 1466.44 2201.76 1467.18 Q2205.14 1467.96 2207.01 1470.26 Q2208.91 1472.55 2208.91 1475.86 Q2208.91 1480.88 2205.83 1483.57 Q2202.77 1486.25 2197.06 1486.25 Q2191.34 1486.25 2188.26 1483.57 Q2185.21 1480.88 2185.21 1475.86 Q2185.21 1472.55 2187.1 1470.26 Q2189 1467.96 2192.38 1467.18 M2190.67 1459.79 Q2190.67 1462.48 2192.34 1463.98 Q2194.02 1465.49 2197.06 1465.49 Q2200.07 1465.49 2201.76 1463.98 Q2203.47 1462.48 2203.47 1459.79 Q2203.47 1457.11 2201.76 1455.6 Q2200.07 1454.1 2197.06 1454.1 Q2194.02 1454.1 2192.34 1455.6 Q2190.67 1457.11 2190.67 1459.79 Z\" fill=\"#000000\" fill-rule=\"evenodd\" fill-opacity=\"1\" /><path clip-path=\"url(#clip580)\" d=\"M2268 1481.64 L2275.64 1481.64 L2275.64 1455.28 L2267.33 1456.95 L2267.33 1452.69 L2275.59 1451.02 L2280.27 1451.02 L2280.27 1481.64 L2287.91 1481.64 L2287.91 1485.58 L2268 1485.58 L2268 1481.64 Z\" fill=\"#000000\" fill-rule=\"evenodd\" fill-opacity=\"1\" /><path clip-path=\"url(#clip580)\" d=\"M2297.49 1484.86 L2297.49 1480.6 Q2299.25 1481.44 2301.06 1481.88 Q2302.86 1482.32 2304.6 1482.32 Q2309.23 1482.32 2311.66 1479.21 Q2314.11 1476.09 2314.46 1469.75 Q2313.12 1471.74 2311.06 1472.8 Q2309 1473.87 2306.5 1473.87 Q2301.31 1473.87 2298.28 1470.74 Q2295.27 1467.59 2295.27 1462.15 Q2295.27 1456.83 2298.42 1453.61 Q2301.57 1450.39 2306.8 1450.39 Q2312.79 1450.39 2315.94 1455 Q2319.11 1459.58 2319.11 1468.33 Q2319.11 1476.51 2315.22 1481.39 Q2311.36 1486.25 2304.81 1486.25 Q2303.05 1486.25 2301.24 1485.9 Q2299.44 1485.56 2297.49 1484.86 M2306.8 1470.21 Q2309.95 1470.21 2311.77 1468.06 Q2313.63 1465.9 2313.63 1462.15 Q2313.63 1458.43 2311.77 1456.27 Q2309.95 1454.1 2306.8 1454.1 Q2303.65 1454.1 2301.8 1456.27 Q2299.97 1458.43 2299.97 1462.15 Q2299.97 1465.9 2301.8 1468.06 Q2303.65 1470.21 2306.8 1470.21 Z\" fill=\"#000000\" fill-rule=\"evenodd\" fill-opacity=\"1\" /><path clip-path=\"url(#clip580)\" d=\"M1168.7 1520.52 L1175.13 1520.52 L1175.13 1568.04 L1168.7 1568.04 L1168.7 1520.52 Z\" fill=\"#000000\" fill-rule=\"evenodd\" fill-opacity=\"1\" /><path clip-path=\"url(#clip580)\" d=\"M1193.46 1522.27 L1193.46 1532.4 L1205.52 1532.4 L1205.52 1536.95 L1193.46 1536.95 L1193.46 1556.3 Q1193.46 1560.66 1194.64 1561.9 Q1195.85 1563.14 1199.51 1563.14 L1205.52 1563.14 L1205.52 1568.04 L1199.51 1568.04 Q1192.73 1568.04 1190.15 1565.53 Q1187.57 1562.98 1187.57 1556.3 L1187.57 1536.95 L1183.27 1536.95 L1183.27 1532.4 L1187.57 1532.4 L1187.57 1522.27 L1193.46 1522.27 Z\" fill=\"#000000\" fill-rule=\"evenodd\" fill-opacity=\"1\" /><path clip-path=\"url(#clip580)\" d=\"M1243.72 1548.76 L1243.72 1551.62 L1216.79 1551.62 Q1217.17 1557.67 1220.42 1560.85 Q1223.7 1564 1229.52 1564 Q1232.89 1564 1236.05 1563.17 Q1239.23 1562.35 1242.35 1560.69 L1242.35 1566.23 Q1239.2 1567.57 1235.89 1568.27 Q1232.58 1568.97 1229.17 1568.97 Q1220.64 1568.97 1215.64 1564 Q1210.68 1559.04 1210.68 1550.57 Q1210.68 1541.82 1215.39 1536.69 Q1220.13 1531.54 1228.15 1531.54 Q1235.34 1531.54 1239.51 1536.18 Q1243.72 1540.8 1243.72 1548.76 M1237.86 1547.04 Q1237.8 1542.23 1235.15 1539.37 Q1232.54 1536.5 1228.22 1536.5 Q1223.31 1536.5 1220.35 1539.27 Q1217.43 1542.04 1216.98 1547.07 L1237.86 1547.04 Z\" fill=\"#000000\" fill-rule=\"evenodd\" fill-opacity=\"1\" /><path clip-path=\"url(#clip580)\" d=\"M1273.98 1537.87 Q1273 1537.3 1271.82 1537.04 Q1270.67 1536.76 1269.27 1536.76 Q1264.31 1536.76 1261.64 1540 Q1258.99 1543.22 1258.99 1549.27 L1258.99 1568.04 L1253.11 1568.04 L1253.11 1532.4 L1258.99 1532.4 L1258.99 1537.93 Q1260.84 1534.69 1263.8 1533.13 Q1266.76 1531.54 1270.99 1531.54 Q1271.6 1531.54 1272.33 1531.63 Q1273.06 1531.7 1273.95 1531.85 L1273.98 1537.87 Z\" fill=\"#000000\" fill-rule=\"evenodd\" fill-opacity=\"1\" /><path clip-path=\"url(#clip580)\" d=\"M1296.33 1550.12 Q1289.23 1550.12 1286.49 1551.75 Q1283.76 1553.37 1283.76 1557.29 Q1283.76 1560.4 1285.79 1562.25 Q1287.86 1564.07 1291.39 1564.07 Q1296.26 1564.07 1299.19 1560.63 Q1302.15 1557.16 1302.15 1551.43 L1302.15 1550.12 L1296.33 1550.12 M1308.01 1547.71 L1308.01 1568.04 L1302.15 1568.04 L1302.15 1562.63 Q1300.15 1565.88 1297.16 1567.44 Q1294.16 1568.97 1289.84 1568.97 Q1284.36 1568.97 1281.11 1565.91 Q1277.9 1562.82 1277.9 1557.67 Q1277.9 1551.65 1281.91 1548.6 Q1285.95 1545.54 1293.94 1545.54 L1302.15 1545.54 L1302.15 1544.97 Q1302.15 1540.93 1299.48 1538.73 Q1296.84 1536.5 1292.03 1536.5 Q1288.98 1536.5 1286.08 1537.23 Q1283.18 1537.97 1280.51 1539.43 L1280.51 1534.02 Q1283.72 1532.78 1286.75 1532.17 Q1289.77 1531.54 1292.64 1531.54 Q1300.37 1531.54 1304.19 1535.55 Q1308.01 1539.56 1308.01 1547.71 Z\" fill=\"#000000\" fill-rule=\"evenodd\" fill-opacity=\"1\" /><path clip-path=\"url(#clip580)\" d=\"M1325.87 1522.27 L1325.87 1532.4 L1337.93 1532.4 L1337.93 1536.95 L1325.87 1536.95 L1325.87 1556.3 Q1325.87 1560.66 1327.04 1561.9 Q1328.25 1563.14 1331.91 1563.14 L1337.93 1563.14 L1337.93 1568.04 L1331.91 1568.04 Q1325.13 1568.04 1322.56 1565.53 Q1319.98 1562.98 1319.98 1556.3 L1319.98 1536.95 L1315.68 1536.95 L1315.68 1532.4 L1319.98 1532.4 L1319.98 1522.27 L1325.87 1522.27 Z\" fill=\"#000000\" fill-rule=\"evenodd\" fill-opacity=\"1\" /><path clip-path=\"url(#clip580)\" d=\"M1345.63 1532.4 L1351.49 1532.4 L1351.49 1568.04 L1345.63 1568.04 L1345.63 1532.4 M1345.63 1518.52 L1351.49 1518.52 L1351.49 1525.93 L1345.63 1525.93 L1345.63 1518.52 Z\" fill=\"#000000\" fill-rule=\"evenodd\" fill-opacity=\"1\" /><path clip-path=\"url(#clip580)\" d=\"M1377.55 1536.5 Q1372.84 1536.5 1370.11 1540.19 Q1367.37 1543.85 1367.37 1550.25 Q1367.37 1556.65 1370.08 1560.34 Q1372.81 1564 1377.55 1564 Q1382.23 1564 1384.97 1560.31 Q1387.71 1556.62 1387.71 1550.25 Q1387.71 1543.92 1384.97 1540.23 Q1382.23 1536.5 1377.55 1536.5 M1377.55 1531.54 Q1385.19 1531.54 1389.55 1536.5 Q1393.91 1541.47 1393.91 1550.25 Q1393.91 1559 1389.55 1564 Q1385.19 1568.97 1377.55 1568.97 Q1369.88 1568.97 1365.52 1564 Q1361.19 1559 1361.19 1550.25 Q1361.19 1541.47 1365.52 1536.5 Q1369.88 1531.54 1377.55 1531.54 Z\" fill=\"#000000\" fill-rule=\"evenodd\" fill-opacity=\"1\" /><path clip-path=\"url(#clip580)\" d=\"M1433.25 1546.53 L1433.25 1568.04 L1427.4 1568.04 L1427.4 1546.72 Q1427.4 1541.66 1425.42 1539.14 Q1423.45 1536.63 1419.5 1536.63 Q1414.76 1536.63 1412.03 1539.65 Q1409.29 1542.68 1409.29 1547.9 L1409.29 1568.04 L1403.4 1568.04 L1403.4 1532.4 L1409.29 1532.4 L1409.29 1537.93 Q1411.39 1534.72 1414.22 1533.13 Q1417.09 1531.54 1420.81 1531.54 Q1426.95 1531.54 1430.1 1535.36 Q1433.25 1539.14 1433.25 1546.53 Z\" fill=\"#000000\" fill-rule=\"evenodd\" fill-opacity=\"1\" /><polyline clip-path=\"url(#clip582)\" style=\"stroke:#000000; stroke-linecap:round; stroke-linejoin:round; stroke-width:2; stroke-opacity:0.1; fill:none\" points=\"\n",
       "  249.195,1105.11 2352.76,1105.11 \n",
       "  \"/>\n",
       "<polyline clip-path=\"url(#clip582)\" style=\"stroke:#000000; stroke-linecap:round; stroke-linejoin:round; stroke-width:2; stroke-opacity:0.1; fill:none\" points=\"\n",
       "  249.195,783.806 2352.76,783.806 \n",
       "  \"/>\n",
       "<polyline clip-path=\"url(#clip582)\" style=\"stroke:#000000; stroke-linecap:round; stroke-linejoin:round; stroke-width:2; stroke-opacity:0.1; fill:none\" points=\"\n",
       "  249.195,462.5 2352.76,462.5 \n",
       "  \"/>\n",
       "<polyline clip-path=\"url(#clip582)\" style=\"stroke:#000000; stroke-linecap:round; stroke-linejoin:round; stroke-width:2; stroke-opacity:0.1; fill:none\" points=\"\n",
       "  249.195,141.194 2352.76,141.194 \n",
       "  \"/>\n",
       "<polyline clip-path=\"url(#clip580)\" style=\"stroke:#000000; stroke-linecap:round; stroke-linejoin:round; stroke-width:4; stroke-opacity:1; fill:none\" points=\"\n",
       "  249.195,1423.18 249.195,123.472 \n",
       "  \"/>\n",
       "<polyline clip-path=\"url(#clip580)\" style=\"stroke:#000000; stroke-linecap:round; stroke-linejoin:round; stroke-width:4; stroke-opacity:1; fill:none\" points=\"\n",
       "  249.195,1105.11 268.092,1105.11 \n",
       "  \"/>\n",
       "<polyline clip-path=\"url(#clip580)\" style=\"stroke:#000000; stroke-linecap:round; stroke-linejoin:round; stroke-width:4; stroke-opacity:1; fill:none\" points=\"\n",
       "  249.195,783.806 268.092,783.806 \n",
       "  \"/>\n",
       "<polyline clip-path=\"url(#clip580)\" style=\"stroke:#000000; stroke-linecap:round; stroke-linejoin:round; stroke-width:4; stroke-opacity:1; fill:none\" points=\"\n",
       "  249.195,462.5 268.092,462.5 \n",
       "  \"/>\n",
       "<polyline clip-path=\"url(#clip580)\" style=\"stroke:#000000; stroke-linecap:round; stroke-linejoin:round; stroke-width:4; stroke-opacity:1; fill:none\" points=\"\n",
       "  249.195,141.194 268.092,141.194 \n",
       "  \"/>\n",
       "<path clip-path=\"url(#clip580)\" d=\"M119.885 1118.46 L136.204 1118.46 L136.204 1122.39 L114.26 1122.39 L114.26 1118.46 Q116.922 1115.7 121.505 1111.07 Q126.112 1106.42 127.292 1105.08 Q129.538 1102.55 130.417 1100.82 Q131.32 1099.06 131.32 1097.37 Q131.32 1094.61 129.376 1092.88 Q127.455 1091.14 124.353 1091.14 Q122.154 1091.14 119.7 1091.91 Q117.269 1092.67 114.492 1094.22 L114.492 1089.5 Q117.316 1088.36 119.769 1087.79 Q122.223 1087.21 124.26 1087.21 Q129.63 1087.21 132.825 1089.89 Q136.019 1092.58 136.019 1097.07 Q136.019 1099.2 135.209 1101.12 Q134.422 1103.02 132.316 1105.61 Q131.737 1106.28 128.635 1109.5 Q125.533 1112.69 119.885 1118.46 Z\" fill=\"#000000\" fill-rule=\"evenodd\" fill-opacity=\"1\" /><path clip-path=\"url(#clip580)\" d=\"M156.019 1090.91 Q152.408 1090.91 150.579 1094.47 Q148.774 1098.02 148.774 1105.15 Q148.774 1112.25 150.579 1115.82 Q152.408 1119.36 156.019 1119.36 Q159.653 1119.36 161.459 1115.82 Q163.288 1112.25 163.288 1105.15 Q163.288 1098.02 161.459 1094.47 Q159.653 1090.91 156.019 1090.91 M156.019 1087.21 Q161.829 1087.21 164.885 1091.81 Q167.964 1096.4 167.964 1105.15 Q167.964 1113.87 164.885 1118.48 Q161.829 1123.06 156.019 1123.06 Q150.209 1123.06 147.13 1118.48 Q144.075 1113.87 144.075 1105.15 Q144.075 1096.4 147.13 1091.81 Q150.209 1087.21 156.019 1087.21 Z\" fill=\"#000000\" fill-rule=\"evenodd\" fill-opacity=\"1\" /><path clip-path=\"url(#clip580)\" d=\"M176.181 1116.51 L181.065 1116.51 L181.065 1122.39 L176.181 1122.39 L176.181 1116.51 Z\" fill=\"#000000\" fill-rule=\"evenodd\" fill-opacity=\"1\" /><path clip-path=\"url(#clip580)\" d=\"M201.25 1090.91 Q197.639 1090.91 195.811 1094.47 Q194.005 1098.02 194.005 1105.15 Q194.005 1112.25 195.811 1115.82 Q197.639 1119.36 201.25 1119.36 Q204.885 1119.36 206.69 1115.82 Q208.519 1112.25 208.519 1105.15 Q208.519 1098.02 206.69 1094.47 Q204.885 1090.91 201.25 1090.91 M201.25 1087.21 Q207.061 1087.21 210.116 1091.81 Q213.195 1096.4 213.195 1105.15 Q213.195 1113.87 210.116 1118.48 Q207.061 1123.06 201.25 1123.06 Q195.44 1123.06 192.362 1118.48 Q189.306 1113.87 189.306 1105.15 Q189.306 1096.4 192.362 1091.81 Q195.44 1087.21 201.25 1087.21 Z\" fill=\"#000000\" fill-rule=\"evenodd\" fill-opacity=\"1\" /><path clip-path=\"url(#clip580)\" d=\"M120.88 797.15 L137.2 797.15 L137.2 801.086 L115.256 801.086 L115.256 797.15 Q117.918 794.396 122.501 789.766 Q127.107 785.114 128.288 783.771 Q130.533 781.248 131.413 779.512 Q132.316 777.752 132.316 776.063 Q132.316 773.308 130.371 771.572 Q128.45 769.836 125.348 769.836 Q123.149 769.836 120.695 770.6 Q118.265 771.364 115.487 772.915 L115.487 768.192 Q118.311 767.058 120.765 766.479 Q123.218 765.901 125.255 765.901 Q130.626 765.901 133.82 768.586 Q137.015 771.271 137.015 775.762 Q137.015 777.891 136.204 779.813 Q135.417 781.711 133.311 784.303 Q132.732 784.975 129.63 788.192 Q126.529 791.387 120.88 797.15 Z\" fill=\"#000000\" fill-rule=\"evenodd\" fill-opacity=\"1\" /><path clip-path=\"url(#clip580)\" d=\"M157.015 769.604 Q153.403 769.604 151.575 773.169 Q149.769 776.711 149.769 783.84 Q149.769 790.947 151.575 794.512 Q153.403 798.053 157.015 798.053 Q160.649 798.053 162.454 794.512 Q164.283 790.947 164.283 783.84 Q164.283 776.711 162.454 773.169 Q160.649 769.604 157.015 769.604 M157.015 765.901 Q162.825 765.901 165.88 770.507 Q168.959 775.09 168.959 783.84 Q168.959 792.567 165.88 797.174 Q162.825 801.757 157.015 801.757 Q151.204 801.757 148.126 797.174 Q145.07 792.567 145.07 783.84 Q145.07 775.09 148.126 770.507 Q151.204 765.901 157.015 765.901 Z\" fill=\"#000000\" fill-rule=\"evenodd\" fill-opacity=\"1\" /><path clip-path=\"url(#clip580)\" d=\"M177.176 795.206 L182.061 795.206 L182.061 801.086 L177.176 801.086 L177.176 795.206 Z\" fill=\"#000000\" fill-rule=\"evenodd\" fill-opacity=\"1\" /><path clip-path=\"url(#clip580)\" d=\"M192.292 766.526 L210.649 766.526 L210.649 770.461 L196.575 770.461 L196.575 778.933 Q197.593 778.586 198.612 778.424 Q199.63 778.239 200.649 778.239 Q206.436 778.239 209.815 781.41 Q213.195 784.581 213.195 789.998 Q213.195 795.576 209.723 798.678 Q206.25 801.757 199.931 801.757 Q197.755 801.757 195.487 801.387 Q193.241 801.016 190.834 800.275 L190.834 795.576 Q192.917 796.711 195.139 797.266 Q197.362 797.822 199.838 797.822 Q203.843 797.822 206.181 795.715 Q208.519 793.609 208.519 789.998 Q208.519 786.387 206.181 784.28 Q203.843 782.174 199.838 782.174 Q197.963 782.174 196.088 782.59 Q194.237 783.007 192.292 783.887 L192.292 766.526 Z\" fill=\"#000000\" fill-rule=\"evenodd\" fill-opacity=\"1\" /><path clip-path=\"url(#clip580)\" d=\"M119.885 475.845 L136.204 475.845 L136.204 479.78 L114.26 479.78 L114.26 475.845 Q116.922 473.09 121.505 468.461 Q126.112 463.808 127.292 462.465 Q129.538 459.942 130.417 458.206 Q131.32 456.447 131.32 454.757 Q131.32 452.002 129.376 450.266 Q127.455 448.53 124.353 448.53 Q122.154 448.53 119.7 449.294 Q117.269 450.058 114.492 451.609 L114.492 446.887 Q117.316 445.752 119.769 445.174 Q122.223 444.595 124.26 444.595 Q129.63 444.595 132.825 447.28 Q136.019 449.965 136.019 454.456 Q136.019 456.586 135.209 458.507 Q134.422 460.405 132.316 462.998 Q131.737 463.669 128.635 466.887 Q125.533 470.081 119.885 475.845 Z\" fill=\"#000000\" fill-rule=\"evenodd\" fill-opacity=\"1\" /><path clip-path=\"url(#clip580)\" d=\"M146.829 475.845 L154.468 475.845 L154.468 449.479 L146.158 451.146 L146.158 446.887 L154.422 445.22 L159.098 445.22 L159.098 475.845 L166.737 475.845 L166.737 479.78 L146.829 479.78 L146.829 475.845 Z\" fill=\"#000000\" fill-rule=\"evenodd\" fill-opacity=\"1\" /><path clip-path=\"url(#clip580)\" d=\"M176.181 473.9 L181.065 473.9 L181.065 479.78 L176.181 479.78 L176.181 473.9 Z\" fill=\"#000000\" fill-rule=\"evenodd\" fill-opacity=\"1\" /><path clip-path=\"url(#clip580)\" d=\"M201.25 448.299 Q197.639 448.299 195.811 451.863 Q194.005 455.405 194.005 462.535 Q194.005 469.641 195.811 473.206 Q197.639 476.748 201.25 476.748 Q204.885 476.748 206.69 473.206 Q208.519 469.641 208.519 462.535 Q208.519 455.405 206.69 451.863 Q204.885 448.299 201.25 448.299 M201.25 444.595 Q207.061 444.595 210.116 449.201 Q213.195 453.785 213.195 462.535 Q213.195 471.262 210.116 475.868 Q207.061 480.451 201.25 480.451 Q195.44 480.451 192.362 475.868 Q189.306 471.262 189.306 462.535 Q189.306 453.785 192.362 449.201 Q195.44 444.595 201.25 444.595 Z\" fill=\"#000000\" fill-rule=\"evenodd\" fill-opacity=\"1\" /><path clip-path=\"url(#clip580)\" d=\"M120.88 154.539 L137.2 154.539 L137.2 158.474 L115.256 158.474 L115.256 154.539 Q117.918 151.785 122.501 147.155 Q127.107 142.502 128.288 141.16 Q130.533 138.636 131.413 136.9 Q132.316 135.141 132.316 133.451 Q132.316 130.697 130.371 128.961 Q128.45 127.224 125.348 127.224 Q123.149 127.224 120.695 127.988 Q118.265 128.752 115.487 130.303 L115.487 125.581 Q118.311 124.447 120.765 123.868 Q123.218 123.289 125.255 123.289 Q130.626 123.289 133.82 125.974 Q137.015 128.66 137.015 133.15 Q137.015 135.28 136.204 137.201 Q135.417 139.099 133.311 141.692 Q132.732 142.363 129.63 145.581 Q126.529 148.775 120.88 154.539 Z\" fill=\"#000000\" fill-rule=\"evenodd\" fill-opacity=\"1\" /><path clip-path=\"url(#clip580)\" d=\"M147.825 154.539 L155.464 154.539 L155.464 128.174 L147.153 129.84 L147.153 125.581 L155.417 123.914 L160.093 123.914 L160.093 154.539 L167.732 154.539 L167.732 158.474 L147.825 158.474 L147.825 154.539 Z\" fill=\"#000000\" fill-rule=\"evenodd\" fill-opacity=\"1\" /><path clip-path=\"url(#clip580)\" d=\"M177.176 152.595 L182.061 152.595 L182.061 158.474 L177.176 158.474 L177.176 152.595 Z\" fill=\"#000000\" fill-rule=\"evenodd\" fill-opacity=\"1\" /><path clip-path=\"url(#clip580)\" d=\"M192.292 123.914 L210.649 123.914 L210.649 127.849 L196.575 127.849 L196.575 136.322 Q197.593 135.974 198.612 135.812 Q199.63 135.627 200.649 135.627 Q206.436 135.627 209.815 138.798 Q213.195 141.97 213.195 147.386 Q213.195 152.965 209.723 156.067 Q206.25 159.146 199.931 159.146 Q197.755 159.146 195.487 158.775 Q193.241 158.405 190.834 157.664 L190.834 152.965 Q192.917 154.099 195.139 154.655 Q197.362 155.21 199.838 155.21 Q203.843 155.21 206.181 153.104 Q208.519 150.997 208.519 147.386 Q208.519 143.775 206.181 141.669 Q203.843 139.562 199.838 139.562 Q197.963 139.562 196.088 139.979 Q194.237 140.396 192.292 141.275 L192.292 123.914 Z\" fill=\"#000000\" fill-rule=\"evenodd\" fill-opacity=\"1\" /><path clip-path=\"url(#clip580)\" d=\"M17.3151 829.326 Q17.927 829.326 18.2169 829.583 Q18.4745 829.841 18.5389 830.131 Q18.5711 830.421 18.5711 831.097 Q18.5711 832.482 18.6678 833.223 Q18.7644 833.963 19.1831 834.414 Q19.5695 834.865 19.956 835.026 Q20.3425 835.155 21.3408 835.38 L52.1297 843.11 Q56.8639 844.301 59.9557 848.617 Q63.0152 852.933 63.0152 857.667 Q63.0152 861.532 60.9863 863.979 Q58.9251 866.395 55.8333 866.395 Q54.2552 866.395 53.128 865.879 Q52.0008 865.364 51.4855 864.591 Q50.9702 863.818 50.777 863.174 Q50.5516 862.498 50.5516 861.95 Q50.5516 860.888 51.2279 859.986 Q51.9042 859.052 53.3213 859.052 Q54.8994 859.052 56.2198 860.276 Q57.5402 861.499 57.5402 863.335 Q57.5402 863.947 57.4758 864.14 Q59.0539 863.657 60.0523 862.401 Q61.0185 861.145 61.3083 860.05 Q61.566 858.923 61.566 857.86 Q61.566 855.09 58.8929 852.289 Q56.2198 849.487 51.6788 848.359 L21.4053 840.791 Q20.3747 840.533 20.0204 840.533 Q19.3441 840.533 19.1186 840.952 Q18.861 841.339 18.7 842.562 Q18.5711 844.205 18.5711 846.395 Q18.5711 847.168 18.5711 847.49 Q18.5389 847.812 18.4745 848.134 Q18.4101 848.456 18.2813 848.553 Q18.1203 848.649 17.8304 848.649 Q17.2185 848.649 16.9286 848.392 Q16.6066 848.134 16.5744 847.909 Q16.51 847.683 16.51 847.264 L16.7032 837.57 Q16.7032 836.733 16.6066 833.899 Q16.51 831.065 16.51 830.228 Q16.51 829.326 17.3151 829.326 Z\" fill=\"#000000\" fill-rule=\"evenodd\" fill-opacity=\"1\" /><path clip-path=\"url(#clip580)\" d=\"M76.6983 804.864 Q76.9012 804.684 77.1041 804.684 Q77.307 804.684 77.8932 805.135 Q78.4793 805.563 79.2684 806.487 Q80.0574 807.412 80.8014 808.607 Q81.5453 809.801 82.0413 811.56 Q82.5598 813.318 82.5598 815.167 Q82.5598 818.616 80.2828 820.645 Q78.0059 822.652 74.737 822.652 Q71.5583 822.652 68.5148 820.871 Q65.4488 819.09 63.5551 816.204 Q61.6389 813.318 61.6389 810.275 Q61.6389 807.863 62.7661 806.352 Q63.8933 804.842 65.6066 804.842 Q66.9367 804.842 67.7483 805.608 Q68.5599 806.375 68.5599 807.412 Q68.5599 808.133 68.1541 808.629 Q67.7258 809.125 66.9367 809.125 Q65.9222 809.125 65.1332 808.291 Q64.8176 807.975 64.6823 807.615 Q64.5245 807.231 64.5245 807.006 Q64.502 806.781 64.502 806.262 Q63.6228 806.735 63.1493 807.863 Q62.6534 808.967 62.6534 810.23 Q62.6534 812.101 63.9609 813.882 Q65.2459 815.663 67.2749 816.745 Q69.2588 817.827 72.0768 818.526 Q74.8723 819.225 76.4954 819.225 Q78.7273 819.225 80.125 818.188 Q81.5228 817.151 81.5228 815.077 Q81.5228 814.671 81.5002 814.243 Q81.4777 813.792 81.2297 812.665 Q80.9817 811.515 80.5534 810.5 Q80.125 809.486 79.2007 808.201 Q78.2539 806.893 76.9689 805.856 Q76.4954 805.496 76.4954 805.248 Q76.4954 805.045 76.6983 804.864 Z\" fill=\"#000000\" fill-rule=\"evenodd\" fill-opacity=\"1\" /><path clip-path=\"url(#clip580)\" d=\"M50.5021 793.363 L77.1943 800.014 Q78.2539 800.284 79.4036 800.284 Q81.5228 800.284 81.5228 798.887 Q81.5228 798.233 81.0944 797.692 Q80.6435 797.151 79.7643 796.745 Q78.8626 796.317 78.0059 796.046 Q77.1492 795.753 75.8191 795.392 Q75.3006 795.28 75.1428 795.167 Q74.985 795.054 74.985 794.739 Q74.985 794.175 75.4359 794.175 Q78.2088 794.739 79.9672 795.573 Q82.5598 796.79 82.5598 799.045 Q82.5598 800.735 81.3875 801.998 Q80.1927 803.238 78.299 803.238 Q77.5776 803.238 76.7209 803.012 L53.6357 797.196 L52.7339 797.038 Q52.486 797.038 52.3507 797.128 Q52.2154 797.218 52.0802 797.76 Q51.9449 798.278 51.9449 799.315 Q51.9449 799.743 51.9224 799.946 Q51.8998 800.127 51.7871 800.307 Q51.6744 800.465 51.4264 800.465 Q51.0206 800.465 50.7952 800.307 Q50.5697 800.127 50.5246 799.991 Q50.4795 799.856 50.457 799.586 Q50.4345 799.202 50.3217 797.917 Q50.1865 796.632 50.0963 795.528 Q50.0061 794.423 50.0061 793.95 Q50.0061 793.679 50.1414 793.544 Q50.2541 793.386 50.3894 793.363 L50.5021 793.363 Z\" fill=\"#000000\" fill-rule=\"evenodd\" fill-opacity=\"1\" /><path clip-path=\"url(#clip580)\" d=\"M75.4359 766.248 Q78.344 766.834 80.0123 767.623 Q82.5598 768.908 82.5598 771.05 Q82.5598 772.538 81.7257 773.665 Q80.869 774.769 79.4487 775.153 Q80.0123 775.581 80.3956 775.964 Q80.7788 776.325 81.365 777.024 Q81.9286 777.723 82.2442 778.67 Q82.5598 779.594 82.5598 780.653 Q82.5598 781.465 82.402 782.209 Q82.2667 782.953 81.8835 783.742 Q81.4777 784.508 80.869 785.072 Q80.2603 785.613 79.2684 785.974 Q78.2764 786.335 77.0139 786.335 Q75.4359 786.335 73.2942 785.726 Q71.1525 785.095 67.32 783.652 Q65.291 782.863 64.1638 782.863 Q63.6453 782.863 63.3071 782.975 Q62.969 783.088 62.8563 783.314 Q62.721 783.517 62.6984 783.652 Q62.6534 783.787 62.6534 784.012 Q62.6534 785.41 64.0736 786.628 Q65.4939 787.845 68.3796 788.679 Q68.9432 788.859 69.0784 788.972 Q69.2137 789.085 69.2137 789.423 Q69.1911 789.987 68.7403 789.987 Q68.5599 789.987 67.861 789.784 Q67.1396 789.581 66.0801 789.107 Q64.9979 788.611 64.0285 787.935 Q63.0366 787.259 62.3377 786.199 Q61.6389 785.117 61.6389 783.877 Q61.6389 782.186 62.7435 781.149 Q63.8256 780.09 65.4263 780.09 Q66.4182 780.09 68.3345 780.879 Q74.985 783.381 77.7579 783.381 Q81.5228 783.381 81.5228 780.518 Q81.5228 779.571 81.1395 778.692 Q80.7563 777.79 80.2152 777.204 Q79.6742 776.618 79.088 776.167 Q78.5019 775.694 78.1186 775.491 Q77.7354 775.265 77.6452 775.243 L63.758 771.794 Q63.217 771.658 62.8563 771.41 Q62.473 771.14 62.3377 770.824 Q62.2025 770.509 62.1799 770.328 Q62.1348 770.148 62.1348 769.99 Q62.1348 769.426 62.473 769.043 Q62.8112 768.637 63.3973 768.637 Q63.51 768.637 64.0511 768.773 Q64.5696 768.885 65.3361 769.066 Q66.0801 769.246 66.4859 769.336 Q69.3264 770.058 69.6195 770.125 L74.6017 771.41 Q74.8948 771.478 75.8417 771.703 Q76.7885 771.906 77.2845 772.019 Q77.7579 772.132 78.4117 772.244 Q79.0429 772.335 79.4036 772.335 Q80.5308 772.335 81.0268 771.996 Q81.5228 771.658 81.5228 770.914 Q81.5228 770.215 81.0493 769.674 Q80.5534 769.111 79.6065 768.682 Q78.6371 768.254 77.8481 768.006 Q77.059 767.758 75.8191 767.443 Q75.2781 767.33 75.1428 767.24 Q74.985 767.127 74.985 766.811 Q74.985 766.248 75.4359 766.248 Z\" fill=\"#000000\" fill-rule=\"evenodd\" fill-opacity=\"1\" /><path clip-path=\"url(#clip580)\" d=\"M65.6066 746.472 Q66.8691 746.472 67.5454 747.103 Q68.1992 747.734 68.1992 748.591 Q68.1992 749.29 67.7934 749.673 Q67.3876 750.034 66.8466 750.034 Q66.0575 750.034 65.4263 749.402 Q64.795 748.749 64.7725 747.802 Q63.9384 748.117 63.4424 748.951 Q62.9239 749.786 62.7886 750.53 Q62.6534 751.251 62.6534 751.972 Q62.6534 753.393 63.1042 754.475 Q63.5551 755.557 64.254 756.098 Q64.9303 756.639 65.5841 756.887 Q66.2379 757.135 66.8015 757.135 Q67.2974 757.135 67.7032 757.022 Q68.0865 756.887 68.3796 756.571 Q68.6501 756.256 68.8304 756.03 Q69.0108 755.782 69.1686 755.241 Q69.3264 754.7 69.394 754.475 Q69.4391 754.249 69.5744 753.618 Q69.8449 752.311 70.0027 751.724 Q70.138 751.138 70.5212 750.372 Q70.9045 749.583 71.5132 748.997 Q72.9335 747.576 74.8948 747.576 Q75.6162 747.576 76.4954 747.824 Q77.3747 748.05 78.4793 748.703 Q79.584 749.357 80.4632 750.349 Q81.3424 751.341 81.9511 753.055 Q82.5598 754.745 82.5598 756.864 Q82.5598 759.818 81.3199 761.644 Q80.0574 763.47 78.0735 763.47 Q76.6307 763.47 75.8417 762.681 Q75.0301 761.892 75.0301 760.877 Q75.0301 760.111 75.4584 759.637 Q75.8642 759.164 76.6307 759.164 Q77.6677 759.164 78.4568 759.998 Q79.2458 760.832 79.088 762.072 Q81.5228 761.013 81.5228 756.819 Q81.5228 755.241 81.117 754.024 Q80.6886 752.784 80.1025 752.108 Q79.4938 751.409 78.7498 750.958 Q78.0059 750.507 77.4423 750.372 Q76.8787 750.214 76.4503 750.214 Q75.7064 750.214 75.1428 750.507 Q74.5792 750.8 74.2636 751.206 Q73.9254 751.589 73.6549 752.333 Q73.3618 753.055 73.2491 753.573 Q73.1364 754.092 72.956 755.016 Q72.8658 755.444 72.8207 755.715 Q72.7531 755.985 72.5728 756.549 Q72.3699 757.09 72.167 757.473 Q71.9641 757.834 71.6034 758.307 Q71.2427 758.781 70.8143 759.074 Q70.386 759.367 69.7547 759.57 Q69.1235 759.773 68.3796 759.773 Q67.7032 759.773 66.8916 759.57 Q66.0801 759.344 65.1332 758.781 Q64.1864 758.195 63.4199 757.36 Q62.6534 756.526 62.1574 755.129 Q61.6389 753.708 61.6389 751.972 Q61.6389 749.447 62.8112 747.96 Q63.9609 746.472 65.6066 746.472 Z\" fill=\"#000000\" fill-rule=\"evenodd\" fill-opacity=\"1\" /><path clip-path=\"url(#clip580)\" d=\"M62.6534 729.488 Q63.2846 729.488 63.4424 729.781 Q63.5777 730.074 63.5777 730.885 L63.5777 735.214 L77.1943 738.641 Q78.3891 738.911 79.4036 738.911 Q80.5308 738.911 81.0268 738.573 Q81.5228 738.212 81.5228 737.468 Q81.5228 736.003 80.1927 734.425 Q78.8626 732.824 75.6162 731.472 Q75.1879 731.291 75.0977 731.201 Q74.985 731.088 74.985 730.795 Q74.985 730.232 75.4359 730.232 Q75.5937 730.232 76.3151 730.547 Q77.0365 730.84 78.0961 731.494 Q79.1556 732.125 80.1476 732.959 Q81.1395 733.771 81.8609 735.011 Q82.5598 736.251 82.5598 737.581 Q82.5598 739.452 81.365 740.647 Q80.1701 741.819 78.299 741.819 Q77.6903 741.819 75.7515 741.346 Q73.7901 740.872 63.5777 738.302 L63.5777 742.383 Q63.5777 742.946 63.5551 743.172 Q63.5326 743.375 63.4199 743.533 Q63.2846 743.668 63.0141 743.668 Q62.5857 743.668 62.4054 743.488 Q62.2025 743.307 62.1799 743.082 Q62.1348 742.834 62.1348 742.27 L62.1348 737.942 L54.808 736.138 Q54.0866 735.958 53.6808 735.507 Q53.2525 735.033 53.2074 734.763 Q53.1397 734.492 53.1397 734.29 Q53.1397 733.681 53.4779 733.32 Q53.7935 732.959 54.3797 732.959 Q54.6953 732.959 62.1348 734.853 L62.1348 730.795 Q62.1348 730.277 62.1574 730.074 Q62.1799 729.848 62.2926 729.668 Q62.4054 729.488 62.6534 729.488 Z\" fill=\"#000000\" fill-rule=\"evenodd\" fill-opacity=\"1\" /><path clip-path=\"url(#clip580)\" d=\"M76.6983 710.723 Q76.9012 710.542 77.1041 710.542 Q77.307 710.542 77.8932 710.993 Q78.4793 711.422 79.2684 712.346 Q80.0574 713.27 80.8014 714.465 Q81.5453 715.66 82.0413 717.418 Q82.5598 719.177 82.5598 721.025 Q82.5598 724.339 80.1927 726.323 Q77.8255 728.285 74.1959 728.285 Q71.8739 728.285 69.8224 727.518 Q67.7483 726.752 66.283 725.512 Q64.8176 724.249 63.758 722.671 Q62.6759 721.071 62.1574 719.402 Q61.6389 717.734 61.6389 716.179 Q61.6389 713.902 62.7886 712.571 Q63.9384 711.241 65.5615 711.241 Q65.9448 711.241 66.4182 711.354 Q66.8916 711.444 67.6356 711.76 Q68.3796 712.053 69.1235 712.819 Q69.8449 713.586 70.3183 714.713 Q71.3779 717.216 71.3779 721.769 L71.3779 724.227 Q74.2861 724.948 76.1798 724.948 Q76.9238 724.948 77.6903 724.813 Q78.4342 724.678 79.3811 724.317 Q80.3279 723.934 80.9366 723.077 Q81.5228 722.198 81.5228 720.935 Q81.5228 720.53 81.5002 720.101 Q81.4777 719.65 81.2297 718.523 Q80.9817 717.373 80.5534 716.359 Q80.125 715.344 79.2007 714.059 Q78.2539 712.752 76.9689 711.715 Q76.4954 711.354 76.4954 711.106 Q76.4954 710.903 76.6983 710.723 M65.5615 712.774 Q64.3216 712.774 63.4875 713.699 Q62.6534 714.6 62.6534 716.179 Q62.6534 716.674 62.7661 717.283 Q62.8788 717.892 63.3522 718.906 Q63.8256 719.898 64.6147 720.778 Q65.3812 721.657 66.8916 722.536 Q68.3796 723.415 70.3634 723.934 L70.3634 722.04 Q70.3634 721.386 70.3634 720.913 Q70.3409 720.439 70.2507 719.402 Q70.1605 718.343 70.0027 717.576 Q69.8224 716.81 69.4617 715.84 Q69.101 714.871 68.6275 714.262 Q68.1316 713.631 67.3425 713.203 Q66.5535 712.774 65.5615 712.774 Z\" fill=\"#000000\" fill-rule=\"evenodd\" fill-opacity=\"1\" /><path clip-path=\"url(#clip580)\" d=\"M64.6372 689.105 Q65.8321 689.105 66.5986 689.894 Q67.3651 690.661 67.3651 691.653 Q67.3651 692.509 66.8691 692.96 Q66.3731 693.411 65.7419 693.411 Q64.8401 693.411 64.0962 692.712 Q63.3522 692.013 63.1944 690.999 Q62.6534 691.743 62.6534 692.938 Q62.6534 694.899 64.1638 696.635 Q64.8627 697.401 66.1477 698.235 Q67.4102 699.07 67.9512 699.227 L73.9705 700.693 Q74.6468 700.828 77.8932 701.662 Q81.117 702.474 81.2522 702.541 Q81.8835 702.767 82.2216 703.263 Q82.5598 703.759 82.5598 704.255 Q82.5598 704.818 82.2216 705.202 Q81.8835 705.585 81.2973 705.585 Q81.2072 705.585 80.869 705.517 Q80.5308 705.45 80.0574 705.337 Q79.584 705.224 79.3134 705.179 L68.6501 702.496 Q66.7113 702 66.1026 701.888 Q65.4714 701.752 64.7725 701.752 Q63.5551 701.752 63.1042 702.136 Q62.6534 702.519 62.6534 703.195 Q62.6534 704.367 64.0511 705.134 Q65.4488 705.9 68.1541 706.554 Q68.8981 706.757 69.0559 706.892 Q69.2137 707.005 69.2137 707.343 Q69.1911 707.907 68.7403 707.907 Q68.6275 707.907 67.9061 707.727 Q67.1622 707.546 66.0801 707.208 Q64.9754 706.847 64.2765 706.464 Q63.8031 706.239 63.4875 706.036 Q63.1719 705.833 62.6759 705.427 Q62.1799 705.021 61.9094 704.413 Q61.6389 703.804 61.6389 703.06 Q61.6389 701.437 62.6308 700.287 Q63.6228 699.115 65.1783 698.844 Q64.3667 698.281 63.6678 697.582 Q62.9464 696.883 62.2926 695.598 Q61.6389 694.313 61.6389 692.938 Q61.6389 691.224 62.5181 690.165 Q63.3748 689.105 64.6372 689.105 Z\" fill=\"#000000\" fill-rule=\"evenodd\" fill-opacity=\"1\" /><path clip-path=\"url(#clip580)\" d=\"M1014.68 16.7545 L1014.68 25.383 Q1010.55 21.5346 1005.85 19.6307 Q1001.19 17.7268 995.922 17.7268 Q985.552 17.7268 980.042 24.0867 Q974.533 30.4061 974.533 42.3968 Q974.533 54.3469 980.042 60.7069 Q985.552 67.0263 995.922 67.0263 Q1001.19 67.0263 1005.85 65.1223 Q1010.55 63.2184 1014.68 59.3701 L1014.68 67.9175 Q1010.38 70.8341 1005.56 72.2924 Q1000.78 73.7508 995.436 73.7508 Q981.703 73.7508 973.804 65.3654 Q965.905 56.9395 965.905 42.3968 Q965.905 27.8135 973.804 19.4281 Q981.703 11.0023 995.436 11.0023 Q1000.86 11.0023 1005.64 12.4606 Q1010.46 13.8784 1014.68 16.7545 Z\" fill=\"#000000\" fill-rule=\"evenodd\" fill-opacity=\"1\" /><path clip-path=\"url(#clip580)\" d=\"M1026.99 9.54393 L1034.45 9.54393 L1034.45 72.576 L1026.99 72.576 L1026.99 9.54393 Z\" fill=\"#000000\" fill-rule=\"evenodd\" fill-opacity=\"1\" /><path clip-path=\"url(#clip580)\" d=\"M1049.27 54.671 L1049.27 27.2059 L1056.73 27.2059 L1056.73 54.3874 Q1056.73 60.8284 1059.24 64.0691 Q1061.75 67.2693 1066.77 67.2693 Q1072.81 67.2693 1076.29 63.421 Q1079.82 59.5726 1079.82 52.9291 L1079.82 27.2059 L1087.27 27.2059 L1087.27 72.576 L1079.82 72.576 L1079.82 65.6084 Q1077.1 69.7404 1073.5 71.7658 Q1069.93 73.7508 1065.19 73.7508 Q1057.37 73.7508 1053.32 68.8897 Q1049.27 64.0286 1049.27 54.671 M1068.03 26.1121 L1068.03 26.1121 Z\" fill=\"#000000\" fill-rule=\"evenodd\" fill-opacity=\"1\" /><path clip-path=\"url(#clip580)\" d=\"M1131.55 28.5427 L1131.55 35.5912 Q1128.39 33.9709 1124.98 33.1607 Q1121.58 32.3505 1117.94 32.3505 Q1112.39 32.3505 1109.59 34.0519 Q1106.84 35.7533 1106.84 39.156 Q1106.84 41.7486 1108.82 43.2475 Q1110.81 44.7058 1116.8 46.0426 L1119.35 46.6097 Q1127.29 48.3111 1130.61 51.4303 Q1133.98 54.509 1133.98 60.0587 Q1133.98 66.3781 1128.95 70.0644 Q1123.97 73.7508 1115.22 73.7508 Q1111.58 73.7508 1107.61 73.0216 Q1103.68 72.3329 1099.3 70.9151 L1099.3 63.2184 Q1103.43 65.3654 1107.44 66.4591 Q1111.45 67.5124 1115.38 67.5124 Q1120.65 67.5124 1123.48 65.73 Q1126.32 63.9071 1126.32 60.6258 Q1126.32 57.5877 1124.25 55.9673 Q1122.23 54.3469 1115.3 52.8481 L1112.71 52.2405 Q1105.78 50.7821 1102.7 47.7845 Q1099.63 44.7463 1099.63 39.4801 Q1099.63 33.0797 1104.16 29.5959 Q1108.7 26.1121 1117.04 26.1121 Q1121.18 26.1121 1124.82 26.7198 Q1128.47 27.3274 1131.55 28.5427 Z\" fill=\"#000000\" fill-rule=\"evenodd\" fill-opacity=\"1\" /><path clip-path=\"url(#clip580)\" d=\"M1153.22 14.324 L1153.22 27.2059 L1168.57 27.2059 L1168.57 32.9987 L1153.22 32.9987 L1153.22 57.6282 Q1153.22 63.1779 1154.72 64.7578 Q1156.26 66.3376 1160.92 66.3376 L1168.57 66.3376 L1168.57 72.576 L1160.92 72.576 Q1152.29 72.576 1149.01 69.3758 Q1145.72 66.1351 1145.72 57.6282 L1145.72 32.9987 L1140.26 32.9987 L1140.26 27.2059 L1145.72 27.2059 L1145.72 14.324 L1153.22 14.324 Z\" fill=\"#000000\" fill-rule=\"evenodd\" fill-opacity=\"1\" /><path clip-path=\"url(#clip580)\" d=\"M1217.18 48.0275 L1217.18 51.6733 L1182.91 51.6733 Q1183.4 59.3701 1187.53 63.421 Q1191.7 67.4314 1199.12 67.4314 Q1203.41 67.4314 1207.42 66.3781 Q1211.47 65.3249 1215.44 63.2184 L1215.44 70.267 Q1211.43 71.9684 1207.22 72.8596 Q1203 73.7508 1198.67 73.7508 Q1187.81 73.7508 1181.45 67.4314 Q1175.13 61.1119 1175.13 50.3365 Q1175.13 39.1965 1181.13 32.6746 Q1187.17 26.1121 1197.37 26.1121 Q1206.53 26.1121 1211.84 32.0264 Q1217.18 37.9003 1217.18 48.0275 M1209.73 45.84 Q1209.65 39.7232 1206.29 36.0774 Q1202.96 32.4315 1197.45 32.4315 Q1191.22 32.4315 1187.45 35.9558 Q1183.72 39.4801 1183.15 45.8805 L1209.73 45.84 Z\" fill=\"#000000\" fill-rule=\"evenodd\" fill-opacity=\"1\" /><path clip-path=\"url(#clip580)\" d=\"M1255.71 34.1734 Q1254.45 33.4443 1252.95 33.1202 Q1251.49 32.7556 1249.71 32.7556 Q1243.39 32.7556 1239.99 36.8875 Q1236.63 40.9789 1236.63 48.6757 L1236.63 72.576 L1229.13 72.576 L1229.13 27.2059 L1236.63 27.2059 L1236.63 34.2544 Q1238.98 30.1225 1242.74 28.1376 Q1246.51 26.1121 1251.9 26.1121 Q1252.67 26.1121 1253.6 26.2337 Q1254.53 26.3147 1255.67 26.5172 L1255.71 34.1734 Z\" fill=\"#000000\" fill-rule=\"evenodd\" fill-opacity=\"1\" /><path clip-path=\"url(#clip580)\" d=\"M1305.82 72.576 L1282.73 12.096 L1291.27 12.096 L1310.43 63.0159 L1329.64 12.096 L1338.14 12.096 L1315.09 72.576 L1305.82 72.576 Z\" fill=\"#000000\" fill-rule=\"evenodd\" fill-opacity=\"1\" /><path clip-path=\"url(#clip580)\" d=\"M1360.83 49.7694 Q1351.79 49.7694 1348.31 51.8354 Q1344.83 53.9013 1344.83 58.8839 Q1344.83 62.8538 1347.42 65.2034 Q1350.05 67.5124 1354.55 67.5124 Q1360.75 67.5124 1364.47 63.1374 Q1368.24 58.7219 1368.24 51.4303 L1368.24 49.7694 L1360.83 49.7694 M1375.69 46.6907 L1375.69 72.576 L1368.24 72.576 L1368.24 65.6895 Q1365.69 69.8214 1361.88 71.8063 Q1358.07 73.7508 1352.56 73.7508 Q1345.6 73.7508 1341.46 69.8619 Q1337.37 65.9325 1337.37 59.3701 Q1337.37 51.7138 1342.48 47.825 Q1347.62 43.9361 1357.79 43.9361 L1368.24 43.9361 L1368.24 43.2069 Q1368.24 38.0623 1364.84 35.2672 Q1361.48 32.4315 1355.36 32.4315 Q1351.47 32.4315 1347.78 33.3632 Q1344.1 34.295 1340.69 36.1584 L1340.69 29.2718 Q1344.79 27.692 1348.63 26.9223 Q1352.48 26.1121 1356.13 26.1121 Q1365.97 26.1121 1370.83 31.2163 Q1375.69 36.3204 1375.69 46.6907 Z\" fill=\"#000000\" fill-rule=\"evenodd\" fill-opacity=\"1\" /><path clip-path=\"url(#clip580)\" d=\"M1417.34 34.1734 Q1416.08 33.4443 1414.58 33.1202 Q1413.12 32.7556 1411.34 32.7556 Q1405.02 32.7556 1401.62 36.8875 Q1398.26 40.9789 1398.26 48.6757 L1398.26 72.576 L1390.76 72.576 L1390.76 27.2059 L1398.26 27.2059 L1398.26 34.2544 Q1400.61 30.1225 1404.37 28.1376 Q1408.14 26.1121 1413.53 26.1121 Q1414.3 26.1121 1415.23 26.2337 Q1416.16 26.3147 1417.3 26.5172 L1417.34 34.1734 Z\" fill=\"#000000\" fill-rule=\"evenodd\" fill-opacity=\"1\" /><path clip-path=\"url(#clip580)\" d=\"M1425.16 27.2059 L1432.61 27.2059 L1432.61 72.576 L1425.16 72.576 L1425.16 27.2059 M1425.16 9.54393 L1432.61 9.54393 L1432.61 18.9825 L1425.16 18.9825 L1425.16 9.54393 Z\" fill=\"#000000\" fill-rule=\"evenodd\" fill-opacity=\"1\" /><path clip-path=\"url(#clip580)\" d=\"M1468.82 49.7694 Q1459.79 49.7694 1456.31 51.8354 Q1452.82 53.9013 1452.82 58.8839 Q1452.82 62.8538 1455.42 65.2034 Q1458.05 67.5124 1462.55 67.5124 Q1468.74 67.5124 1472.47 63.1374 Q1476.24 58.7219 1476.24 51.4303 L1476.24 49.7694 L1468.82 49.7694 M1483.69 46.6907 L1483.69 72.576 L1476.24 72.576 L1476.24 65.6895 Q1473.69 69.8214 1469.88 71.8063 Q1466.07 73.7508 1460.56 73.7508 Q1453.59 73.7508 1449.46 69.8619 Q1445.37 65.9325 1445.37 59.3701 Q1445.37 51.7138 1450.47 47.825 Q1455.62 43.9361 1465.79 43.9361 L1476.24 43.9361 L1476.24 43.2069 Q1476.24 38.0623 1472.83 35.2672 Q1469.47 32.4315 1463.36 32.4315 Q1459.47 32.4315 1455.78 33.3632 Q1452.09 34.295 1448.69 36.1584 L1448.69 29.2718 Q1452.78 27.692 1456.63 26.9223 Q1460.48 26.1121 1464.13 26.1121 Q1473.97 26.1121 1478.83 31.2163 Q1483.69 36.3204 1483.69 46.6907 Z\" fill=\"#000000\" fill-rule=\"evenodd\" fill-opacity=\"1\" /><path clip-path=\"url(#clip580)\" d=\"M1536.76 45.1919 L1536.76 72.576 L1529.3 72.576 L1529.3 45.4349 Q1529.3 38.994 1526.79 35.7938 Q1524.28 32.5936 1519.26 32.5936 Q1513.22 32.5936 1509.74 36.4419 Q1506.25 40.2903 1506.25 46.9338 L1506.25 72.576 L1498.76 72.576 L1498.76 27.2059 L1506.25 27.2059 L1506.25 34.2544 Q1508.93 30.163 1512.53 28.1376 Q1516.18 26.1121 1520.92 26.1121 Q1528.74 26.1121 1532.75 30.9732 Q1536.76 35.7938 1536.76 45.1919 Z\" fill=\"#000000\" fill-rule=\"evenodd\" fill-opacity=\"1\" /><path clip-path=\"url(#clip580)\" d=\"M1584.28 28.9478 L1584.28 35.9153 Q1581.12 34.1734 1577.92 33.3227 Q1574.76 32.4315 1571.51 32.4315 Q1564.26 32.4315 1560.25 37.0496 Q1556.24 41.6271 1556.24 49.9314 Q1556.24 58.2358 1560.25 62.8538 Q1564.26 67.4314 1571.51 67.4314 Q1574.76 67.4314 1577.92 66.5807 Q1581.12 65.6895 1584.28 63.9476 L1584.28 70.8341 Q1581.16 72.2924 1577.79 73.0216 Q1574.47 73.7508 1570.7 73.7508 Q1560.46 73.7508 1554.42 67.3098 Q1548.38 60.8689 1548.38 49.9314 Q1548.38 38.832 1554.46 32.472 Q1560.58 26.1121 1571.19 26.1121 Q1574.63 26.1121 1577.92 26.8413 Q1581.2 27.5299 1584.28 28.9478 Z\" fill=\"#000000\" fill-rule=\"evenodd\" fill-opacity=\"1\" /><path clip-path=\"url(#clip580)\" d=\"M1636.05 48.0275 L1636.05 51.6733 L1601.78 51.6733 Q1602.26 59.3701 1606.39 63.421 Q1610.57 67.4314 1617.98 67.4314 Q1622.27 67.4314 1626.28 66.3781 Q1630.33 65.3249 1634.3 63.2184 L1634.3 70.267 Q1630.29 71.9684 1626.08 72.8596 Q1621.87 73.7508 1617.53 73.7508 Q1606.68 73.7508 1600.32 67.4314 Q1594 61.1119 1594 50.3365 Q1594 39.1965 1599.99 32.6746 Q1606.03 26.1121 1616.24 26.1121 Q1625.39 26.1121 1630.7 32.0264 Q1636.05 37.9003 1636.05 48.0275 M1628.59 45.84 Q1628.51 39.7232 1625.15 36.0774 Q1621.83 32.4315 1616.32 32.4315 Q1610.08 32.4315 1606.31 35.9558 Q1602.59 39.4801 1602.02 45.8805 L1628.59 45.84 Z\" fill=\"#000000\" fill-rule=\"evenodd\" fill-opacity=\"1\" /><polyline clip-path=\"url(#clip582)\" style=\"stroke:#009af9; stroke-linecap:round; stroke-linejoin:round; stroke-width:4; stroke-opacity:1; fill:none\" points=\"\n",
       "  308.73,160.256 418.979,944.822 529.229,1248.89 639.478,1386.4 749.728,1251.24 859.977,1293.96 970.227,1143.63 1080.48,1120.33 1190.73,1105.82 1300.98,1083.44 \n",
       "  1411.22,1047.96 1521.47,1020.41 1631.72,985.439 1741.97,968.977 1852.22,979.455 1962.47,980.657 2072.72,982.989 2182.97,1001.42 2293.22,1001.42 \n",
       "  \"/>\n",
       "<path clip-path=\"url(#clip580)\" d=\"\n",
       "M1931.75 313.758 L2282.64 313.758 L2282.64 166.796 L1931.75 166.796  Z\n",
       "  \" fill=\"#ffffff\" fill-rule=\"evenodd\" fill-opacity=\"1\"/>\n",
       "<polyline clip-path=\"url(#clip580)\" style=\"stroke:#000000; stroke-linecap:round; stroke-linejoin:round; stroke-width:4; stroke-opacity:1; fill:none\" points=\"\n",
       "  1931.75,313.758 2282.64,313.758 2282.64,166.796 1931.75,166.796 1931.75,313.758 \n",
       "  \"/>\n",
       "<polyline clip-path=\"url(#clip580)\" style=\"stroke:#009af9; stroke-linecap:round; stroke-linejoin:round; stroke-width:4; stroke-opacity:1; fill:none\" points=\"\n",
       "  1955.13,240.277 2095.37,240.277 \n",
       "  \"/>\n",
       "<path clip-path=\"url(#clip580)\" d=\"M2145.7 229.576 Q2145.7 230.021 2145.51 230.231 Q2145.32 230.419 2145.11 230.466 Q2144.9 230.489 2144.41 230.489 Q2143.4 230.489 2142.86 230.559 Q2142.32 230.63 2142 230.934 Q2141.67 231.215 2141.55 231.496 Q2141.46 231.777 2141.29 232.503 L2135.67 254.895 Q2134.81 258.338 2131.67 260.587 Q2128.53 262.812 2125.09 262.812 Q2122.27 262.812 2120.49 261.336 Q2118.74 259.837 2118.74 257.589 Q2118.74 256.441 2119.11 255.621 Q2119.49 254.802 2120.05 254.427 Q2120.61 254.052 2121.08 253.912 Q2121.57 253.748 2121.97 253.748 Q2122.74 253.748 2123.4 254.239 Q2124.08 254.731 2124.08 255.762 Q2124.08 256.91 2123.19 257.87 Q2122.3 258.83 2120.96 258.83 Q2120.52 258.83 2120.38 258.783 Q2120.73 259.931 2121.64 260.657 Q2122.56 261.36 2123.35 261.571 Q2124.17 261.758 2124.94 261.758 Q2126.96 261.758 2129 259.814 Q2131.03 257.87 2131.85 254.567 L2137.36 232.55 Q2137.55 231.801 2137.55 231.543 Q2137.55 231.051 2137.24 230.887 Q2136.96 230.7 2136.07 230.583 Q2134.88 230.489 2133.28 230.489 Q2132.72 230.489 2132.49 230.489 Q2132.25 230.466 2132.02 230.419 Q2131.78 230.372 2131.71 230.278 Q2131.64 230.161 2131.64 229.95 Q2131.64 229.505 2131.83 229.295 Q2132.02 229.06 2132.18 229.037 Q2132.35 228.99 2132.65 228.99 L2139.7 229.131 Q2140.31 229.131 2142.37 229.06 Q2144.43 228.99 2145.04 228.99 Q2145.7 228.99 2145.7 229.576 Z\" fill=\"#000000\" fill-rule=\"evenodd\" fill-opacity=\"1\" /><path clip-path=\"url(#clip580)\" d=\"M2163.48 272.759 Q2163.61 272.907 2163.61 273.055 Q2163.61 273.202 2163.28 273.628 Q2162.97 274.055 2162.3 274.629 Q2161.63 275.202 2160.76 275.743 Q2159.89 276.285 2158.61 276.645 Q2157.33 277.022 2155.99 277.022 Q2153.48 277.022 2152 275.366 Q2150.55 273.71 2150.55 271.333 Q2150.55 269.021 2151.84 266.808 Q2153.14 264.578 2155.23 263.201 Q2157.33 261.807 2159.55 261.807 Q2161.3 261.807 2162.4 262.627 Q2163.5 263.447 2163.5 264.693 Q2163.5 265.66 2162.94 266.25 Q2162.38 266.841 2161.63 266.841 Q2161.1 266.841 2160.74 266.545 Q2160.38 266.234 2160.38 265.66 Q2160.38 264.922 2160.99 264.348 Q2161.22 264.119 2161.48 264.021 Q2161.76 263.906 2161.92 263.906 Q2162.09 263.889 2162.47 263.889 Q2162.12 263.25 2161.3 262.906 Q2160.5 262.545 2159.58 262.545 Q2158.22 262.545 2156.92 263.496 Q2155.63 264.43 2154.84 265.906 Q2154.05 267.349 2153.55 269.398 Q2153.04 271.431 2153.04 272.612 Q2153.04 274.235 2153.79 275.252 Q2154.55 276.268 2156.05 276.268 Q2156.35 276.268 2156.66 276.252 Q2156.99 276.235 2157.81 276.055 Q2158.64 275.875 2159.38 275.563 Q2160.12 275.252 2161.06 274.579 Q2162.01 273.891 2162.76 272.956 Q2163.02 272.612 2163.2 272.612 Q2163.35 272.612 2163.48 272.759 Z\" fill=\"#000000\" fill-rule=\"evenodd\" fill-opacity=\"1\" /><path clip-path=\"url(#clip580)\" d=\"M2171.84 253.708 L2167.01 273.12 Q2166.81 273.891 2166.81 274.727 Q2166.81 276.268 2167.83 276.268 Q2168.3 276.268 2168.69 275.957 Q2169.09 275.629 2169.38 274.989 Q2169.69 274.333 2169.89 273.71 Q2170.1 273.087 2170.37 272.12 Q2170.45 271.743 2170.53 271.628 Q2170.61 271.513 2170.84 271.513 Q2171.25 271.513 2171.25 271.841 Q2170.84 273.858 2170.24 275.137 Q2169.35 277.022 2167.71 277.022 Q2166.48 277.022 2165.56 276.17 Q2164.66 275.301 2164.66 273.924 Q2164.66 273.399 2164.83 272.776 L2169.06 255.987 L2169.17 255.331 Q2169.17 255.15 2169.1 255.052 Q2169.04 254.954 2168.65 254.855 Q2168.27 254.757 2167.51 254.757 Q2167.2 254.757 2167.05 254.741 Q2166.92 254.724 2166.79 254.642 Q2166.68 254.56 2166.68 254.38 Q2166.68 254.085 2166.79 253.921 Q2166.92 253.757 2167.02 253.724 Q2167.12 253.691 2167.32 253.675 Q2167.6 253.658 2168.53 253.576 Q2169.47 253.478 2170.27 253.413 Q2171.07 253.347 2171.42 253.347 Q2171.61 253.347 2171.71 253.445 Q2171.83 253.527 2171.84 253.626 L2171.84 253.708 Z\" fill=\"#000000\" fill-rule=\"evenodd\" fill-opacity=\"1\" /><path clip-path=\"url(#clip580)\" d=\"M2191.56 271.841 Q2191.13 273.956 2190.56 275.17 Q2189.63 277.022 2188.07 277.022 Q2186.99 277.022 2186.17 276.416 Q2185.36 275.793 2185.08 274.76 Q2184.77 275.17 2184.49 275.448 Q2184.23 275.727 2183.72 276.153 Q2183.22 276.563 2182.53 276.793 Q2181.85 277.022 2181.08 277.022 Q2180.49 277.022 2179.95 276.908 Q2179.41 276.809 2178.84 276.53 Q2178.28 276.235 2177.87 275.793 Q2177.48 275.35 2177.21 274.629 Q2176.95 273.907 2176.95 272.989 Q2176.95 271.841 2177.39 270.284 Q2177.85 268.726 2178.9 265.939 Q2179.48 264.463 2179.48 263.643 Q2179.48 263.266 2179.39 263.02 Q2179.31 262.774 2179.15 262.692 Q2179 262.594 2178.9 262.578 Q2178.8 262.545 2178.64 262.545 Q2177.62 262.545 2176.74 263.578 Q2175.85 264.611 2175.25 266.709 Q2175.12 267.119 2175.03 267.218 Q2174.95 267.316 2174.71 267.316 Q2174.3 267.3 2174.3 266.972 Q2174.3 266.841 2174.44 266.332 Q2174.59 265.808 2174.94 265.037 Q2175.3 264.25 2175.79 263.545 Q2176.28 262.824 2177.05 262.315 Q2177.84 261.807 2178.74 261.807 Q2179.97 261.807 2180.72 262.611 Q2181.49 263.398 2181.49 264.562 Q2181.49 265.283 2180.92 266.677 Q2179.1 271.513 2179.1 273.53 Q2179.1 276.268 2181.18 276.268 Q2181.87 276.268 2182.51 275.989 Q2183.17 275.711 2183.59 275.317 Q2184.02 274.924 2184.35 274.497 Q2184.69 274.071 2184.84 273.792 Q2185 273.514 2185.02 273.448 L2187.53 263.348 Q2187.63 262.955 2187.81 262.692 Q2188 262.414 2188.23 262.315 Q2188.46 262.217 2188.59 262.201 Q2188.72 262.168 2188.84 262.168 Q2189.25 262.168 2189.53 262.414 Q2189.82 262.66 2189.82 263.086 Q2189.82 263.168 2189.72 263.561 Q2189.64 263.939 2189.51 264.496 Q2189.38 265.037 2189.31 265.332 Q2188.79 267.398 2188.74 267.611 L2187.81 271.235 Q2187.76 271.448 2187.59 272.136 Q2187.45 272.825 2187.36 273.186 Q2187.28 273.53 2187.2 274.006 Q2187.13 274.465 2187.13 274.727 Q2187.13 275.547 2187.38 275.907 Q2187.63 276.268 2188.17 276.268 Q2188.67 276.268 2189.07 275.924 Q2189.48 275.563 2189.79 274.875 Q2190.1 274.169 2190.28 273.596 Q2190.46 273.022 2190.69 272.12 Q2190.77 271.727 2190.84 271.628 Q2190.92 271.513 2191.15 271.513 Q2191.56 271.513 2191.56 271.841 Z\" fill=\"#000000\" fill-rule=\"evenodd\" fill-opacity=\"1\" /><path clip-path=\"url(#clip580)\" d=\"M2205.94 264.693 Q2205.94 265.611 2205.48 266.103 Q2205.02 266.578 2204.4 266.578 Q2203.89 266.578 2203.61 266.283 Q2203.35 265.988 2203.35 265.595 Q2203.35 265.021 2203.81 264.562 Q2204.28 264.103 2204.97 264.086 Q2204.74 263.479 2204.14 263.119 Q2203.53 262.742 2202.99 262.643 Q2202.46 262.545 2201.94 262.545 Q2200.91 262.545 2200.12 262.873 Q2199.33 263.201 2198.94 263.709 Q2198.54 264.201 2198.36 264.676 Q2198.18 265.152 2198.18 265.562 Q2198.18 265.922 2198.27 266.218 Q2198.36 266.496 2198.59 266.709 Q2198.82 266.906 2198.99 267.037 Q2199.17 267.169 2199.56 267.283 Q2199.95 267.398 2200.12 267.447 Q2200.28 267.48 2200.74 267.578 Q2201.69 267.775 2202.12 267.89 Q2202.54 267.988 2203.1 268.267 Q2203.68 268.546 2204.1 268.988 Q2205.14 270.021 2205.14 271.448 Q2205.14 271.972 2204.95 272.612 Q2204.79 273.251 2204.32 274.055 Q2203.84 274.858 2203.12 275.498 Q2202.4 276.137 2201.15 276.58 Q2199.92 277.022 2198.38 277.022 Q2196.23 277.022 2194.9 276.121 Q2193.58 275.202 2193.58 273.76 Q2193.58 272.71 2194.15 272.136 Q2194.72 271.546 2195.46 271.546 Q2196.02 271.546 2196.36 271.858 Q2196.71 272.153 2196.71 272.71 Q2196.71 273.464 2196.1 274.038 Q2195.49 274.612 2194.59 274.497 Q2195.36 276.268 2198.41 276.268 Q2199.56 276.268 2200.45 275.973 Q2201.35 275.662 2201.84 275.235 Q2202.35 274.793 2202.68 274.251 Q2203 273.71 2203.1 273.301 Q2203.22 272.891 2203.22 272.579 Q2203.22 272.038 2203 271.628 Q2202.79 271.218 2202.5 270.989 Q2202.22 270.743 2201.68 270.546 Q2201.15 270.333 2200.77 270.251 Q2200.4 270.169 2199.72 270.038 Q2199.41 269.972 2199.22 269.939 Q2199.02 269.89 2198.61 269.759 Q2198.22 269.611 2197.94 269.464 Q2197.68 269.316 2197.33 269.054 Q2196.99 268.792 2196.77 268.48 Q2196.56 268.169 2196.41 267.71 Q2196.27 267.251 2196.27 266.709 Q2196.27 266.218 2196.41 265.627 Q2196.58 265.037 2196.99 264.348 Q2197.41 263.66 2198.02 263.102 Q2198.63 262.545 2199.64 262.184 Q2200.68 261.807 2201.94 261.807 Q2203.77 261.807 2204.86 262.66 Q2205.94 263.496 2205.94 264.693 Z\" fill=\"#000000\" fill-rule=\"evenodd\" fill-opacity=\"1\" /><path clip-path=\"url(#clip580)\" d=\"M2218.32 262.545 Q2218.32 263.004 2218.11 263.119 Q2217.89 263.217 2217.3 263.217 L2214.15 263.217 L2211.66 273.12 Q2211.47 273.989 2211.47 274.727 Q2211.47 275.547 2211.71 275.907 Q2211.97 276.268 2212.51 276.268 Q2213.58 276.268 2214.73 275.301 Q2215.89 274.333 2216.88 271.972 Q2217.01 271.661 2217.07 271.595 Q2217.15 271.513 2217.37 271.513 Q2217.78 271.513 2217.78 271.841 Q2217.78 271.956 2217.55 272.481 Q2217.33 273.005 2216.86 273.776 Q2216.4 274.547 2215.79 275.268 Q2215.2 275.989 2214.3 276.514 Q2213.4 277.022 2212.43 277.022 Q2211.07 277.022 2210.2 276.153 Q2209.35 275.284 2209.35 273.924 Q2209.35 273.481 2209.69 272.071 Q2210.04 270.644 2211.91 263.217 L2208.94 263.217 Q2208.53 263.217 2208.37 263.201 Q2208.22 263.184 2208.1 263.102 Q2208.01 263.004 2208.01 262.807 Q2208.01 262.496 2208.14 262.365 Q2208.27 262.217 2208.43 262.201 Q2208.61 262.168 2209.02 262.168 L2212.17 262.168 L2213.48 256.839 Q2213.61 256.315 2213.94 256.019 Q2214.29 255.708 2214.48 255.675 Q2214.68 255.626 2214.83 255.626 Q2215.27 255.626 2215.53 255.872 Q2215.79 256.101 2215.79 256.528 Q2215.79 256.757 2214.42 262.168 L2217.37 262.168 Q2217.74 262.168 2217.89 262.184 Q2218.06 262.201 2218.19 262.283 Q2218.32 262.365 2218.32 262.545 Z\" fill=\"#000000\" fill-rule=\"evenodd\" fill-opacity=\"1\" /><path clip-path=\"url(#clip580)\" d=\"M2231.99 272.759 Q2232.13 272.907 2232.13 273.055 Q2232.13 273.202 2231.8 273.628 Q2231.49 274.055 2230.81 274.629 Q2230.14 275.202 2229.27 275.743 Q2228.4 276.285 2227.13 276.645 Q2225.85 277.022 2224.5 277.022 Q2222.09 277.022 2220.65 275.301 Q2219.22 273.579 2219.22 270.94 Q2219.22 269.251 2219.78 267.759 Q2220.34 266.25 2221.24 265.185 Q2222.16 264.119 2223.31 263.348 Q2224.47 262.561 2225.68 262.184 Q2226.9 261.807 2228.03 261.807 Q2229.68 261.807 2230.65 262.643 Q2231.62 263.479 2231.62 264.66 Q2231.62 264.939 2231.54 265.283 Q2231.47 265.627 2231.24 266.168 Q2231.03 266.709 2230.47 267.251 Q2229.91 267.775 2229.09 268.119 Q2227.27 268.89 2223.96 268.89 L2222.17 268.89 Q2221.65 271.005 2221.65 272.382 Q2221.65 272.923 2221.75 273.481 Q2221.85 274.022 2222.11 274.711 Q2222.39 275.399 2223.01 275.842 Q2223.65 276.268 2224.57 276.268 Q2224.86 276.268 2225.17 276.252 Q2225.5 276.235 2226.32 276.055 Q2227.16 275.875 2227.9 275.563 Q2228.63 275.252 2229.57 274.579 Q2230.52 273.891 2231.27 272.956 Q2231.54 272.612 2231.72 272.612 Q2231.86 272.612 2231.99 272.759 M2230.5 264.66 Q2230.5 263.758 2229.83 263.152 Q2229.17 262.545 2228.03 262.545 Q2227.67 262.545 2227.22 262.627 Q2226.78 262.709 2226.04 263.053 Q2225.32 263.398 2224.68 263.971 Q2224.04 264.529 2223.4 265.627 Q2222.76 266.709 2222.39 268.152 L2223.76 268.152 Q2224.24 268.152 2224.58 268.152 Q2224.93 268.136 2225.68 268.07 Q2226.45 268.005 2227.01 267.89 Q2227.57 267.759 2228.27 267.496 Q2228.98 267.234 2229.42 266.89 Q2229.88 266.529 2230.19 265.955 Q2230.5 265.381 2230.5 264.66 Z\" fill=\"#000000\" fill-rule=\"evenodd\" fill-opacity=\"1\" /><path clip-path=\"url(#clip580)\" d=\"M2247.71 263.988 Q2247.71 264.857 2247.14 265.414 Q2246.58 265.972 2245.86 265.972 Q2245.24 265.972 2244.91 265.611 Q2244.58 265.25 2244.58 264.791 Q2244.58 264.135 2245.09 263.594 Q2245.6 263.053 2246.34 262.938 Q2245.79 262.545 2244.93 262.545 Q2243.5 262.545 2242.24 263.643 Q2241.68 264.152 2241.07 265.086 Q2240.47 266.004 2240.35 266.398 L2239.29 270.776 Q2239.19 271.267 2238.58 273.628 Q2237.99 275.973 2237.94 276.071 Q2237.78 276.53 2237.42 276.776 Q2237.06 277.022 2236.7 277.022 Q2236.29 277.022 2236.01 276.776 Q2235.73 276.53 2235.73 276.104 Q2235.73 276.039 2235.78 275.793 Q2235.83 275.547 2235.91 275.202 Q2235.99 274.858 2236.02 274.661 L2237.97 266.906 Q2238.33 265.496 2238.42 265.053 Q2238.52 264.594 2238.52 264.086 Q2238.52 263.201 2238.24 262.873 Q2237.96 262.545 2237.47 262.545 Q2236.61 262.545 2236.06 263.561 Q2235.5 264.578 2235.02 266.545 Q2234.88 267.087 2234.78 267.201 Q2234.69 267.316 2234.45 267.316 Q2234.04 267.3 2234.04 266.972 Q2234.04 266.89 2234.17 266.365 Q2234.3 265.824 2234.55 265.037 Q2234.81 264.234 2235.09 263.725 Q2235.25 263.381 2235.4 263.152 Q2235.55 262.922 2235.84 262.561 Q2236.14 262.201 2236.58 262.004 Q2237.02 261.807 2237.56 261.807 Q2238.74 261.807 2239.58 262.529 Q2240.43 263.25 2240.63 264.381 Q2241.04 263.791 2241.55 263.283 Q2242.06 262.758 2242.99 262.283 Q2243.93 261.807 2244.93 261.807 Q2246.17 261.807 2246.94 262.447 Q2247.71 263.07 2247.71 263.988 Z\" fill=\"#000000\" fill-rule=\"evenodd\" fill-opacity=\"1\" /><path clip-path=\"url(#clip580)\" d=\"M2150.55 220.079 Q2150.55 214.406 2152.66 209.832 Q2153.56 207.913 2154.82 206.307 Q2156.09 204.7 2156.92 203.995 Q2157.76 203.29 2157.99 203.29 Q2158.32 203.29 2158.33 203.618 Q2158.33 203.782 2157.89 204.192 Q2152.48 209.701 2152.5 220.079 Q2152.5 230.49 2157.76 235.786 Q2158.33 236.36 2158.33 236.54 Q2158.33 236.868 2157.99 236.868 Q2157.76 236.868 2156.96 236.196 Q2156.15 235.524 2154.91 233.983 Q2153.66 232.441 2152.76 230.556 Q2150.55 225.982 2150.55 220.079 Z\" fill=\"#000000\" fill-rule=\"evenodd\" fill-opacity=\"1\" /><path clip-path=\"url(#clip580)\" d=\"M2169.32 207.487 Q2169.32 208.209 2168.73 208.75 Q2168.16 209.274 2167.54 209.274 Q2166.96 209.274 2166.6 208.93 Q2166.26 208.569 2166.26 208.061 Q2166.26 207.389 2166.83 206.831 Q2167.4 206.274 2168.08 206.274 Q2168.63 206.274 2168.98 206.618 Q2169.32 206.963 2169.32 207.487 M2169.62 223.67 Q2169.62 223.801 2169.47 224.326 Q2169.32 224.834 2168.96 225.621 Q2168.62 226.391 2168.14 227.113 Q2167.67 227.834 2166.88 228.343 Q2166.11 228.851 2165.22 228.851 Q2164.03 228.851 2163.24 228.064 Q2162.47 227.277 2162.47 226.096 Q2162.47 225.457 2163.24 223.407 Q2165.47 217.439 2165.55 217.193 Q2165.93 216.259 2165.93 215.439 Q2165.93 215.062 2165.85 214.832 Q2165.77 214.587 2165.6 214.505 Q2165.44 214.406 2165.34 214.39 Q2165.26 214.373 2165.09 214.373 Q2164.13 214.373 2163.22 215.357 Q2162.32 216.341 2161.7 218.538 Q2161.57 218.948 2161.49 219.046 Q2161.4 219.145 2161.16 219.145 Q2160.75 219.128 2160.75 218.8 Q2160.75 218.702 2160.86 218.325 Q2160.98 217.931 2161.19 217.341 Q2161.4 216.734 2161.78 216.111 Q2162.16 215.472 2162.62 214.914 Q2163.09 214.357 2163.77 213.996 Q2164.44 213.636 2165.19 213.636 Q2166.42 213.636 2167.18 214.439 Q2167.95 215.226 2167.95 216.39 Q2167.95 217.029 2167.5 218.161 Q2166.96 219.636 2166.77 220.112 L2165.45 223.637 Q2164.98 224.916 2164.83 225.309 Q2164.7 225.686 2164.58 226.145 Q2164.49 226.588 2164.49 226.998 Q2164.49 227.572 2164.67 227.834 Q2164.86 228.097 2165.29 228.097 Q2166.47 228.097 2167.34 226.932 Q2168.21 225.752 2168.72 223.948 Q2168.73 223.899 2168.75 223.817 Q2168.88 223.407 2169.01 223.358 Q2169.08 223.342 2169.21 223.342 Q2169.62 223.342 2169.62 223.67 Z\" fill=\"#000000\" fill-rule=\"evenodd\" fill-opacity=\"1\" /><path clip-path=\"url(#clip580)\" d=\"M2173.69 236.54 Q2173.69 236.376 2174.12 235.967 Q2179.53 230.458 2179.53 220.079 Q2179.53 209.668 2174.33 204.405 Q2173.69 203.798 2173.69 203.618 Q2173.69 203.29 2174.02 203.29 Q2174.25 203.29 2175.05 203.962 Q2175.87 204.634 2177.1 206.176 Q2178.35 207.717 2179.26 209.602 Q2181.48 214.177 2181.48 220.079 Q2181.48 225.752 2179.36 230.326 Q2178.46 232.245 2177.2 233.851 Q2175.94 235.458 2175.1 236.163 Q2174.26 236.868 2174.02 236.868 Q2173.69 236.868 2173.69 236.54 Z\" fill=\"#000000\" fill-rule=\"evenodd\" fill-opacity=\"1\" /></svg>\n"
      ]
     },
     "execution_count": 202,
     "metadata": {},
     "output_type": "execute_result"
    }
   ],
   "source": [
    "Plots.plot(1:iterations, J_iters, label=L\"$J_{cluster}^{(i)}$\", xticks=(1:iterations, 1:iterations))\n",
    "xlabel!(\"Iteration\")\n",
    "ylabel!(L\"$J_{cluster}$\")\n",
    "title!(\"Cluster Variance\")"
   ]
  },
  {
   "cell_type": "markdown",
   "id": "a9a86fc6",
   "metadata": {},
   "source": [
    "## Results"
   ]
  },
  {
   "cell_type": "code",
   "execution_count": 203,
   "id": "c018f2d1",
   "metadata": {},
   "outputs": [
    {
     "name": "stdout",
     "output_type": "stream",
     "text": [
      "Number of iterations for convergence = 19\n",
      "Total time taken for clustering = 307 milliseconds"
     ]
    }
   ],
   "source": [
    "println(\"Number of iterations for convergence = \", iterations)\n",
    "print(\"Total time taken for clustering = \", end_time - start_time)"
   ]
  },
  {
   "cell_type": "code",
   "execution_count": 204,
   "id": "e8295543",
   "metadata": {},
   "outputs": [
    {
     "name": "stdout",
     "output_type": "stream",
     "text": [
      "The number of samples in each cluster is\n",
      "[272, 113, 172, 193]"
     ]
    }
   ],
   "source": [
    "number_per_cluster = [0, 0, 0, 0]\n",
    "for k = 1:CLUSTERS\n",
    "    for i = 1:SAMPLES\n",
    "        if df[i, :id] == k\n",
    "            number_per_cluster[k] += 1\n",
    "        end\n",
    "    end\n",
    "end\n",
    "println(\"The number of samples in each cluster is\")\n",
    "print(number_per_cluster)"
   ]
  },
  {
   "cell_type": "markdown",
   "id": "16418dec",
   "metadata": {},
   "source": [
    "Writing the clustering output to output.csv\n",
    "\n",
    "Output format:\n",
    "- Firstly, each input vector along with the cluster assigned to it\n",
    "- After an empty line, the number of iterations required to converge\n",
    "- Followed by four lines containing the number of input vectors in each cluster"
   ]
  },
  {
   "cell_type": "code",
   "execution_count": 205,
   "id": "bcbdf497",
   "metadata": {},
   "outputs": [],
   "source": [
    "df2 = DataFrame(CSV.File(INFILE))\n",
    "delete!(df2, [1])\n",
    "df2[!, 1] = parse.(Float64, df2[!, 1])\n",
    "df2[!, :id] = df[!, :id]\n",
    "\n",
    "CSV.write(OUTFILE, df2, header=false)\n",
    "open(OUTFILE, \"a\") do outfile\n",
    "    println(outfile, \"\")\n",
    "    println(outfile, string(iterations))\n",
    "    println(outfile, \"\")\n",
    "    for n in number_per_cluster\n",
    "        println(outfile, string(n))\n",
    "    end\n",
    "end"
   ]
  }
 ],
 "metadata": {
  "kernelspec": {
   "display_name": "Julia 1.7.3",
   "language": "julia",
   "name": "julia-1.7"
  },
  "language_info": {
   "file_extension": ".jl",
   "mimetype": "application/julia",
   "name": "julia",
   "version": "1.7.3"
  }
 },
 "nbformat": 4,
 "nbformat_minor": 5
}
